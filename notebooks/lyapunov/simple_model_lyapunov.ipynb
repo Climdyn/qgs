{
 "cells": [
  {
   "cell_type": "markdown",
   "metadata": {},
   "source": [
    "# QGS model: Simple run example with computation of the Lyapunov vectors (see last section)"
   ]
  },
  {
   "cell_type": "markdown",
   "metadata": {},
   "source": [
    "## Reinhold and Pierrehumbert 1982 model version"
   ]
  },
  {
   "cell_type": "markdown",
   "metadata": {},
   "source": [
    "This model version is a simple 2-layer channel QG atmosphere truncated at wavenumber 2 on a beta-plane with a simple orography (a montain and a valley). \n",
    "\n",
    "More detail can be found in the articles:\n",
    "* Reinhold, B. B., & Pierrehumbert, R. T. (1982). *Dynamics of weather regimes: Quasi-stationary waves and blocking*. Monthly Weather Review, **110** (9), 1105-1145. [doi:10.1175/1520-0493(1982)110%3C1105:DOWRQS%3E2.0.CO;2](https://doi.org/10.1175/1520-0493(1982)110%3C1105:DOWRQS%3E2.0.CO;2)\n",
    "* Cehelsky, P., & Tung, K. K. (1987). *Theories of multiple equilibria and weather regimes—A critical reexamination. Part II: Baroclinic two-layer models*. Journal of the atmospheric sciences, **44** (21), 3282-3303. [doi:10.1175/1520-0469(1987)044%3C3282%3ATOMEAW%3E2.0.CO%3B2](https://doi.org/10.1175/1520-0469(1987)044%3C3282%3ATOMEAW%3E2.0.CO%3B2)"
   ]
  },
  {
   "cell_type": "markdown",
   "metadata": {},
   "source": [
    "## Modules import"
   ]
  },
  {
   "cell_type": "markdown",
   "metadata": {},
   "source": [
    "First, setting the path and loading of some modules"
   ]
  },
  {
   "cell_type": "code",
   "execution_count": null,
   "metadata": {},
   "outputs": [],
   "source": [
    "import sys, os"
   ]
  },
  {
   "cell_type": "code",
   "execution_count": null,
   "metadata": {},
   "outputs": [],
   "source": [
    "sys.path.extend([os.path.abspath('../../')])"
   ]
  },
  {
   "cell_type": "code",
   "execution_count": null,
   "metadata": {},
   "outputs": [],
   "source": [
    "import numpy as np\n",
    "import matplotlib.pyplot as plt\n",
    "from mpl_toolkits.mplot3d import Axes3D"
   ]
  },
  {
   "cell_type": "code",
   "execution_count": null,
   "metadata": {},
   "outputs": [],
   "source": [
    "from matplotlib import rc\n",
    "rc('font',**{'family':'serif','sans-serif':['Times'],'size':14})"
   ]
  },
  {
   "cell_type": "markdown",
   "metadata": {},
   "source": [
    "Initializing the random number generator (for reproducibility). -- Disable if needed."
   ]
  },
  {
   "cell_type": "code",
   "execution_count": null,
   "metadata": {},
   "outputs": [],
   "source": [
    "np.random.seed(210217)"
   ]
  },
  {
   "cell_type": "markdown",
   "metadata": {},
   "source": [
    "Importing the model's modules"
   ]
  },
  {
   "cell_type": "code",
   "execution_count": null,
   "metadata": {},
   "outputs": [],
   "source": [
    "from qgs.params.params import QgParams\n",
    "from qgs.integrators.integrator import RungeKuttaIntegrator\n",
    "from qgs.functions.tendencies import create_tendencies\n",
    "from qgs.plotting.util import std_plot"
   ]
  },
  {
   "cell_type": "markdown",
   "metadata": {},
   "source": [
    "Importing the Lyapunovs Estimators"
   ]
  },
  {
   "cell_type": "code",
   "execution_count": null,
   "metadata": {},
   "outputs": [],
   "source": [
    "from qgs.toolbox.lyapunov import LyapunovsEstimator, CovariantLyapunovsEstimator"
   ]
  },
  {
   "cell_type": "markdown",
   "metadata": {},
   "source": [
    "and diagnostics"
   ]
  },
  {
   "cell_type": "code",
   "execution_count": null,
   "metadata": {},
   "outputs": [],
   "source": [
    "from qgs.diagnostics.streamfunctions import MiddleAtmosphericStreamfunctionDiagnostic\n",
    "from qgs.diagnostics.variables import VariablesDiagnostic\n",
    "from qgs.diagnostics.multi import MultiDiagnostic, FieldsDiagnosticsList"
   ]
  },
  {
   "cell_type": "markdown",
   "metadata": {},
   "source": [
    "## Systems definition"
   ]
  },
  {
   "cell_type": "markdown",
   "metadata": {},
   "source": [
    "General parameters"
   ]
  },
  {
   "cell_type": "code",
   "execution_count": null,
   "metadata": {},
   "outputs": [],
   "source": [
    "# Time parameters\n",
    "dt = 0.1\n",
    "# Saving the model state n steps\n",
    "write_steps = 5\n",
    "\n",
    "number_of_trajectories = 1\n",
    "number_of_perturbed_trajectories = 10"
   ]
  },
  {
   "cell_type": "markdown",
   "metadata": {},
   "source": [
    "Setting some model parameters"
   ]
  },
  {
   "cell_type": "code",
   "execution_count": null,
   "metadata": {},
   "outputs": [],
   "source": [
    "# Model parameters instantiation with some non-default specs\n",
    "model_parameters = QgParams({'phi0_npi': np.deg2rad(50.)/np.pi, 'hd':0.3})\n",
    "# Mode truncation at the wavenumber 2 in both x and y spatial coordinate\n",
    "model_parameters.set_atmospheric_channel_fourier_modes(2, 2)\n",
    "\n",
    "# Changing (increasing) the orography depth and the meridional temperature gradient\n",
    "model_parameters.ground_params.set_orography(0.4, 1)\n",
    "model_parameters.atemperature_params.set_thetas(0.2, 0)"
   ]
  },
  {
   "cell_type": "code",
   "execution_count": null,
   "metadata": {},
   "outputs": [],
   "source": [
    "# Printing the model's parameters\n",
    "model_parameters.print_params()"
   ]
  },
  {
   "cell_type": "markdown",
   "metadata": {},
   "source": [
    "Creating the tendencies function"
   ]
  },
  {
   "cell_type": "code",
   "execution_count": null,
   "metadata": {},
   "outputs": [],
   "source": [
    "f, Df = create_tendencies(model_parameters)"
   ]
  },
  {
   "cell_type": "markdown",
   "metadata": {},
   "source": [
    "## Time integration"
   ]
  },
  {
   "cell_type": "markdown",
   "metadata": {},
   "source": [
    "Defining an integrator"
   ]
  },
  {
   "cell_type": "code",
   "execution_count": null,
   "metadata": {},
   "outputs": [],
   "source": [
    "integrator = RungeKuttaIntegrator()\n",
    "integrator.set_func(f)"
   ]
  },
  {
   "cell_type": "markdown",
   "metadata": {},
   "source": [
    "Start on a random initial condition and integrate over a transient time to obtain an initial condition on the attractors"
   ]
  },
  {
   "cell_type": "code",
   "execution_count": null,
   "metadata": {},
   "outputs": [],
   "source": [
    "%%time\n",
    "ic = np.random.rand(model_parameters.ndim)*0.1\n",
    "integrator.integrate(0., 200000., dt, ic=ic, write_steps=0)\n",
    "time, ic = integrator.get_trajectories()"
   ]
  },
  {
   "cell_type": "markdown",
   "metadata": {},
   "source": [
    "Now integrate to obtain a trajectory on the attractor"
   ]
  },
  {
   "cell_type": "code",
   "execution_count": null,
   "metadata": {},
   "outputs": [],
   "source": [
    "%%time\n",
    "integrator.integrate(0., 100000., dt, ic=ic, write_steps=write_steps)\n",
    "reference_time, reference_traj = integrator.get_trajectories()"
   ]
  },
  {
   "cell_type": "code",
   "execution_count": null,
   "metadata": {},
   "outputs": [],
   "source": [
    "varx = 0\n",
    "vary = 1\n",
    "varz = 2\n",
    "\n",
    "fig = plt.figure(figsize=(10, 8))\n",
    "axi = fig.add_subplot(111, projection='3d')\n",
    "\n",
    "axi.scatter(reference_traj[varx], reference_traj[vary], reference_traj[varz], s=0.2);\n",
    "\n",
    "axi.set_xlabel('$'+model_parameters.latex_var_string[varx]+'$')\n",
    "axi.set_ylabel('$'+model_parameters.latex_var_string[vary]+'$')\n",
    "axi.set_zlabel('$'+model_parameters.latex_var_string[varz]+'$');"
   ]
  },
  {
   "cell_type": "code",
   "execution_count": null,
   "metadata": {},
   "outputs": [],
   "source": [
    "varx = 2\n",
    "vary = 1\n",
    "plt.figure(figsize=(10, 8))\n",
    "\n",
    "plt.plot(reference_traj[varx], reference_traj[vary], marker='o', ms=0.07, ls='')\n",
    "\n",
    "plt.xlabel('$'+model_parameters.latex_var_string[varx]+'$')\n",
    "plt.ylabel('$'+model_parameters.latex_var_string[vary]+'$');"
   ]
  },
  {
   "cell_type": "code",
   "execution_count": null,
   "metadata": {},
   "outputs": [],
   "source": [
    "var = 1\n",
    "plt.figure(figsize=(10, 8))\n",
    "\n",
    "plt.plot(model_parameters.dimensional_time*reference_time, reference_traj[var])\n",
    "\n",
    "plt.xlabel('time (days)')\n",
    "plt.ylabel('$'+model_parameters.latex_var_string[var]+'$');"
   ]
  },
  {
   "cell_type": "markdown",
   "metadata": {},
   "source": [
    "## Lyapunov exponents and vectors estimation example"
   ]
  },
  {
   "cell_type": "markdown",
   "metadata": {},
   "source": [
    "Backward Lyapunovs Estimation"
   ]
  },
  {
   "cell_type": "code",
   "execution_count": null,
   "metadata": {},
   "outputs": [],
   "source": [
    "lvint = LyapunovsEstimator()"
   ]
  },
  {
   "cell_type": "code",
   "execution_count": null,
   "metadata": {},
   "outputs": [],
   "source": [
    "%%time\n",
    "\n",
    "lvint.set_func(f, Df)\n",
    "lvint.compute_lyapunovs(0., 10000., 20000., 0.1, 0.1, ic, write_steps=1)\n",
    "btl, btraj, bexp, bvec = lvint.get_lyapunovs()\n"
   ]
  },
  {
   "cell_type": "code",
   "execution_count": null,
   "metadata": {
    "scrolled": false
   },
   "outputs": [],
   "source": [
    "plt.figure(figsize=(15, 4))\n",
    "\n",
    "mean_exp = np.mean(bexp, axis=-1)\n",
    "\n",
    "x_pos = np.arange(1.,model_parameters.ndim+1,1)\n",
    "\n",
    "plt.bar(x_pos, mean_exp)\n",
    "\n",
    "plt.vlines(x_pos, -0.55, np.minimum(0.,mean_exp)-0.035, linestyles='dashdot', colors='tab:gray')\n",
    "\n",
    "plt.xticks(x_pos, map(str,range(1, model_parameters.ndim+1,1)))\n",
    "yt=[-0.5,-0.4,-0.3,-0.2,-0.1,0.,0.1]\n",
    "plt.yticks(yt, map(str,yt))\n",
    "\n",
    "plt.xlim(x_pos[0]-1., x_pos[-1]+1.)\n",
    "plt.ylim(np.min(mean_exp)-0.1, np.max(mean_exp)+0.1)\n",
    "\n",
    "plt.ylabel(\"Lyapunov exponent\");\n",
    "plt.xlabel(\"Index of the Lyapunov exponent\");\n"
   ]
  },
  {
   "cell_type": "code",
   "execution_count": null,
   "metadata": {},
   "outputs": [],
   "source": [
    "plt.figure(figsize=(10, 8))\n",
    "\n",
    "plt.plot(model_parameters.dimensional_time*btl, bexp.T)\n",
    "\n",
    "plt.xlabel('time (days)')\n",
    "\n",
    "plt.xlim(1200., 1220.)\n",
    "\n",
    "plt.title('Local Backward Lyapunov exponents');"
   ]
  },
  {
   "cell_type": "code",
   "execution_count": null,
   "metadata": {},
   "outputs": [],
   "source": [
    "plt.figure(figsize=(10, 8))\n",
    "\n",
    "plt.plot(model_parameters.dimensional_time*btl, bvec[:, 0, :].T)\n",
    "\n",
    "plt.xlabel('time (days)')\n",
    "\n",
    "plt.xlim(1200., 1220.)\n",
    "\n",
    "plt.title('Most unstable Backward Lyapunov vector components');"
   ]
  },
  {
   "cell_type": "markdown",
   "metadata": {},
   "source": [
    "Forward Lyapunovs Estimation"
   ]
  },
  {
   "cell_type": "code",
   "execution_count": null,
   "metadata": {},
   "outputs": [],
   "source": [
    "%%time\n",
    "\n",
    "lvint.compute_lyapunovs(0., 10000., 20000., 0.1, 0.1, ic, write_steps=1, forward=True)\n",
    "ftl, ftraj, fexp, fvec = lvint.get_lyapunovs()\n"
   ]
  },
  {
   "cell_type": "code",
   "execution_count": null,
   "metadata": {
    "scrolled": false
   },
   "outputs": [],
   "source": [
    "plt.figure(figsize=(15, 4))\n",
    "\n",
    "mean_exp = np.mean(fexp, axis=-1)[::-1]\n",
    "\n",
    "x_pos = np.arange(1.,model_parameters.ndim+1,1)\n",
    "\n",
    "plt.bar(x_pos, mean_exp)\n",
    "\n",
    "plt.vlines(x_pos, -0.55, np.minimum(0.,mean_exp)-0.035, linestyles='dashdot', colors='tab:gray')\n",
    "\n",
    "plt.xticks(x_pos, map(str,range(1, model_parameters.ndim+1,1)))\n",
    "yt=[-0.5,-0.4,-0.3,-0.2,-0.1,0.,0.1]\n",
    "plt.yticks(yt, map(str,yt))\n",
    "\n",
    "plt.xlim(x_pos[0]-1., x_pos[-1]+1.)\n",
    "plt.ylim(np.min(mean_exp)-0.1, np.max(mean_exp)+0.1)\n",
    "\n",
    "plt.ylabel(\"Lyapunov exponent\");\n",
    "plt.xlabel(\"Index of the Lyapunov exponent\");\n"
   ]
  },
  {
   "cell_type": "code",
   "execution_count": null,
   "metadata": {},
   "outputs": [],
   "source": [
    "plt.figure(figsize=(10, 8))\n",
    "\n",
    "plt.plot(model_parameters.dimensional_time*ftl, fexp.T)\n",
    "\n",
    "plt.xlabel('time (days)')\n",
    "\n",
    "plt.xlim(200., 220.)\n",
    "\n",
    "plt.title('Local Forward Lyapunov exponents');"
   ]
  },
  {
   "cell_type": "code",
   "execution_count": null,
   "metadata": {},
   "outputs": [],
   "source": [
    "plt.figure(figsize=(10, 8))\n",
    "\n",
    "plt.plot(model_parameters.dimensional_time*ftl, fvec[:, -1, :].T)\n",
    "\n",
    "plt.xlabel('time (days)')\n",
    "plt.ylabel('Amplitude')\n",
    "\n",
    "plt.xlim(200., 220.)\n",
    "\n",
    "plt.title('Most unstable Lyapunov vector components');"
   ]
  },
  {
   "cell_type": "code",
   "execution_count": null,
   "metadata": {},
   "outputs": [],
   "source": [
    "lvint.terminate()"
   ]
  },
  {
   "cell_type": "markdown",
   "metadata": {},
   "source": [
    "Covariant Lyapunovs Estimation"
   ]
  },
  {
   "cell_type": "code",
   "execution_count": null,
   "metadata": {},
   "outputs": [],
   "source": [
    "clvint = CovariantLyapunovsEstimator()"
   ]
  },
  {
   "cell_type": "markdown",
   "metadata": {},
   "source": [
    "With the Ginelli et al. algorithm"
   ]
  },
  {
   "cell_type": "code",
   "execution_count": null,
   "metadata": {},
   "outputs": [],
   "source": [
    "%%time\n",
    "\n",
    "clvint.set_func(f, Df)\n",
    "clvint.compute_clvs(0., 10000., 20000., 30000., 0.1, 0.1, ic, write_steps=1)\n",
    "ctl, ctraj, cexp, cvec = clvint.get_clvs()\n"
   ]
  },
  {
   "cell_type": "code",
   "execution_count": null,
   "metadata": {
    "scrolled": false
   },
   "outputs": [],
   "source": [
    "plt.figure(figsize=(15, 4))\n",
    "\n",
    "mean_exp = np.mean(cexp, axis=-1)\n",
    "\n",
    "x_pos = np.arange(1.,model_parameters.ndim+1,1)\n",
    "\n",
    "plt.bar(x_pos, mean_exp)\n",
    "\n",
    "plt.vlines(x_pos, -0.55, np.minimum(0.,mean_exp)-0.035, linestyles='dashdot', colors='tab:gray')\n",
    "\n",
    "plt.xticks(x_pos, map(str,range(1, model_parameters.ndim+1,1)))\n",
    "yt=[-0.5,-0.4,-0.3,-0.2,-0.1,0.,0.1]\n",
    "plt.yticks(yt, map(str,yt))\n",
    "\n",
    "plt.xlim(x_pos[0]-1., x_pos[-1]+1.)\n",
    "plt.ylim(np.min(mean_exp)-0.1, np.max(mean_exp)+0.1)\n",
    "\n",
    "plt.ylabel(\"Lyapunov exponent\");\n",
    "plt.xlabel(\"Index of the Lyapunov exponent\");\n"
   ]
  },
  {
   "cell_type": "code",
   "execution_count": null,
   "metadata": {},
   "outputs": [],
   "source": [
    "plt.figure(figsize=(10, 8))\n",
    "\n",
    "plt.plot(model_parameters.dimensional_time*ctl, cexp.T)\n",
    "\n",
    "plt.xlabel('time (days)')\n",
    "\n",
    "plt.xlim(1200., 1220.)\n",
    "\n",
    "plt.title('Local Lyapunov exponents');"
   ]
  },
  {
   "cell_type": "code",
   "execution_count": null,
   "metadata": {},
   "outputs": [],
   "source": [
    "plt.figure(figsize=(10, 8))\n",
    "\n",
    "plt.plot(model_parameters.dimensional_time*ctl, cvec[:, 0, :].T)\n",
    "\n",
    "plt.xlabel('time (days)')\n",
    "\n",
    "plt.xlim(1200., 1220.)\n",
    "\n",
    "plt.title('Most unstable Lyapunov vector components');"
   ]
  },
  {
   "cell_type": "markdown",
   "metadata": {},
   "source": [
    "With the intersection of the Osedelet subspace algorithm"
   ]
  },
  {
   "cell_type": "code",
   "execution_count": null,
   "metadata": {},
   "outputs": [],
   "source": [
    "%%time\n",
    "\n",
    "clvint.compute_clvs(0., 10000., 20000., 30000., 0.1, 0.1, ic, write_steps=10, method=1)\n",
    "ctl_sub, ctraj_sub, cexp_sub, cvec_sub = clvint.get_clvs()\n"
   ]
  },
  {
   "cell_type": "code",
   "execution_count": null,
   "metadata": {
    "scrolled": false
   },
   "outputs": [],
   "source": [
    "plt.figure(figsize=(15, 4))\n",
    "\n",
    "mean_exp = np.mean(cexp_sub, axis=-1)\n",
    "\n",
    "x_pos = np.arange(1.,model_parameters.ndim+1,1)\n",
    "\n",
    "plt.bar(x_pos, mean_exp)\n",
    "\n",
    "plt.vlines(x_pos, -0.55, np.minimum(0.,mean_exp)-0.035, linestyles='dashdot', colors='tab:gray')\n",
    "\n",
    "plt.xticks(x_pos, map(str,range(1, model_parameters.ndim+1,1)))\n",
    "yt=[-0.5,-0.4,-0.3,-0.2,-0.1,0.,0.1]\n",
    "plt.yticks(yt, map(str,yt))\n",
    "\n",
    "plt.xlim(x_pos[0]-1., x_pos[-1]+1.)\n",
    "plt.ylim(np.min(mean_exp)-0.1, np.max(mean_exp)+0.1)\n",
    "\n",
    "plt.ylabel(\"Lyapunov exponent\");\n",
    "plt.xlabel(\"Index of the Lyapunov exponent\");\n"
   ]
  },
  {
   "cell_type": "code",
   "execution_count": null,
   "metadata": {},
   "outputs": [],
   "source": [
    "plt.figure(figsize=(10, 8))\n",
    "\n",
    "plt.plot(model_parameters.dimensional_time*ctl_sub, cexp_sub.T)\n",
    "\n",
    "plt.xlabel('time (days)')\n",
    "plt.ylabel('Amplitude')\n",
    "\n",
    "plt.xlim(1200., 1220.)\n",
    "\n",
    "plt.title('Local Lyapunov exponents');"
   ]
  },
  {
   "cell_type": "code",
   "execution_count": null,
   "metadata": {},
   "outputs": [],
   "source": [
    "plt.figure(figsize=(10, 8))\n",
    "\n",
    "plt.plot(model_parameters.dimensional_time*ctl_sub, cvec_sub[:, 0, :].T)\n",
    "\n",
    "plt.xlabel('time (days)')\n",
    "plt.ylabel('Amplitude')\n",
    "\n",
    "plt.xlim(1200., 1220.)\n",
    "\n",
    "plt.title('Most unstable Lyapunov vector components');"
   ]
  },
  {
   "cell_type": "code",
   "execution_count": null,
   "metadata": {},
   "outputs": [],
   "source": [
    "clvint.terminate()"
   ]
  },
  {
   "cell_type": "markdown",
   "metadata": {},
   "source": [
    "## Showing the resulting fields (animation)\n",
    "\n",
    "This is an advanced feature showing the time evolution of diagnostic of the model. It shows simultaneously a scatter plot of the variable $\\psi_2$ and $\\psi_3$, and the geopotential height field at 500 hPa over the orographic height. Please read the documentation for more information."
   ]
  },
  {
   "cell_type": "markdown",
   "metadata": {},
   "source": [
    "Creating the diagnostics:"
   ]
  },
  {
   "cell_type": "markdown",
   "metadata": {},
   "source": [
    "* For the 500hPa geopotential height:"
   ]
  },
  {
   "cell_type": "code",
   "execution_count": null,
   "metadata": {},
   "outputs": [],
   "source": [
    "psi = MiddleAtmosphericStreamfunctionDiagnostic(model_parameters, geopotential=True)"
   ]
  },
  {
   "cell_type": "markdown",
   "metadata": {},
   "source": [
    "* For the first covariant Lyapunov vector (components of the 500hPa geopotential height)"
   ]
  },
  {
   "cell_type": "code",
   "execution_count": null,
   "metadata": {},
   "outputs": [],
   "source": [
    "psi_clyap = MiddleAtmosphericStreamfunctionDiagnostic(model_parameters, geopotential=True)"
   ]
  },
  {
   "cell_type": "markdown",
   "metadata": {},
   "source": [
    "* For the nondimensional variables $\\psi_2$ and $\\psi_3$:"
   ]
  },
  {
   "cell_type": "code",
   "execution_count": null,
   "metadata": {},
   "outputs": [],
   "source": [
    "variable_nondim = VariablesDiagnostic([2, 1], model_parameters, False)"
   ]
  },
  {
   "cell_type": "code",
   "execution_count": null,
   "metadata": {},
   "outputs": [],
   "source": [
    "# setting also the background\n",
    "background = VariablesDiagnostic([2, 1], model_parameters, False)\n",
    "background.set_data(reference_time, reference_traj)"
   ]
  },
  {
   "cell_type": "markdown",
   "metadata": {},
   "source": [
    "Loading the data in a combined diagnostic (FieldsDiagnosticsList)"
   ]
  },
  {
   "cell_type": "code",
   "execution_count": null,
   "metadata": {},
   "outputs": [],
   "source": [
    "psi.set_data(ctl, ctraj)\n",
    "psi_clyap.set_data(ctl, cvec[:,0,:])\n",
    "\n",
    "lyap_diags = FieldsDiagnosticsList([psi, psi_clyap])"
   ]
  },
  {
   "cell_type": "markdown",
   "metadata": {},
   "source": [
    "Creating a multi diagnostic with both a scatter plot and the combined diagnostics:"
   ]
  },
  {
   "cell_type": "code",
   "execution_count": null,
   "metadata": {},
   "outputs": [],
   "source": [
    "m = MultiDiagnostic(1,2)\n",
    "m.add_diagnostic(variable_nondim, \n",
    "                 diagnostic_kwargs={'show_time': False, 'background': background}, \n",
    "                 plot_kwargs={'ms': 0.2})\n",
    "m.add_diagnostic(lyap_diags, \n",
    "                 diagnostic_kwargs={'style': ['image', 'contour'],\n",
    "                                    'contour_labels': False,\n",
    "                                    'show_time': True,\n",
    "                                    'oro_kwargs': False}, \n",
    "                 plot_kwargs=[{'cmap': plt.get_cmap('gist_yarg')}, {'colors':'k'}])\n",
    "m.set_data(ctl, ctraj)"
   ]
  },
  {
   "cell_type": "markdown",
   "metadata": {},
   "source": [
    "and show an interactive animation (with the first covariant Lyapunov vector as contour plot):"
   ]
  },
  {
   "cell_type": "code",
   "execution_count": null,
   "metadata": {
    "scrolled": false
   },
   "outputs": [],
   "source": [
    "rc('font',**{'family':'serif','sans-serif':['Times'],'size':12})\n",
    "m.animate(figsize=(20,6))"
   ]
  },
  {
   "cell_type": "markdown",
   "metadata": {},
   "source": [
    "or a movie:"
   ]
  },
  {
   "cell_type": "code",
   "execution_count": null,
   "metadata": {
    "scrolled": false
   },
   "outputs": [],
   "source": [
    "rc('font',**{'family': 'serif','sans-serif': ['Times'],'size': 12})\n",
    "m.movie(figsize=(20,6), anim_kwargs={'interval': 100, 'frames': 1000})"
   ]
  },
  {
   "cell_type": "code",
   "execution_count": null,
   "metadata": {},
   "outputs": [],
   "source": []
  }
 ],
 "metadata": {
  "kernelspec": {
   "display_name": "Python 3 (ipykernel)",
   "language": "python",
   "name": "python3"
  },
  "language_info": {
   "codemirror_mode": {
    "name": "ipython",
    "version": 3
   },
   "file_extension": ".py",
   "mimetype": "text/x-python",
   "name": "python",
   "nbconvert_exporter": "python",
   "pygments_lexer": "ipython3",
   "version": "3.8.10"
  }
 },
 "nbformat": 4,
 "nbformat_minor": 2
}
