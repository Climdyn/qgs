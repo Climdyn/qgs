{
 "cells": [
  {
   "cell_type": "markdown",
   "metadata": {},
   "source": [
    "# QGS model: MAOOAM"
   ]
  },
  {
   "cell_type": "markdown",
   "metadata": {},
   "source": [
    "## Coupled ocean-atmosphere model version"
   ]
  },
  {
   "cell_type": "markdown",
   "metadata": {},
   "source": [
    "This model version is a 2-layer channel QG atmosphere truncated at wavenumber 2 coupled, both by friction and heat exchange, to a shallow water ocean with 8 modes. \n",
    "\n",
    "More detail can be found in the article:\n",
    "* Vannitsem, S., Demaeyer, J., De Cruz, L., & Ghil, M. (2015). *Low-frequency variability and heat transport in a low-order nonlinear coupled ocean–atmosphere model*. Physica D: Nonlinear Phenomena, **309**, 71-85. [doi:10.1016/j.physd.2015.07.006](https://doi.org/10.1016/j.physd.2015.07.006)\n",
    "* De Cruz, L., Demaeyer, J. and Vannitsem, S. (2016). *The Modular Arbitrary-Order Ocean-Atmosphere Model: MAOOAM v1.0*, Geosci. Model Dev., **9**, 2793-2808. [doi:10.5194/gmd-9-2793-2016](https://doi.org/10.5194/gmd-9-2793-2016)"
   ]
  },
  {
   "cell_type": "markdown",
   "metadata": {},
   "source": [
    "## Modules import"
   ]
  },
  {
   "cell_type": "markdown",
   "metadata": {},
   "source": [
    "First, setting the path and loading of some modules"
   ]
  },
  {
   "cell_type": "code",
   "execution_count": null,
   "metadata": {},
   "outputs": [],
   "source": [
    "import sys, os"
   ]
  },
  {
   "cell_type": "code",
   "execution_count": null,
   "metadata": {},
   "outputs": [],
   "source": [
    "sys.path.extend([os.path.abspath('../../')])"
   ]
  },
  {
   "cell_type": "code",
   "execution_count": null,
   "metadata": {},
   "outputs": [],
   "source": [
    "import numpy as np\n",
    "import matplotlib.pyplot as plt\n",
    "from mpl_toolkits.mplot3d import Axes3D"
   ]
  },
  {
   "cell_type": "code",
   "execution_count": null,
   "metadata": {},
   "outputs": [],
   "source": [
    "from matplotlib import rc\n",
    "rc('font',**{'family':'serif','sans-serif':['Times'],'size':14})"
   ]
  },
  {
   "cell_type": "markdown",
   "metadata": {},
   "source": [
    "Initializing the random number generator (for reproducibility). -- Disable if needed."
   ]
  },
  {
   "cell_type": "code",
   "execution_count": null,
   "metadata": {},
   "outputs": [],
   "source": [
    "np.random.seed(210217)"
   ]
  },
  {
   "cell_type": "markdown",
   "metadata": {},
   "source": [
    "Importing the model's modules"
   ]
  },
  {
   "cell_type": "code",
   "execution_count": null,
   "metadata": {},
   "outputs": [],
   "source": [
    "from qgs.params.params import QgParams\n",
    "from qgs.integrators.integrator import RungeKuttaIntegrator\n",
    "from qgs.functions.tendencies import create_tendencies\n",
    "from qgs.plotting.util import std_plot"
   ]
  },
  {
   "cell_type": "markdown",
   "metadata": {},
   "source": [
    "Importing the Lyapunovs Estimators"
   ]
  },
  {
   "cell_type": "code",
   "execution_count": null,
   "metadata": {},
   "outputs": [],
   "source": [
    "from qgs.toolbox.lyapunov import LyapunovsEstimator, CovariantLyapunovsEstimator"
   ]
  },
  {
   "cell_type": "markdown",
   "metadata": {},
   "source": [
    "and diagnostics"
   ]
  },
  {
   "cell_type": "code",
   "execution_count": null,
   "metadata": {},
   "outputs": [],
   "source": [
    "from qgs.diagnostics.streamfunctions import MiddleAtmosphericStreamfunctionDiagnostic, OceanicLayerStreamfunctionDiagnostic\n",
    "from qgs.diagnostics.temperatures import MiddleAtmosphericTemperatureDiagnostic, OceanicLayerTemperatureDiagnostic\n",
    "from qgs.diagnostics.variables import VariablesDiagnostic, GeopotentialHeightDifferenceDiagnostic\n",
    "from qgs.diagnostics.multi import MultiDiagnostic, FieldsDiagnosticsList"
   ]
  },
  {
   "cell_type": "markdown",
   "metadata": {},
   "source": [
    "## Systems definition"
   ]
  },
  {
   "cell_type": "markdown",
   "metadata": {},
   "source": [
    "General parameters"
   ]
  },
  {
   "cell_type": "code",
   "execution_count": null,
   "metadata": {},
   "outputs": [],
   "source": [
    "# Time parameters\n",
    "dt = 0.1\n",
    "# Saving the model state n steps\n",
    "write_steps = 100\n",
    "\n",
    "number_of_trajectories = 1"
   ]
  },
  {
   "cell_type": "markdown",
   "metadata": {},
   "source": [
    "Setting some model parameters"
   ]
  },
  {
   "cell_type": "code",
   "execution_count": null,
   "metadata": {},
   "outputs": [],
   "source": [
    "# Model parameters instantiation with some non-default specs\n",
    "model_parameters = QgParams()\n",
    "\n",
    "# Mode truncation at the wavenumber 2 in both x and y spatial\n",
    "# coordinates for the atmosphere\n",
    "model_parameters.set_atmospheric_channel_fourier_modes(2, 2)\n",
    "# Mode truncation at the wavenumber 2 in the x and at the \n",
    "# wavenumber 4 in the y spatial coordinates for the ocean\n",
    "model_parameters.set_oceanic_basin_fourier_modes(2, 4)"
   ]
  },
  {
   "cell_type": "code",
   "execution_count": null,
   "metadata": {},
   "outputs": [],
   "source": [
    "# Setting MAOOAM parameters according to the publication linked above\n",
    "model_parameters.set_params({'kd': 0.0290, 'kdp': 0.0290, 'n': 1.5, 'r': 1.e-7,\n",
    "                             'h': 136.5, 'd': 1.1e-7})\n",
    "model_parameters.atemperature_params.set_params({'eps': 0.7, 'T0': 289.3,\n",
    "                                                 'hlambda': 15.06})\n",
    "model_parameters.gotemperature_params.set_params({'gamma': 5.6e8, 'T0': 301.46})"
   ]
  },
  {
   "cell_type": "markdown",
   "metadata": {},
   "source": [
    "Setting the short-wave radiation component as in the publication above: $C_{\\text{a},1}$ and $C_{\\text{o},1}$ \n"
   ]
  },
  {
   "cell_type": "code",
   "execution_count": null,
   "metadata": {},
   "outputs": [],
   "source": [
    "model_parameters.atemperature_params.set_insolation(103.3333, 0)\n",
    "model_parameters.gotemperature_params.set_insolation(310, 0)"
   ]
  },
  {
   "cell_type": "markdown",
   "metadata": {},
   "source": [
    "Printing the model's parameters"
   ]
  },
  {
   "cell_type": "code",
   "execution_count": null,
   "metadata": {},
   "outputs": [],
   "source": [
    "model_parameters.print_params()"
   ]
  },
  {
   "cell_type": "markdown",
   "metadata": {},
   "source": [
    "Creating the tendencies function"
   ]
  },
  {
   "cell_type": "code",
   "execution_count": null,
   "metadata": {},
   "outputs": [],
   "source": [
    "%%time\n",
    "f, Df = create_tendencies(model_parameters)"
   ]
  },
  {
   "cell_type": "markdown",
   "metadata": {},
   "source": [
    "## Time integration"
   ]
  },
  {
   "cell_type": "markdown",
   "metadata": {},
   "source": [
    "Defining an integrator"
   ]
  },
  {
   "cell_type": "code",
   "execution_count": null,
   "metadata": {},
   "outputs": [],
   "source": [
    "integrator = RungeKuttaIntegrator()\n",
    "integrator.set_func(f)"
   ]
  },
  {
   "cell_type": "markdown",
   "metadata": {},
   "source": [
    "Start on a random initial condition and integrate over a transient time to obtain an initial condition on the attractors "
   ]
  },
  {
   "cell_type": "code",
   "execution_count": null,
   "metadata": {},
   "outputs": [],
   "source": [
    "ic = np.random.rand(model_parameters.ndim)*0.01"
   ]
  },
  {
   "cell_type": "code",
   "execution_count": null,
   "metadata": {},
   "outputs": [],
   "source": [
    "%%time\n",
    "## Might take several minutes, depending on your cpu computational power.\n",
    "\n",
    "for _ in range(20):\n",
    "    integrator.integrate(0., 3000000., dt, ic=ic, write_steps=0)\n",
    "    time, ic = integrator.get_trajectories()"
   ]
  },
  {
   "cell_type": "markdown",
   "metadata": {},
   "source": [
    "Save the initial condition to reuse it later"
   ]
  },
  {
   "cell_type": "code",
   "execution_count": null,
   "metadata": {},
   "outputs": [],
   "source": [
    "np.save('ic_saved.npy', ic)"
   ]
  },
  {
   "cell_type": "markdown",
   "metadata": {},
   "source": [
    "Or load it"
   ]
  },
  {
   "cell_type": "code",
   "execution_count": null,
   "metadata": {},
   "outputs": [],
   "source": [
    "# ic = np.load('ic_saved.npy')"
   ]
  },
  {
   "cell_type": "markdown",
   "metadata": {},
   "source": [
    "Now integrate to obtain a trajectory on the attractor"
   ]
  },
  {
   "cell_type": "code",
   "execution_count": null,
   "metadata": {},
   "outputs": [],
   "source": [
    "%%time\n",
    "integrator.integrate(0., 3000000., dt, ic=ic, write_steps=write_steps)\n",
    "reference_time, reference_traj = integrator.get_trajectories()"
   ]
  },
  {
   "cell_type": "markdown",
   "metadata": {},
   "source": [
    "Plotting the result in 3D and 2D"
   ]
  },
  {
   "cell_type": "code",
   "execution_count": null,
   "metadata": {},
   "outputs": [],
   "source": [
    "fig = plt.figure(figsize=(10, 8))\n",
    "axi = fig.gca(projection='3d')\n",
    "\n",
    "axi.scatter(reference_traj[21], reference_traj[29], reference_traj[0], s=0.2);\n",
    "\n",
    "axi.set_xlabel('$'+model_parameters.latex_var_string[21]+'$')\n",
    "axi.set_ylabel('$'+model_parameters.latex_var_string[29]+'$')\n",
    "axi.set_zlabel('$'+model_parameters.latex_var_string[0]+'$');"
   ]
  },
  {
   "cell_type": "code",
   "execution_count": null,
   "metadata": {},
   "outputs": [],
   "source": [
    "varx = 21\n",
    "vary = 29\n",
    "plt.figure(figsize=(10, 8))\n",
    "\n",
    "plt.plot(reference_traj[varx], reference_traj[vary], marker='o', ms=0.1, ls='')\n",
    "\n",
    "plt.xlabel('$'+model_parameters.latex_var_string[varx]+'$')\n",
    "plt.ylabel('$'+model_parameters.latex_var_string[vary]+'$');"
   ]
  },
  {
   "cell_type": "code",
   "execution_count": null,
   "metadata": {
    "scrolled": false
   },
   "outputs": [],
   "source": [
    "var = 10\n",
    "plt.figure(figsize=(10, 8))\n",
    "\n",
    "plt.plot(model_parameters.dimensional_time*reference_time, reference_traj[var])\n",
    "\n",
    "plt.xlabel('time (days)')\n",
    "plt.ylabel('$'+model_parameters.latex_var_string[var]+'$');"
   ]
  },
  {
   "cell_type": "code",
   "execution_count": null,
   "metadata": {},
   "outputs": [],
   "source": [
    "integrator.terminate()"
   ]
  },
  {
   "cell_type": "markdown",
   "metadata": {},
   "source": [
    "## Lyapunov exponents and vectors estimation example"
   ]
  },
  {
   "cell_type": "markdown",
   "metadata": {},
   "source": [
    "Backward Lyapunovs Estimation"
   ]
  },
  {
   "cell_type": "code",
   "execution_count": null,
   "metadata": {},
   "outputs": [],
   "source": [
    "%%time\n",
    "\n",
    "blvint = LyapunovsEstimator()\n",
    "\n",
    "blvint.set_func(f, Df)\n",
    "blvint.compute_lyapunovs(0., 1000000., 2000000., 0.1, 0.1, ic, write_steps=write_steps)\n",
    "btl, btraj, bexp, bvec = blvint.get_lyapunovs()\n"
   ]
  },
  {
   "cell_type": "code",
   "execution_count": null,
   "metadata": {
    "scrolled": false
   },
   "outputs": [],
   "source": [
    "plt.figure(figsize=(15, 4))\n",
    "\n",
    "mean_exp = np.mean(bexp, axis=-1)\n",
    "\n",
    "x_pos = np.arange(1.,model_parameters.ndim+1,1)\n",
    "\n",
    "plt.bar(x_pos, mean_exp)\n",
    "\n",
    "plt.vlines(x_pos, -0.55, np.minimum(0.,mean_exp)-0.035, linestyles='dashdot', colors='tab:gray')\n",
    "\n",
    "plt.xticks(x_pos, map(str,range(1, model_parameters.ndim+1,1)))\n",
    "yt=[-0.5,-0.4,-0.3,-0.2,-0.1,0.,0.1]\n",
    "plt.yticks(yt, map(str,yt))\n",
    "\n",
    "plt.xlim(x_pos[0]-1., x_pos[-1]+1.)\n",
    "plt.ylim(np.min(mean_exp)-0.1, np.max(mean_exp)+0.1)\n",
    "\n",
    "plt.ylabel(\"Lyapunov exponent\");\n",
    "plt.xlabel(\"Index of the Lyapunov exponent\");\n"
   ]
  },
  {
   "cell_type": "code",
   "execution_count": null,
   "metadata": {},
   "outputs": [],
   "source": [
    "plt.figure(figsize=(10, 8))\n",
    "\n",
    "plt.plot(model_parameters.dimensional_time*btl, bexp.T)\n",
    "\n",
    "plt.xlabel('time (days)')\n",
    "\n",
    "plt.title('Local Lyapunov exponents');"
   ]
  },
  {
   "cell_type": "code",
   "execution_count": null,
   "metadata": {},
   "outputs": [],
   "source": [
    "plt.figure(figsize=(10, 8))\n",
    "\n",
    "plt.plot(model_parameters.dimensional_time*btl, bvec[:, 0, :].T)\n",
    "\n",
    "plt.xlabel('time (days)')\n",
    "\n",
    "plt.title('Most unstable Lyapunov vector components');"
   ]
  },
  {
   "cell_type": "code",
   "execution_count": null,
   "metadata": {},
   "outputs": [],
   "source": [
    "blvint.terminate()"
   ]
  },
  {
   "cell_type": "markdown",
   "metadata": {},
   "source": [
    "Covariant Lyapunovs Estimation"
   ]
  },
  {
   "cell_type": "code",
   "execution_count": null,
   "metadata": {
    "scrolled": true
   },
   "outputs": [],
   "source": [
    "%%time\n",
    "\n",
    "clvint = CovariantLyapunovsEstimator()\n",
    "\n",
    "clvint.set_func(f, Df)\n",
    "clvint.compute_clvs(0., 1000000., 2000000., 3000000., 0.1, 0.1, ic, write_steps=write_steps, method=1)\n",
    "ctl, ctraj, cexp, cvec = clvint.get_clvs()\n"
   ]
  },
  {
   "cell_type": "code",
   "execution_count": null,
   "metadata": {
    "scrolled": false
   },
   "outputs": [],
   "source": [
    "plt.figure(figsize=(15, 4))\n",
    "\n",
    "mean_exp = np.mean(cexp, axis=-1)\n",
    "\n",
    "x_pos = np.arange(1.,model_parameters.ndim+1,1)\n",
    "\n",
    "plt.bar(x_pos, mean_exp)\n",
    "\n",
    "plt.vlines(x_pos, -0.55, np.minimum(0.,mean_exp)-0.035, linestyles='dashdot', colors='tab:gray')\n",
    "\n",
    "plt.xticks(x_pos, map(str,range(1, model_parameters.ndim+1,1)))\n",
    "yt=[-0.5,-0.4,-0.3,-0.2,-0.1,0.,0.1]\n",
    "plt.yticks(yt, map(str,yt))\n",
    "\n",
    "plt.xlim(x_pos[0]-1., x_pos[-1]+1.)\n",
    "plt.ylim(np.min(mean_exp)-0.1, np.max(mean_exp)+0.1)\n",
    "\n",
    "plt.ylabel(\"Lyapunov exponent\");\n",
    "plt.xlabel(\"Index of the Lyapunov exponent\");\n"
   ]
  },
  {
   "cell_type": "code",
   "execution_count": null,
   "metadata": {},
   "outputs": [],
   "source": [
    "plt.figure(figsize=(10, 8))\n",
    "\n",
    "plt.plot(model_parameters.dimensional_time*ctl, cexp.T)\n",
    "\n",
    "plt.xlabel('time (days)')\n",
    "\n",
    "plt.title('Local Lyapunov exponents');"
   ]
  },
  {
   "cell_type": "code",
   "execution_count": null,
   "metadata": {},
   "outputs": [],
   "source": [
    "plt.figure(figsize=(10, 8))\n",
    "\n",
    "plt.plot(model_parameters.dimensional_time*ctl, cvec[:, 0, :].T)\n",
    "\n",
    "plt.xlabel('time (days)')\n",
    "\n",
    "plt.title('Most unstable Lyapunov vector components');"
   ]
  },
  {
   "cell_type": "code",
   "execution_count": null,
   "metadata": {},
   "outputs": [],
   "source": [
    "clvint.terminate()"
   ]
  },
  {
   "cell_type": "markdown",
   "metadata": {},
   "source": [
    "## Showing the resulting fields (animation)\n",
    "\n",
    "This is an advanced feature showing the time evolution of diagnostic of the model. It shows simultaneously a scatter plot of the variables $\\psi_{{\\rm a}, 1}$, $\\psi_{{\\rm o}, 2}$ and $\\theta_{{\\rm o}, 2}$, with the corresponding atmospheric and oceanic streamfunctions and temperature at 500 hPa. In all the field plots, we also show the first covariant Lyapunov vector. Please read the documentation for more information."
   ]
  },
  {
   "cell_type": "markdown",
   "metadata": {},
   "source": [
    "Creating the diagnostics:"
   ]
  },
  {
   "cell_type": "markdown",
   "metadata": {},
   "source": [
    "* For the 500hPa geopotential height:"
   ]
  },
  {
   "cell_type": "code",
   "execution_count": null,
   "metadata": {},
   "outputs": [],
   "source": [
    "psi_a = MiddleAtmosphericStreamfunctionDiagnostic(model_parameters, geopotential=True)\n",
    "psi_a_clyap = MiddleAtmosphericStreamfunctionDiagnostic(model_parameters, geopotential=True)"
   ]
  },
  {
   "cell_type": "markdown",
   "metadata": {},
   "source": [
    "* For the 500hPa atmospheric temperature:"
   ]
  },
  {
   "cell_type": "code",
   "execution_count": null,
   "metadata": {},
   "outputs": [],
   "source": [
    "theta_a = MiddleAtmosphericTemperatureDiagnostic(model_parameters)\n",
    "theta_a_clyap = MiddleAtmosphericTemperatureDiagnostic(model_parameters)"
   ]
  },
  {
   "cell_type": "markdown",
   "metadata": {},
   "source": [
    "* For the ocean streamfunction:"
   ]
  },
  {
   "cell_type": "code",
   "execution_count": null,
   "metadata": {},
   "outputs": [],
   "source": [
    "psi_o = OceanicLayerStreamfunctionDiagnostic(model_parameters)\n",
    "psi_o_clyap = OceanicLayerStreamfunctionDiagnostic(model_parameters)"
   ]
  },
  {
   "cell_type": "markdown",
   "metadata": {},
   "source": [
    "* For the ocean temperature:"
   ]
  },
  {
   "cell_type": "code",
   "execution_count": null,
   "metadata": {},
   "outputs": [],
   "source": [
    "theta_o = OceanicLayerTemperatureDiagnostic(model_parameters)\n",
    "theta_o_clyap = OceanicLayerTemperatureDiagnostic(model_parameters)"
   ]
  },
  {
   "cell_type": "markdown",
   "metadata": {},
   "source": [
    "* For the nondimensional variables $\\psi_{{\\rm a}, 1}$, $\\psi_{{\\rm o}, 2}$ and $\\theta_{{\\rm o}, 2}$:"
   ]
  },
  {
   "cell_type": "code",
   "execution_count": null,
   "metadata": {},
   "outputs": [],
   "source": [
    "variable_nondim = VariablesDiagnostic([21, 29, 0], model_parameters, False)"
   ]
  },
  {
   "cell_type": "markdown",
   "metadata": {},
   "source": [
    "* For the geopotential height difference between North and South:"
   ]
  },
  {
   "cell_type": "code",
   "execution_count": null,
   "metadata": {},
   "outputs": [],
   "source": [
    "geopot_dim = GeopotentialHeightDifferenceDiagnostic([[[np.pi/model_parameters.scale_params.n, np.pi/4], [np.pi/model_parameters.scale_params.n, 3*np.pi/4]]],\n",
    "                                                    model_parameters, True)\n"
   ]
  },
  {
   "cell_type": "code",
   "execution_count": null,
   "metadata": {},
   "outputs": [],
   "source": [
    "# setting also the background\n",
    "background = VariablesDiagnostic([21, 29, 0], model_parameters, False)\n",
    "background.set_data(reference_time, reference_traj)"
   ]
  },
  {
   "cell_type": "markdown",
   "metadata": {},
   "source": [
    "Selecting a subset of the data to plot:"
   ]
  },
  {
   "cell_type": "code",
   "execution_count": null,
   "metadata": {},
   "outputs": [],
   "source": [
    "stride = 10\n",
    "time = ctl[::stride]\n",
    "traj = ctraj[:, ::stride]\n",
    "lvec = cvec[:, 0, ::stride]"
   ]
  },
  {
   "cell_type": "markdown",
   "metadata": {},
   "source": [
    "Loading the trajectory data into the diagnostics"
   ]
  },
  {
   "cell_type": "code",
   "execution_count": null,
   "metadata": {},
   "outputs": [],
   "source": [
    "psi_a.set_data(time, traj)\n",
    "psi_o.set_data(time, traj)\n",
    "theta_a.set_data(time, traj)\n",
    "theta_o.set_data(time, traj)"
   ]
  },
  {
   "cell_type": "markdown",
   "metadata": {},
   "source": [
    "Loading the Lyapunov vectors data into the Lyapunov diagnostics"
   ]
  },
  {
   "cell_type": "code",
   "execution_count": null,
   "metadata": {},
   "outputs": [],
   "source": [
    "psi_a_clyap.set_data(time, lvec)\n",
    "psi_o_clyap.set_data(time, lvec)\n",
    "theta_a_clyap.set_data(time, lvec)\n",
    "theta_o_clyap.set_data(time, lvec)"
   ]
  },
  {
   "cell_type": "markdown",
   "metadata": {},
   "source": [
    "Loading the data in a combined diagnostic (FieldsDiagnosticsList)"
   ]
  },
  {
   "cell_type": "code",
   "execution_count": null,
   "metadata": {},
   "outputs": [],
   "source": [
    "psi_a_l = FieldsDiagnosticsList([psi_a, psi_a_clyap])\n",
    "psi_o_l = FieldsDiagnosticsList([psi_o, psi_o_clyap])\n",
    "\n",
    "theta_a_l = FieldsDiagnosticsList([theta_a, theta_a_clyap])\n",
    "theta_o_l = FieldsDiagnosticsList([theta_o, theta_o_clyap])\n"
   ]
  },
  {
   "cell_type": "markdown",
   "metadata": {},
   "source": [
    "Creating a multi diagnostic with all the diagnostics:"
   ]
  },
  {
   "cell_type": "code",
   "execution_count": null,
   "metadata": {},
   "outputs": [],
   "source": [
    "m = MultiDiagnostic(2,3)\n",
    "m.add_diagnostic(geopot_dim, \n",
    "                 diagnostic_kwargs={'style':'moving-timeserie'})\n",
    "m.add_diagnostic(theta_a_l, \n",
    "                 diagnostic_kwargs={'style': ['image', 'contour'],\n",
    "                                    'contour_labels': False,\n",
    "                                    'show_time': True,\n",
    "                                    'oro_kwargs': False}, \n",
    "                 plot_kwargs=[{'cmap': plt.get_cmap('gist_yarg')}, {'colors':'k'}])\n",
    "m.add_diagnostic(theta_o_l, \n",
    "                 diagnostic_kwargs={'style': ['image', 'contour'],\n",
    "                                    'contour_labels': False,\n",
    "                                    'show_time': True,\n",
    "                                    'oro_kwargs': False}, \n",
    "                 plot_kwargs=[{'cmap': plt.get_cmap('gist_yarg')}, {'colors':'k'}])\n",
    "m.add_diagnostic(variable_nondim,\n",
    "                 diagnostic_kwargs={'show_time':False,\n",
    "                                    'background': background,\n",
    "                                    'style':'3Dscatter'},\n",
    "                 plot_kwargs={'ms': 0.2})\n",
    "m.add_diagnostic(psi_a_l,\n",
    "                 diagnostic_kwargs={'style': ['image', 'contour'],\n",
    "                                    'contour_labels': False,\n",
    "                                    'show_time': True,\n",
    "                                    'oro_kwargs': False}, \n",
    "                 plot_kwargs=[{'cmap': plt.get_cmap('gist_yarg')}, {'colors':'k'}])\n",
    "m.add_diagnostic(psi_o_l,\n",
    "                 diagnostic_kwargs={'style': ['image', 'contour'],\n",
    "                                    'contour_labels': False,\n",
    "                                    'show_time': True,\n",
    "                                    'oro_kwargs': False}, \n",
    "                 plot_kwargs=[{'cmap': plt.get_cmap('gist_yarg')}, {'colors':'k'}])\n",
    "\n",
    "m.set_data(time, traj)"
   ]
  },
  {
   "cell_type": "markdown",
   "metadata": {},
   "source": [
    "and show an interactive animation:"
   ]
  },
  {
   "cell_type": "code",
   "execution_count": null,
   "metadata": {
    "scrolled": false
   },
   "outputs": [],
   "source": [
    "rc('font',**{'family':'serif','sans-serif':['Times'],'size':12})\n",
    "m.animate(figsize=(23,12))"
   ]
  },
  {
   "cell_type": "markdown",
   "metadata": {},
   "source": [
    "or a movie (may takes some minutes to compute):"
   ]
  },
  {
   "cell_type": "code",
   "execution_count": null,
   "metadata": {
    "scrolled": false
   },
   "outputs": [],
   "source": [
    "%%time\n",
    "rc('font',**{'family':'serif','sans-serif':['Times'],'size':12})\n",
    "rc('animation', embed_limit=100.)\n",
    "m.movie(figsize=(23.5,12), anim_kwargs={'interval': 100, 'frames':2000})"
   ]
  },
  {
   "cell_type": "code",
   "execution_count": null,
   "metadata": {},
   "outputs": [],
   "source": []
  }
 ],
 "metadata": {
  "kernelspec": {
   "display_name": "Python 3 (ipykernel)",
   "language": "python",
   "name": "python3"
  },
  "language_info": {
   "codemirror_mode": {
    "name": "ipython",
    "version": 3
   },
   "file_extension": ".py",
   "mimetype": "text/x-python",
   "name": "python",
   "nbconvert_exporter": "python",
   "pygments_lexer": "ipython3",
   "version": "3.8.11"
  }
 },
 "nbformat": 4,
 "nbformat_minor": 2
}
