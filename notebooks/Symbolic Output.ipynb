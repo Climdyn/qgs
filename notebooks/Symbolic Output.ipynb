{
 "cells": [
  {
   "cell_type": "code",
   "execution_count": null,
   "id": "12f59a3f",
   "metadata": {},
   "outputs": [],
   "source": [
    "import sys, os\n",
    "sys.path.extend([os.path.abspath('../')])"
   ]
  },
  {
   "cell_type": "code",
   "execution_count": null,
   "id": "7711e102",
   "metadata": {},
   "outputs": [],
   "source": [
    "from qgs.params.params import QgParams"
   ]
  },
  {
   "cell_type": "code",
   "execution_count": null,
   "id": "bf632fac",
   "metadata": {},
   "outputs": [],
   "source": [
    "model_parameters = QgParams(dynamic_T=True)"
   ]
  },
  {
   "cell_type": "code",
   "execution_count": null,
   "id": "a2a8e7c1",
   "metadata": {},
   "outputs": [],
   "source": [
    "model_parameters.set_atmospheric_channel_fourier_modes(2, 2, mode=\"symbolic\")\n",
    "# Mode truncation at the wavenumber 2 in the x and at the \n",
    "# wavenumber 4 in the y spatial coordinates for the ocean\n",
    "model_parameters.set_oceanic_basin_fourier_modes(2, 4, mode=\"symbolic\")"
   ]
  },
  {
   "cell_type": "code",
   "execution_count": null,
   "id": "006f3c7d",
   "metadata": {},
   "outputs": [],
   "source": [
    "model_parameters.symbolic_params"
   ]
  },
  {
   "cell_type": "code",
   "execution_count": null,
   "id": "36811d45",
   "metadata": {},
   "outputs": [],
   "source": [
    "model_parameters.symbolic_params['atm_gamma']"
   ]
  },
  {
   "cell_type": "code",
   "execution_count": null,
   "id": "8500ea89",
   "metadata": {},
   "outputs": [],
   "source": [
    "from qgs.inner_products.symbolic import AtmosphericSymbolicInnerProducts, OceanicSymbolicInnerProducts\n",
    "from qgs.tensors.qgtensor import QgsTensor, QgsTensorDynamicT, QgsTensorT4\n",
    "from qgs.tensors.symbolic_qgtensor import SymbolicTensorLinear"
   ]
  },
  {
   "cell_type": "code",
   "execution_count": null,
   "id": "6112c83a",
   "metadata": {
    "scrolled": true
   },
   "outputs": [],
   "source": [
    "%%time\n",
    "# atm_ip = AtmosphericSymbolicInnerProducts(model_parameters)\n",
    "# ocn_ip_stored = OceanicSymbolicInnerProducts(model_parameters, stored=True, return_symbolic=True)\n",
    "ocn_ip = OceanicSymbolicInnerProducts(model_parameters, stored=False, return_symbolic=True)"
   ]
  },
  {
   "cell_type": "code",
   "execution_count": null,
   "id": "6dcb5b8c",
   "metadata": {},
   "outputs": [],
   "source": [
    "ocn_ip.return_symbolic"
   ]
  },
  {
   "cell_type": "code",
   "execution_count": null,
   "id": "f4c7717f",
   "metadata": {},
   "outputs": [],
   "source": [
    "import sympy as sy"
   ]
  },
  {
   "cell_type": "code",
   "execution_count": null,
   "id": "c5064c91",
   "metadata": {},
   "outputs": [],
   "source": [
    "# U_inv = dict()\n",
    "\n",
    "# for i in range(model_parameters.number_of_variables[3]):\n",
    "#     for j in range(model_parameters.number_of_variables[3]):\n",
    "#         U_inv[(i, j)] = ocn_ip.U(i, j)\n",
    "# U_inv = sy.matrices.immutable.ImmutableSparseMatrix(model_parameters.number_of_variables[3], model_parameters.number_of_variables[3], U_inv)\n",
    "# U_inv = sy.matrices.Inverse(U_inv)"
   ]
  },
  {
   "cell_type": "code",
   "execution_count": null,
   "id": "e28d4eee",
   "metadata": {},
   "outputs": [],
   "source": [
    "# U_inv"
   ]
  },
  {
   "cell_type": "code",
   "execution_count": null,
   "id": "a2d3c783",
   "metadata": {},
   "outputs": [],
   "source": [
    "# U_inv = dict()\n",
    "\n",
    "# for i in range(model_parameters.number_of_variables[3]):\n",
    "#     for j in range(model_parameters.number_of_variables[3]):\n",
    "#         U_inv[(i, j)] = ocn_ip_stored.U(i, j)\n",
    "# U_inv = sy.matrices.immutable.ImmutableSparseMatrix(model_parameters.number_of_variables[3], model_parameters.number_of_variables[3], U_inv)\n",
    "# U_inv = sy.matrices.Inverse(U_inv)"
   ]
  },
  {
   "cell_type": "code",
   "execution_count": null,
   "id": "2512cef4",
   "metadata": {},
   "outputs": [],
   "source": [
    "# U_inv"
   ]
  },
  {
   "cell_type": "code",
   "execution_count": null,
   "id": "041f2236",
   "metadata": {},
   "outputs": [],
   "source": [
    "# ocn_ip_stored._Z.shape"
   ]
  },
  {
   "cell_type": "code",
   "execution_count": null,
   "id": "768c0226",
   "metadata": {},
   "outputs": [],
   "source": [
    "# from sympy import tensorproduct"
   ]
  },
  {
   "cell_type": "code",
   "execution_count": null,
   "id": "e006ef35",
   "metadata": {},
   "outputs": [],
   "source": [
    "# x = U_inv[1, :] * ocn_ip_stored._Z[:, :, :, :, :]"
   ]
  },
  {
   "cell_type": "code",
   "execution_count": null,
   "id": "78bb6c3a",
   "metadata": {},
   "outputs": [],
   "source": [
    "# x.shape"
   ]
  },
  {
   "cell_type": "code",
   "execution_count": null,
   "id": "76f0cb66",
   "metadata": {},
   "outputs": [],
   "source": [
    "# model_parameters.symbolic_params['atm_T0']"
   ]
  },
  {
   "cell_type": "code",
   "execution_count": null,
   "id": "35d77653",
   "metadata": {
    "scrolled": true
   },
   "outputs": [],
   "source": [
    "%%time\n",
    "# atm_ip_stored = AtmosphericSymbolicInnerProducts(model_parameters, return_symbolic=True)\n",
    "atm_ip = AtmosphericSymbolicInnerProducts(model_parameters, stored=False, return_symbolic=True)"
   ]
  },
  {
   "cell_type": "code",
   "execution_count": null,
   "id": "70086b90",
   "metadata": {},
   "outputs": [],
   "source": [
    "# atm_ip_stored.save_to_file('temp_atm_sym.ip')\n",
    "# ocn_ip_stored.save_to_file('temp_ocn_sym.ip')"
   ]
  },
  {
   "cell_type": "code",
   "execution_count": null,
   "id": "ea85360f",
   "metadata": {
    "scrolled": true
   },
   "outputs": [],
   "source": [
    "atm_loaded = AtmosphericSymbolicInnerProducts(model_parameters)\n",
    "ocn_loaded = OceanicSymbolicInnerProducts(model_parameters)"
   ]
  },
  {
   "cell_type": "code",
   "execution_count": null,
   "id": "196d5440",
   "metadata": {},
   "outputs": [],
   "source": [
    "atm_loaded.load_from_file('temp_atm_sym.ip')\n",
    "ocn_loaded.load_from_file('temp_ocn_sym.ip')"
   ]
  },
  {
   "cell_type": "markdown",
   "id": "d43d341b",
   "metadata": {},
   "source": [
    "## Testing the symbolic_qgtensor"
   ]
  },
  {
   "cell_type": "code",
   "execution_count": null,
   "id": "2e17b891",
   "metadata": {},
   "outputs": [],
   "source": [
    "ten = SymbolicTensorLinear(params=model_parameters, atmospheric_inner_products=atm_loaded, oceanic_inner_products=ocn_loaded)"
   ]
  },
  {
   "cell_type": "code",
   "execution_count": null,
   "id": "cf668cb9",
   "metadata": {},
   "outputs": [],
   "source": [
    "ten.compute_tensor()"
   ]
  },
  {
   "cell_type": "code",
   "execution_count": null,
   "id": "91d6fde6",
   "metadata": {},
   "outputs": [],
   "source": []
  },
  {
   "cell_type": "code",
   "execution_count": null,
   "id": "f7d9a482",
   "metadata": {},
   "outputs": [],
   "source": [
    "a_inv = dict()\n",
    "for i in range(0, 10):\n",
    "    for j in range(0, 10):\n",
    "        a_inv[(i - 0, j - 0)] = atm_loaded.a(i, j)\n",
    "\n",
    "a_inv = sy.matrices.immutable.ImmutableSparseMatrix(10, 10, a_inv)\n",
    "a_inv = sy.matrices.Inverse(a_inv)"
   ]
  },
  {
   "cell_type": "code",
   "execution_count": null,
   "id": "06362de1",
   "metadata": {},
   "outputs": [],
   "source": [
    "a_inv"
   ]
  },
  {
   "cell_type": "code",
   "execution_count": null,
   "id": "88a32f70",
   "metadata": {},
   "outputs": [],
   "source": [
    "atm_loaded._c[1:, 2].shape"
   ]
  },
  {
   "cell_type": "code",
   "execution_count": null,
   "id": "b6c23fca",
   "metadata": {},
   "outputs": [],
   "source": [
    "a_inv[1, :] * atm_loaded._c[1:, 2]"
   ]
  },
  {
   "cell_type": "code",
   "execution_count": null,
   "id": "c23f807c",
   "metadata": {},
   "outputs": [],
   "source": []
  }
 ],
 "metadata": {
  "kernelspec": {
   "display_name": "Python 3 (ipykernel)",
   "language": "python",
   "name": "python3"
  },
  "language_info": {
   "codemirror_mode": {
    "name": "ipython",
    "version": 3
   },
   "file_extension": ".py",
   "mimetype": "text/x-python",
   "name": "python",
   "nbconvert_exporter": "python",
   "pygments_lexer": "ipython3",
   "version": "3.8.10"
  }
 },
 "nbformat": 4,
 "nbformat_minor": 5
}
