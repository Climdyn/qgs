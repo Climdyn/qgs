{
 "cells": [
  {
   "cell_type": "code",
   "execution_count": null,
   "id": "12f59a3f",
   "metadata": {},
   "outputs": [],
   "source": [
    "import sys, os\n",
    "sys.path.extend([os.path.abspath('../')])"
   ]
  },
  {
   "cell_type": "code",
   "execution_count": null,
   "id": "7711e102",
   "metadata": {},
   "outputs": [],
   "source": [
    "from qgs.params.params import QgParams"
   ]
  },
  {
   "cell_type": "code",
   "execution_count": null,
   "id": "a2a8e7c1",
   "metadata": {},
   "outputs": [],
   "source": [
    "model_parameters = QgParams(dynamic_T=True)\n",
    "model_parameters.set_atmospheric_channel_fourier_modes(2, 2, mode=\"symbolic\")\n",
    "# Mode truncation at the wavenumber 2 in the x and at the \n",
    "# wavenumber 4 in the y spatial coordinates for the ocean\n",
    "model_parameters.set_oceanic_basin_fourier_modes(2, 4, mode=\"symbolic\")"
   ]
  },
  {
   "cell_type": "code",
   "execution_count": null,
   "id": "006f3c7d",
   "metadata": {},
   "outputs": [],
   "source": [
    "model_parameters.symbolic_params"
   ]
  },
  {
   "cell_type": "code",
   "execution_count": null,
   "id": "36811d45",
   "metadata": {},
   "outputs": [],
   "source": [
    "model_parameters.symbolic_params['atm_gamma']"
   ]
  },
  {
   "cell_type": "code",
   "execution_count": null,
   "id": "8500ea89",
   "metadata": {},
   "outputs": [],
   "source": [
    "from qgs.inner_products.analytic import AtmosphericAnalyticInnerProducts, OceanicAnalyticInnerProducts, GroundAnalyticInnerProducts\n",
    "from qgs.inner_products.symbolic import AtmosphericSymbolicInnerProducts, OceanicSymbolicInnerProducts, GroundSymbolicInnerProducts\n",
    "from qgs.tensors.qgtensor import QgsTensor, QgsTensorDynamicT, QgsTensorT4\n",
    "from qgs.tensors.symbolic_qgtensor import SymbolicLinTensor"
   ]
  },
  {
   "cell_type": "code",
   "execution_count": null,
   "id": "6112c83a",
   "metadata": {
    "scrolled": true
   },
   "outputs": [],
   "source": [
    "atm_ip = AtmosphericSymbolicInnerProducts(model_parameters)\n",
    "ocn_ip = OceanicSymbolicInnerProducts(model_parameters)"
   ]
  },
  {
   "cell_type": "code",
   "execution_count": null,
   "id": "81d1676b",
   "metadata": {},
   "outputs": [],
   "source": [
    "sym_ten = SymbolicLinTensor(model_parameters, atm_ip, ocn_ip)"
   ]
  },
  {
   "cell_type": "code",
   "execution_count": null,
   "id": "8037bbb9",
   "metadata": {},
   "outputs": [],
   "source": [
    "sym_ten.LR"
   ]
  },
  {
   "cell_type": "code",
   "execution_count": null,
   "id": "76f0cb66",
   "metadata": {},
   "outputs": [],
   "source": [
    "model_parameters.symbolic_params['atm_T0']"
   ]
  },
  {
   "cell_type": "code",
   "execution_count": null,
   "id": "f3e895e2",
   "metadata": {},
   "outputs": [],
   "source": []
  }
 ],
 "metadata": {
  "kernelspec": {
   "display_name": "Python 3 (ipykernel)",
   "language": "python",
   "name": "python3"
  },
  "language_info": {
   "codemirror_mode": {
    "name": "ipython",
    "version": 3
   },
   "file_extension": ".py",
   "mimetype": "text/x-python",
   "name": "python",
   "nbconvert_exporter": "python",
   "pygments_lexer": "ipython3",
   "version": "3.8.10"
  }
 },
 "nbformat": 4,
 "nbformat_minor": 5
}
