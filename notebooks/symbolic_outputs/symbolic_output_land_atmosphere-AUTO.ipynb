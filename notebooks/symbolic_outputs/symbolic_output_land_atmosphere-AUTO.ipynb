{
 "cells": [
  {
   "cell_type": "markdown",
   "id": "037e82a6",
   "metadata": {},
   "source": [
    "# Output of the symbolic tendencies: AUTO example "
   ]
  },
  {
   "cell_type": "markdown",
   "id": "9b0e76cb",
   "metadata": {},
   "source": [
    "In this notebook, we show how to create the symbolic tendencies of the model and use them to perform continuation of solutions as parameters are varied, using the [AUTO-07p](https://github.com/auto-07p/auto-07p) continuation software. Symbolic tendencies here means that it is possible to make any parameter of the model appears in the tendencies equations.\n",
    "\n",
    "The present notebook will create the Fortran tendencies equations code and insert it into a given AUTO template.\n",
    "This can then be used inside the notebook directly."
   ]
  },
  {
   "cell_type": "markdown",
   "id": "b8b7c180",
   "metadata": {},
   "source": [
    "More details about the model used in this notebook can be found in the articles:\n",
    "* Hamilton, O., Demaeyer, J., Vannitsem, S., & Crucifix, M. (2025). *Using Unstable Periodic Orbits to Understand Blocking Behaviour in a Low Order Land-Atmosphere Model*. Submitted to Chaos. [preprint](https://doi.org/10.48550/arXiv.2503.02808)\n",
    "* Xavier, A. K., Demaeyer, J., & Vannitsem, S. (2024). *Variability and predictability of a reduced-order land–atmosphere coupled model.* Earth System Dynamics, **15**(4), 893-912. [doi:10.5194/esd-15-893-2024](https://doi.org/10.5194/esd-15-893-2024)\n",
    "\n",
    "or in the documentation. In particular, Hamilton et. al. (2025) used the symbolic tendencies here provided to compute periodic orbits, along with an automatic layer for AUTO called [auto-AUTO](https://github.com/Climdyn/auto-AUTO)."
   ]
  },
  {
   "cell_type": "markdown",
   "id": "98188e40",
   "metadata": {},
   "source": [
    "> **To run this notebook, you need AUTO properly installed and configured !**\n",
    ">\n",
    "> **In general, it means that typing** `auto` **in a terminal starts the AUTO Python interface.**"
   ]
  },
  {
   "cell_type": "markdown",
   "id": "1c3c8250",
   "metadata": {},
   "source": [
    "## Modules import"
   ]
  },
  {
   "cell_type": "markdown",
   "id": "cfb7a334",
   "metadata": {},
   "source": [
    "First, setting the path and loading of some modules"
   ]
  },
  {
   "cell_type": "code",
   "execution_count": null,
   "id": "12f59a3f",
   "metadata": {},
   "outputs": [],
   "source": [
    "import sys, os\n",
    "sys.path.extend([os.path.abspath('../../')])"
   ]
  },
  {
   "cell_type": "code",
   "execution_count": null,
   "id": "2d1499c4",
   "metadata": {},
   "outputs": [],
   "source": [
    "import glob"
   ]
  },
  {
   "cell_type": "code",
   "execution_count": null,
   "id": "4a29d8d6",
   "metadata": {},
   "outputs": [],
   "source": [
    "import numpy as np\n",
    "import matplotlib.pyplot as plt"
   ]
  },
  {
   "cell_type": "markdown",
   "id": "029a6f39",
   "metadata": {},
   "source": [
    "Importing the model's modules"
   ]
  },
  {
   "cell_type": "code",
   "execution_count": null,
   "id": "7711e102",
   "metadata": {},
   "outputs": [],
   "source": [
    "from qgs.params.params import QgParams"
   ]
  },
  {
   "cell_type": "code",
   "execution_count": null,
   "id": "7e0d469c",
   "metadata": {},
   "outputs": [],
   "source": [
    "from qgs.functions.symbolic_tendencies import create_symbolic_tendencies"
   ]
  },
  {
   "cell_type": "markdown",
   "id": "c85c3ef7",
   "metadata": {},
   "source": [
    "## Systems definition"
   ]
  },
  {
   "cell_type": "markdown",
   "id": "f5c74bfa",
   "metadata": {},
   "source": [
    "Setting some model parameters"
   ]
  },
  {
   "cell_type": "code",
   "execution_count": null,
   "id": "bf632fac",
   "metadata": {},
   "outputs": [],
   "source": [
    "model_parameters = QgParams({'phi0_npi': np.deg2rad(50.)/np.pi, 'n':1.3 }, dynamic_T=False)"
   ]
  },
  {
   "cell_type": "markdown",
   "id": "19326037",
   "metadata": {},
   "source": [
    "and defining the spectral modes used by the model (they must be *symbolic*)"
   ]
  },
  {
   "cell_type": "code",
   "execution_count": null,
   "id": "a2a8e7c1",
   "metadata": {},
   "outputs": [],
   "source": [
    "# Mode truncation at the wavenumber 2 in both x and y spatial coordinate for the atmosphere\n",
    "model_parameters.set_atmospheric_channel_fourier_modes(2, 2, mode=\"symbolic\")\n",
    "# Same modes for the ground temperature modes\n",
    "model_parameters.set_ground_channel_fourier_modes(2, 2, mode=\"symbolic\")"
   ]
  },
  {
   "cell_type": "markdown",
   "id": "8bf273c3",
   "metadata": {},
   "source": [
    "Completing the model parameters"
   ]
  },
  {
   "cell_type": "code",
   "execution_count": null,
   "id": "3237dc76",
   "metadata": {},
   "outputs": [],
   "source": [
    "# Changing (increasing) the orography depth\n",
    "model_parameters.ground_params.set_orography(0.2, 1)\n",
    "# Setting the parameters of the heat transfer from the soil\n",
    "model_parameters.gotemperature_params.set_params({'gamma': 1.6e7, 'T0': 300})\n",
    "model_parameters.atemperature_params.set_params({ 'hlambda':10, 'T0': 290})\n",
    "# Setting atmospheric parameters\n",
    "model_parameters.atmospheric_params.set_params({'sigma': 0.2, 'kd': 0.085, 'kdp': 0.02})\n",
    "\n",
    "# Setting insolation \n",
    "model_parameters.gotemperature_params.set_params({})"
   ]
  },
  {
   "cell_type": "code",
   "execution_count": null,
   "id": "51907767",
   "metadata": {},
   "outputs": [],
   "source": [
    "C_g = 300\n",
    "model_parameters.atemperature_params.set_insolation(0.4*C_g , 0)\n",
    "\n",
    "model_parameters.gotemperature_params.set_insolation(C_g , 0)"
   ]
  },
  {
   "cell_type": "code",
   "execution_count": null,
   "id": "979e2a7c",
   "metadata": {},
   "outputs": [],
   "source": [
    "# Printing the model's parameters\n",
    "model_parameters.print_params()"
   ]
  },
  {
   "cell_type": "markdown",
   "id": "da46eccd",
   "metadata": {},
   "source": [
    "## Creating AUTO files"
   ]
  },
  {
   "cell_type": "markdown",
   "id": "8ddc3286",
   "metadata": {},
   "source": [
    "Calculating the tendencies in Fortran for AUTO as a function of the parameters $C_{{\\rm o},0}$, $C_{{\\rm a},0}$, $k_d$ and $k'_d$:"
   ]
  },
  {
   "cell_type": "code",
   "execution_count": null,
   "id": "af1b4747",
   "metadata": {},
   "outputs": [],
   "source": [
    "funcs, = create_symbolic_tendencies(model_parameters, continuation_variables=[model_parameters.gotemperature_params.C[0], model_parameters.atemperature_params.C[0], model_parameters.atmospheric_params.kd, model_parameters.atmospheric_params.kdp], language='auto')"
   ]
  },
  {
   "cell_type": "markdown",
   "id": "b21db3b5",
   "metadata": {},
   "source": [
    "Let's inspect the output. First the AUTO `.f90` file:"
   ]
  },
  {
   "cell_type": "code",
   "execution_count": null,
   "id": "2bdd3728",
   "metadata": {
    "scrolled": true
   },
   "outputs": [],
   "source": [
    "print(funcs[0])"
   ]
  },
  {
   "cell_type": "markdown",
   "id": "5cb3a9aa",
   "metadata": {},
   "source": [
    "and then AUTO `c.` configuration file:"
   ]
  },
  {
   "cell_type": "code",
   "execution_count": null,
   "id": "73c0eb0a",
   "metadata": {
    "scrolled": true
   },
   "outputs": [],
   "source": [
    "print(funcs[1])"
   ]
  },
  {
   "cell_type": "markdown",
   "id": "bfe60c32",
   "metadata": {},
   "source": [
    "We can now use both to write the AUTO files.\n",
    "First we will modify the tendencies to force $C_{{\\rm a}, 1} = 0.4 C_{{\\rm g}, 1}$ , which is a standard assumption for these models, and reduces the number of parameters to define :"
   ]
  },
  {
   "cell_type": "code",
   "execution_count": null,
   "id": "87f86011",
   "metadata": {},
   "outputs": [],
   "source": [
    "# splitting all the lines of the .f90 file\n",
    "auto_eq_lines = funcs[0].split('\\n')"
   ]
  },
  {
   "cell_type": "code",
   "execution_count": null,
   "id": "ec60bcec",
   "metadata": {},
   "outputs": [],
   "source": [
    "# forcing the change\n",
    "for i, line in enumerate(auto_eq_lines):\n",
    "    if 'C_a1 = PAR(2)' in line:\n",
    "        auto_eq_lines[i] = '\\tC_a1 = 0.4*C_go1'\n",
    "        break"
   ]
  },
  {
   "cell_type": "code",
   "execution_count": null,
   "id": "626c1862",
   "metadata": {},
   "outputs": [],
   "source": [
    "# gathering all the lines again in a single string\n",
    "auto_eq = '\\n'.join(auto_eq_lines)"
   ]
  },
  {
   "cell_type": "markdown",
   "id": "b0d3fb95",
   "metadata": {},
   "source": [
    "Taking care of the config file, changing some default settings:"
   ]
  },
  {
   "cell_type": "code",
   "execution_count": null,
   "id": "78c7ceba",
   "metadata": {},
   "outputs": [],
   "source": [
    "# splitting all the lines of the c. file\n",
    "auto_config_lines = funcs[1].split('\\n')"
   ]
  },
  {
   "cell_type": "code",
   "execution_count": null,
   "id": "065e83b3",
   "metadata": {},
   "outputs": [],
   "source": [
    "# introducing some user defined points for AUTO\n",
    "for i, line in enumerate(auto_config_lines):\n",
    "    if 'UZR' in line:\n",
    "        auto_config_lines[i] = \"UZR = {'C_go1': \" + str(list(np.arange(50.,375.,50.)))+\"}\"\n",
    "        break"
   ]
  },
  {
   "cell_type": "code",
   "execution_count": null,
   "id": "cc7b79fe",
   "metadata": {},
   "outputs": [],
   "source": [
    "# imposing that C_go1 is between 0. and 400. as stopping condition for AUTO\n",
    "for i, line in enumerate(auto_config_lines):\n",
    "    if 'UZSTOP' in line:\n",
    "        auto_config_lines[i] = \"UZSTOP = {'C_go1': [0.,400.]}\"\n",
    "        break"
   ]
  },
  {
   "cell_type": "code",
   "execution_count": null,
   "id": "f7760092",
   "metadata": {},
   "outputs": [],
   "source": [
    "# gathering all the lines again in a single string\n",
    "auto_config = '\\n'.join(auto_config_lines)"
   ]
  },
  {
   "cell_type": "markdown",
   "id": "5289260a",
   "metadata": {},
   "source": [
    "and writing to files:"
   ]
  },
  {
   "cell_type": "code",
   "execution_count": null,
   "id": "80f05363",
   "metadata": {},
   "outputs": [],
   "source": [
    "model_name = 'qgs_land-atmosphere_auto'\n",
    "with open(f'{model_name}.f90', 'w') as ff:\n",
    "    ff.write(auto_eq)\n",
    "    \n",
    "with open(f'c.{model_name}', 'w') as ff:\n",
    "    ff.write(auto_config)"
   ]
  },
  {
   "cell_type": "markdown",
   "id": "3f219527",
   "metadata": {},
   "source": [
    "## Defining some plotting functions"
   ]
  },
  {
   "cell_type": "markdown",
   "id": "5801aaa0",
   "metadata": {},
   "source": [
    "to help us investigate the results later:"
   ]
  },
  {
   "cell_type": "code",
   "execution_count": null,
   "id": "29fe26ab",
   "metadata": {},
   "outputs": [],
   "source": [
    "def plot_branches(filename, variables=(0,1), ax=None, figsize=(10, 8), markersize=12., plot_kwargs=None, marker_kwargs=None, branch_indices='all', excluded_labels=('UZ', 'EP', 'No Label'), variables_name=None):\n",
    "    \n",
    "    if ax is None:\n",
    "        fig = plt.figure(figsize=figsize)\n",
    "        ax = fig.gca()\n",
    "        \n",
    "    if plot_kwargs is None:\n",
    "        plot_kwargs = dict()\n",
    "        \n",
    "    if marker_kwargs is None:\n",
    "        marker_kwargs = dict()\n",
    "    \n",
    "    pb_obj = parseB.parseB()\n",
    "    fb = open(filename, 'r')\n",
    "    pb_obj.read(fb)\n",
    "    \n",
    "    keys = list(pb_obj.branches[0].keys())\n",
    "    \n",
    "    if variables[0] in keys:\n",
    "        var1 = variables[0]\n",
    "    else:\n",
    "        try:\n",
    "            var1 = keys[variables[0]]\n",
    "        except:\n",
    "            var1 = keys[0]\n",
    "\n",
    "    if variables[1] in keys:\n",
    "        var2 = variables[1]\n",
    "    else:\n",
    "        try:\n",
    "            var2 = keys[variables[1]]\n",
    "        except:\n",
    "            var2 = keys[1]\n",
    "\n",
    "    if branch_indices == 'all':\n",
    "        branch_indices = range(len(pb_obj.branches))\n",
    "\n",
    "    branch_num = list()\n",
    "    for i in branch_indices:\n",
    "        branch_dict = pb_obj.branches[i].todict()\n",
    "        branch_num.append(pb_obj.branches[i]['BR'])\n",
    "\n",
    "        labels = list()\n",
    "        for j, coords in enumerate(zip(branch_dict[var1], branch_dict[var2])):\n",
    "            lab = pb_obj.branches[i].labels[j]\n",
    "            if not lab:\n",
    "                pass\n",
    "            else:\n",
    "                labels.append((coords, list(lab.keys())[0]))\n",
    "\n",
    "        ax.plot(branch_dict[var1], branch_dict[var2], **plot_kwargs)\n",
    "        if excluded_labels != 'all':\n",
    "            for label in labels:\n",
    "                coords = label[0]\n",
    "                lab = label[1]\n",
    "                if lab not in excluded_labels:\n",
    "                    ax.text(coords[0], coords[1], r'${\\bf '+ lab + r'}$', fontdict={'family':'sans-serif','size':markersize},va='center', ha='center', **marker_kwargs, clip_on=True)\n",
    "    \n",
    "    fb.close()\n",
    "    if variables_name is None:\n",
    "        ax.set_xlabel(var1)\n",
    "        ax.set_ylabel(var2)\n",
    "    else:\n",
    "        if isinstance(variables_name, dict):\n",
    "            ax.set_xlabel(variables_name[var1])\n",
    "            ax.set_ylabel(variables_name[var2])\n",
    "        else:\n",
    "            ax.set_xlabel(variables_name[0])\n",
    "            ax.set_ylabel(variables_name[1])\n",
    "    return ax, branch_num"
   ]
  },
  {
   "cell_type": "code",
   "execution_count": null,
   "id": "c1b0d5cb",
   "metadata": {},
   "outputs": [],
   "source": [
    "def plot_branches3d(filename, variables=(0,1,3), ax=None, figsize=(10, 8), markersize=12., plot_kwargs=None, marker_kwargs=None, branch_indices='all', excluded_labels=('UZ', 'EP', 'No Label'), variables_name=None):\n",
    "    \n",
    "    if ax is None:\n",
    "        fig = plt.figure(figsize=figsize)\n",
    "        ax = plt.subplot(projection='3d')\n",
    "        \n",
    "    if plot_kwargs is None:\n",
    "        plot_kwargs = dict()\n",
    "        \n",
    "    if marker_kwargs is None:\n",
    "        marker_kwargs = dict()\n",
    "    \n",
    "    pb_obj = parseB.parseB()\n",
    "    fb = open(filename, 'r')\n",
    "    pb_obj.read(fb)\n",
    "    \n",
    "    keys = list(pb_obj.branches[0].keys())\n",
    "    \n",
    "    if variables[0] in keys:\n",
    "        var1 = variables[0]\n",
    "    else:\n",
    "        try:\n",
    "            var1 = keys[variables[0]]\n",
    "        except:\n",
    "            var1 = keys[0]\n",
    "\n",
    "    if variables[1] in keys:\n",
    "        var2 = variables[1]\n",
    "    else:\n",
    "        try:\n",
    "            var2 = keys[variables[1]]\n",
    "        except:\n",
    "            var2 = keys[1]\n",
    "            \n",
    "    if variables[2] in keys:\n",
    "        var3 = variables[2]\n",
    "    else:\n",
    "        try:\n",
    "            var3 = keys[variables[2]]\n",
    "        except:\n",
    "            var3 = keys[2]\n",
    "\n",
    "\n",
    "    if branch_indices == 'all':\n",
    "        branch_indices = range(len(pb_obj.branches))\n",
    "\n",
    "    branch_num = list()\n",
    "    for i in branch_indices:\n",
    "        branch_dict = pb_obj.branches[i].todict()\n",
    "        branch_num.append(pb_obj.branches[i]['BR'])\n",
    "\n",
    "        labels = list()\n",
    "        for j, coords in enumerate(zip(branch_dict[var1], branch_dict[var2], branch_dict[var3])):\n",
    "            lab = pb_obj.branches[i].labels[j]\n",
    "            if not lab:\n",
    "                pass\n",
    "            else:\n",
    "                labels.append((coords, list(lab.keys())[0]))\n",
    "\n",
    "        ax.plot(branch_dict[var1], branch_dict[var2], branch_dict[var3], **plot_kwargs)\n",
    "        if excluded_labels != 'all':\n",
    "            for label in labels:\n",
    "                coords = label[0]\n",
    "                lab = label[1]\n",
    "                if lab not in excluded_labels:\n",
    "                    ax.text(coords[0], coords[1], coords[2], r'${\\bf '+ lab + r'}$', fontdict={'family':'sans-serif','size':markersize},va='center', ha='center', **marker_kwargs, clip_on=True)\n",
    "    \n",
    "    fb.close()\n",
    "    if variables_name is None:\n",
    "        ax.set_xlabel(var1)\n",
    "        ax.set_ylabel(var2)\n",
    "        ax.set_zlabel(var3)\n",
    "    else:\n",
    "        if isinstance(variables_name, dict):\n",
    "            ax.set_xlabel(variables_name[var1])\n",
    "            ax.set_ylabel(variables_name[var2])\n",
    "            ax.set_zlabel(variables_name[var3])\n",
    "        else:\n",
    "            ax.set_xlabel(variables_name[0])\n",
    "            ax.set_ylabel(variables_name[1])\n",
    "            ax.set_zlabel(variables_name[2])\n",
    "    return ax, branch_num"
   ]
  },
  {
   "cell_type": "code",
   "execution_count": null,
   "id": "ff2a41a0",
   "metadata": {},
   "outputs": [],
   "source": [
    "def plot_branch_vs_others(branch_num, figsize=(10, 16), excluded_labels=('UZ', 'EP', 'No Label')):\n",
    "    \n",
    "    fig = plt.figure(figsize=figsize)\n",
    "    ax = plt.subplot(2,1,1)\n",
    "    ax3 = plt.subplot(2,1,2, projection='3d')\n",
    "    \n",
    "    \n",
    "    \n",
    "    fp = glob.glob('./b.fp*')\n",
    "    fp = [item for item in fp if '~' not in os.path.basename(item)]\n",
    "    fp = [item for item in fp if '_' not in os.path.basename(item)]\n",
    "    \n",
    "    for i in range(len(fp)-1,-1,-1):\n",
    "    \n",
    "        try:\n",
    "            num = int(fp[i][-2:])\n",
    "        except:\n",
    "            num = int(fp[i][-1])\n",
    "            \n",
    "        if num == branch_num:\n",
    "            plot_branches(fp[i], ax=ax, plot_kwargs={'color': 'tab:blue', 'zorder': 10.}, variables=(0, 1), variables_name=(r'$C_{\\rm o}$', r'$L_2$ norm'), excluded_labels=excluded_labels)\n",
    "            plot_branches3d(fp[i], ax=ax3, plot_kwargs={'color': 'tab:blue', 'zorder': 10.}, variables=(3, 0, 1), variables_name=(r'$\\psi_{{\\rm a}, 2}$', r'$C_{\\rm o}$', r'$L_2$ norm'), excluded_labels=excluded_labels)\n",
    "        else:\n",
    "            plot_branches(fp[i], ax=ax, plot_kwargs={'color': 'tab:orange'}, variables=(0, 1), variables_name=(r'$C_{\\rm o}$', r'$L_2$ norm'), excluded_labels=\"all\")\n",
    "            plot_branches3d(fp[i], ax=ax3, plot_kwargs={'color': 'tab:orange'}, variables=(3, 0, 1), variables_name=(r'$\\psi_{{\\rm a}, 2}$', r'$C_{\\rm o}$', r'$L_2$ norm'), excluded_labels=\"all\")\n",
    "\n",
    "            "
   ]
  },
  {
   "cell_type": "markdown",
   "id": "2d4e97e3",
   "metadata": {},
   "source": [
    "## AUTO analysis"
   ]
  },
  {
   "cell_type": "markdown",
   "id": "613647e4",
   "metadata": {},
   "source": [
    "Initializing AUTO"
   ]
  },
  {
   "cell_type": "code",
   "execution_count": null,
   "id": "0b291604",
   "metadata": {},
   "outputs": [],
   "source": [
    "# Finding where AUTO is installed\n",
    "auto_directory = os.environ['AUTO_DIR']"
   ]
  },
  {
   "cell_type": "code",
   "execution_count": null,
   "id": "a70a505f",
   "metadata": {},
   "outputs": [],
   "source": [
    "# Adding it to the path\n",
    "sys.path.append(auto_directory + '/python/auto')\n",
    "sys.path.append(auto_directory + '/python')"
   ]
  },
  {
   "cell_type": "code",
   "execution_count": null,
   "id": "d1ddf964",
   "metadata": {},
   "outputs": [],
   "source": [
    "# Loading the needed AUTO Python interfaces\n",
    "import AUTOCommands as ac\n",
    "import AUTOclui as acl\n",
    "import interactiveBindings as ib\n",
    "import runAUTO as ra\n",
    "import parseB, parseC, parseD, parseS, parseBandS"
   ]
  },
  {
   "cell_type": "markdown",
   "id": "a30354af",
   "metadata": {},
   "source": [
    "Loading the model"
   ]
  },
  {
   "cell_type": "code",
   "execution_count": null,
   "id": "d4f451e7",
   "metadata": {},
   "outputs": [],
   "source": [
    "print(\"Loading model \"+model_name)"
   ]
  },
  {
   "cell_type": "markdown",
   "id": "539f2d00",
   "metadata": {},
   "source": [
    "Starting a runner"
   ]
  },
  {
   "cell_type": "code",
   "execution_count": null,
   "id": "1240ace5",
   "metadata": {},
   "outputs": [],
   "source": [
    "runner = ra.runAUTO()\n",
    "ac.load(model_name, runner=runner)"
   ]
  },
  {
   "cell_type": "markdown",
   "id": "672ef822",
   "metadata": {},
   "source": [
    "Finding the first branch of fixed point"
   ]
  },
  {
   "cell_type": "code",
   "execution_count": null,
   "id": "fe0c0600",
   "metadata": {
    "scrolled": false
   },
   "outputs": [],
   "source": [
    "U_dic = {i+1: 0. for i in range(model_parameters.ndim)}\n",
    "x = ac.run(model_name, U=U_dic, ICP=['C_go1'], PAR={3: model_parameters.atmospheric_params.kd, 4: model_parameters.atmospheric_params.kdp}, runner=runner)\n",
    "ac.save(x,'fp1')"
   ]
  },
  {
   "cell_type": "code",
   "execution_count": null,
   "id": "375f5335",
   "metadata": {},
   "outputs": [],
   "source": [
    "plot_branch_vs_others(1)"
   ]
  },
  {
   "cell_type": "markdown",
   "id": "7f2075c3",
   "metadata": {},
   "source": [
    "## Computing the periodic orbits (POs) out of the fixed point"
   ]
  },
  {
   "cell_type": "markdown",
   "id": "e00931b3",
   "metadata": {},
   "source": [
    "Loading the branch and printing the summary"
   ]
  },
  {
   "cell_type": "code",
   "execution_count": null,
   "id": "b535d9be",
   "metadata": {
    "scrolled": true
   },
   "outputs": [],
   "source": [
    "r = ac.loadbd('fp1')\n",
    "print(r.summary())"
   ]
  },
  {
   "cell_type": "markdown",
   "id": "12205b02",
   "metadata": {},
   "source": [
    "Listing the Hopf bifurcation points"
   ]
  },
  {
   "cell_type": "code",
   "execution_count": null,
   "id": "12261493",
   "metadata": {},
   "outputs": [],
   "source": [
    "solutions_list = list()\n",
    "ps_obj = parseS.parseS('./s.fp1')\n",
    "pc_full_obj = parseC.parseC('c.'+model_name)\n",
    "for i in range(len(ps_obj)):\n",
    "    s = ps_obj[i].load(constants=pc_full_obj)\n",
    "    if s['TY'] == 'HB':\n",
    "        solutions_list.append(s)\n",
    "    \n",
    "\n",
    "# reversing to get it in Co increasing order\n",
    "solutions_list = solutions_list[::-1]"
   ]
  },
  {
   "cell_type": "code",
   "execution_count": null,
   "id": "f3932386",
   "metadata": {
    "scrolled": true
   },
   "outputs": [],
   "source": [
    "solutions_list"
   ]
  },
  {
   "cell_type": "markdown",
   "id": "91199f37",
   "metadata": {},
   "source": [
    "### Computing and plotting the second Hopf bifurcation"
   ]
  },
  {
   "cell_type": "code",
   "execution_count": null,
   "id": "a2604fb2",
   "metadata": {
    "scrolled": false
   },
   "outputs": [],
   "source": [
    "s = solutions_list[1]\n",
    "rh=ac.run(s,ICP=['C_go1', 'T'], IPS=2, NTST=400, runner=runner)\n",
    "ac.save(rh, 'fp1_hp1')"
   ]
  },
  {
   "cell_type": "code",
   "execution_count": null,
   "id": "0593b6a8",
   "metadata": {
    "scrolled": false
   },
   "outputs": [],
   "source": [
    "ax, _ = plot_branches('./b.fp1_hp1', variables=(0, 3))\n",
    "plot_branches('./b.fp1', ax=ax, variables=(0, 3))"
   ]
  },
  {
   "cell_type": "markdown",
   "id": "9b8f7205",
   "metadata": {},
   "source": [
    "Other fixed point and periodic orbit branches can of course be computed in the same way."
   ]
  }
 ],
 "metadata": {
  "kernelspec": {
   "display_name": "Python 3 (ipykernel)",
   "language": "python",
   "name": "python3"
  },
  "language_info": {
   "codemirror_mode": {
    "name": "ipython",
    "version": 3
   },
   "file_extension": ".py",
   "mimetype": "text/x-python",
   "name": "python",
   "nbconvert_exporter": "python",
   "pygments_lexer": "ipython3",
   "version": "3.8.16"
  }
 },
 "nbformat": 4,
 "nbformat_minor": 5
}
