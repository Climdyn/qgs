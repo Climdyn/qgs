{
 "cells": [
  {
   "cell_type": "markdown",
   "id": "037e82a6",
   "metadata": {},
   "source": [
    "# Output of the symbolic tendencies: Land-Atmosphere model example "
   ]
  },
  {
   "cell_type": "markdown",
   "id": "9b0e76cb",
   "metadata": {},
   "source": [
    "In this notebook, we show how to create the symbolic tendencies of the model. Symbolic tendencies here means that it is possible to make any parameter of the model appears in the tendencies equations.\n",
    "\n",
    "This can be done in several languages (Python, Julia, Fortran), but here, we are going to use Python."
   ]
  },
  {
   "cell_type": "markdown",
   "id": "b8b7c180",
   "metadata": {},
   "source": [
    "More details about the model used in this notebook can be found in the articles:\n",
    "* Hamilton, O., Demaeyer, J., Vannitsem, S., & Crucifix, M. (2025). *Using Unstable Periodic Orbits to Understand Blocking Behaviour in a Low Order Land-Atmosphere Model*. Submitted to Chaos. [preprint](https://doi.org/10.48550/arXiv.2503.02808)\n",
    "* Xavier, A. K., Demaeyer, J., & Vannitsem, S. (2024). *Variability and predictability of a reduced-order land–atmosphere coupled model.* Earth System Dynamics, **15**(4), 893-912. [doi:10.5194/esd-15-893-2024](https://doi.org/10.5194/esd-15-893-2024)\n",
    "\n",
    "or in the documentation."
   ]
  },
  {
   "cell_type": "markdown",
   "id": "1c3c8250",
   "metadata": {},
   "source": [
    "## Modules import"
   ]
  },
  {
   "cell_type": "markdown",
   "id": "cfb7a334",
   "metadata": {},
   "source": [
    "First, setting the path and loading of some modules"
   ]
  },
  {
   "cell_type": "code",
   "execution_count": null,
   "id": "12f59a3f",
   "metadata": {},
   "outputs": [],
   "source": [
    "import sys, os\n",
    "sys.path.extend([os.path.abspath('../')])"
   ]
  },
  {
   "cell_type": "code",
   "execution_count": null,
   "id": "4a29d8d6",
   "metadata": {},
   "outputs": [],
   "source": [
    "import numpy as np\n",
    "import matplotlib.pyplot as plt\n",
    "from mpl_toolkits.mplot3d import Axes3D"
   ]
  },
  {
   "cell_type": "code",
   "execution_count": null,
   "id": "1a13ae55",
   "metadata": {},
   "outputs": [],
   "source": [
    "from numba import njit"
   ]
  },
  {
   "cell_type": "code",
   "execution_count": null,
   "id": "2468708a",
   "metadata": {},
   "outputs": [],
   "source": [
    "from scipy.integrate import solve_ivp"
   ]
  },
  {
   "cell_type": "markdown",
   "id": "029a6f39",
   "metadata": {},
   "source": [
    "Importing the model's modules"
   ]
  },
  {
   "cell_type": "code",
   "execution_count": null,
   "id": "7711e102",
   "metadata": {},
   "outputs": [],
   "source": [
    "from qgs.params.params import QgParams"
   ]
  },
  {
   "cell_type": "code",
   "execution_count": null,
   "id": "7e0d469c",
   "metadata": {},
   "outputs": [],
   "source": [
    "from qgs.functions.symbolic_tendencies import create_symbolic_equations\n",
    "from qgs.functions.tendencies import create_tendencies"
   ]
  },
  {
   "cell_type": "markdown",
   "id": "c85c3ef7",
   "metadata": {},
   "source": [
    "## Systems definition"
   ]
  },
  {
   "cell_type": "markdown",
   "id": "0a2b894b",
   "metadata": {},
   "source": [
    "General parameters"
   ]
  },
  {
   "cell_type": "code",
   "execution_count": null,
   "id": "d73ac5f8",
   "metadata": {},
   "outputs": [],
   "source": [
    "# Time parameters\n",
    "dt = 0.1\n"
   ]
  },
  {
   "cell_type": "markdown",
   "id": "f5c74bfa",
   "metadata": {},
   "source": [
    "Setting some model parameters"
   ]
  },
  {
   "cell_type": "code",
   "execution_count": null,
   "id": "bf632fac",
   "metadata": {},
   "outputs": [],
   "source": [
    "model_parameters = QgParams({'phi0_npi': np.deg2rad(50.)/np.pi, 'n':1.3 }, dynamic_T=False)"
   ]
  },
  {
   "cell_type": "markdown",
   "id": "19326037",
   "metadata": {},
   "source": [
    "and defining the spectral modes used by the model (they must be *symbolic*)"
   ]
  },
  {
   "cell_type": "code",
   "execution_count": null,
   "id": "a2a8e7c1",
   "metadata": {},
   "outputs": [],
   "source": [
    "# Mode truncation at the wavenumber 2 in both x and y spatial coordinate for the atmosphere\n",
    "model_parameters.set_atmospheric_channel_fourier_modes(2, 2, mode=\"symbolic\")\n",
    "# Same modes for the ground temperature modes\n",
    "model_parameters.set_ground_channel_fourier_modes(2, 2, mode=\"symbolic\")"
   ]
  },
  {
   "cell_type": "markdown",
   "id": "8bf273c3",
   "metadata": {},
   "source": [
    "Completing the model parameters"
   ]
  },
  {
   "cell_type": "code",
   "execution_count": null,
   "id": "3237dc76",
   "metadata": {},
   "outputs": [],
   "source": [
    "# Changing (increasing) the orography depth\n",
    "model_parameters.ground_params.set_orography(0.2, 1)\n",
    "# Setting the parameters of the heat transfer from the soil\n",
    "model_parameters.gotemperature_params.set_params({'gamma': 1.6e7, 'T0': 300})\n",
    "model_parameters.atemperature_params.set_params({ 'hlambda':10, 'T0': 290})\n",
    "# Setting atmospheric parameters\n",
    "model_parameters.atmospheric_params.set_params({'sigma': 0.2, 'kd': 0.085, 'kdp': 0.02})\n",
    "\n",
    "# Setting insolation \n",
    "model_parameters.gotemperature_params.set_params({})"
   ]
  },
  {
   "cell_type": "code",
   "execution_count": null,
   "id": "51907767",
   "metadata": {},
   "outputs": [],
   "source": [
    "C_g = 300\n",
    "model_parameters.atemperature_params.set_insolation(0.4*C_g , 0)\n",
    "\n",
    "model_parameters.gotemperature_params.set_insolation(C_g , 0)"
   ]
  },
  {
   "cell_type": "code",
   "execution_count": null,
   "id": "979e2a7c",
   "metadata": {},
   "outputs": [],
   "source": [
    "# Printing the model's parameters\n",
    "model_parameters.print_params()"
   ]
  },
  {
   "cell_type": "markdown",
   "id": "d43d341b",
   "metadata": {},
   "source": [
    "## Outputting the model equations"
   ]
  },
  {
   "cell_type": "markdown",
   "id": "8ddc3286",
   "metadata": {},
   "source": [
    "Calculating the tendencies in Python as a function of the parameters $C_{{\\rm o},0}$, $C_{{\\rm a},0}$, $k_d$ and $k'_d$:"
   ]
  },
  {
   "cell_type": "code",
   "execution_count": null,
   "id": "9479fcb0",
   "metadata": {
    "scrolled": true
   },
   "outputs": [],
   "source": [
    "%%time\n",
    "funcs, = create_symbolic_equations(model_parameters, continuation_variables=[model_parameters.gotemperature_params.C[0], model_parameters.atemperature_params.C[0], model_parameters.atmospheric_params.kd, model_parameters.atmospheric_params.kdp], language='python')"
   ]
  },
  {
   "cell_type": "markdown",
   "id": "c61d613a",
   "metadata": {},
   "source": [
    "Let's inspect the output:"
   ]
  },
  {
   "cell_type": "code",
   "execution_count": null,
   "id": "bdb4d33f",
   "metadata": {
    "scrolled": true
   },
   "outputs": [],
   "source": [
    "print(funcs)"
   ]
  },
  {
   "cell_type": "markdown",
   "id": "23ccb10c",
   "metadata": {},
   "source": [
    "Note that the tendencies have been already formatted as a [Numba](https://numba.pydata.org/) function, but it is easy to extract the equations for any other kind of accelerator or simply to produce pure Python code."
   ]
  },
  {
   "cell_type": "markdown",
   "id": "da0c63c1",
   "metadata": {},
   "source": [
    "It is now easy to get the function into operation:"
   ]
  },
  {
   "cell_type": "code",
   "execution_count": null,
   "id": "a8fea890",
   "metadata": {},
   "outputs": [],
   "source": [
    "exec(funcs)"
   ]
  },
  {
   "cell_type": "markdown",
   "id": "992a6243",
   "metadata": {},
   "source": [
    "and"
   ]
  },
  {
   "cell_type": "code",
   "execution_count": null,
   "id": "2ae15534",
   "metadata": {},
   "outputs": [],
   "source": [
    "f(0.,np.zeros(model_parameters.ndim), 300., 120., 0.085, 0.02)"
   ]
  },
  {
   "cell_type": "markdown",
   "id": "0579478b",
   "metadata": {},
   "source": [
    "## Comparing with numerical results"
   ]
  },
  {
   "cell_type": "markdown",
   "id": "b9be8b1d",
   "metadata": {},
   "source": [
    "We can check that the symbolic (parameters dependent) equations are the same as the `qgs` numerical ones (with the same values of the parameters):"
   ]
  },
  {
   "cell_type": "code",
   "execution_count": null,
   "id": "f38b345f",
   "metadata": {
    "scrolled": true
   },
   "outputs": [],
   "source": [
    "f_num, Df = create_tendencies(model_parameters)"
   ]
  },
  {
   "cell_type": "code",
   "execution_count": null,
   "id": "46d33700",
   "metadata": {},
   "outputs": [],
   "source": [
    "f_num(0., np.zeros(model_parameters.ndim))"
   ]
  },
  {
   "cell_type": "markdown",
   "id": "ea417bb2",
   "metadata": {},
   "source": [
    "In addition, one can easily compare the obtained attractors:"
   ]
  },
  {
   "cell_type": "code",
   "execution_count": null,
   "id": "9a0f5941",
   "metadata": {},
   "outputs": [],
   "source": [
    "# IC calculated from a long transient\n",
    "ic = np.array([0.05055959, -0.01639403, -0.01440781, -0.01846523, -0.01352099,\n",
    "        0.011685  , -0.00201673, -0.02030682,  0.03923588, -0.02229535,\n",
    "        0.0586372 , -0.01805569, -0.01264252, -0.0103574 , -0.00618456,\n",
    "        0.01159318, -0.00478694, -0.00782509,  0.01066059, -0.01552667,\n",
    "        0.30718325, -0.03247899, -0.04512935, -0.00078786, -0.00067468,\n",
    "        0.00183836,  0.00068025,  0.00215424, -0.00322845, -0.00186392])\n",
    "\n",
    "# Actual integration\n",
    "traj = solve_ivp(f, (0., 100000.), ic, t_eval=np.arange(0, 100000., dt), args=(300., 120., 0.085, 0.02))\n",
    "traj_num = solve_ivp(f_num, (0., 100000.), ic, t_eval=np.arange(0, 100000., dt))"
   ]
  },
  {
   "cell_type": "code",
   "execution_count": null,
   "id": "2f892676",
   "metadata": {},
   "outputs": [],
   "source": [
    "varx = 2\n",
    "vary = 1\n",
    "plt.figure(figsize=(12, 10))\n",
    "\n",
    "plt.plot(traj.y[varx], traj.y[vary], marker='o', ms=0.03, ls='', label='Symbolic tendencies')\n",
    "plt.plot(traj_num.y[varx], traj_num.y[vary], marker='o', ms=0.03, ls='', label='Fully numerical tendencies')\n",
    "\n",
    "\n",
    "plt.xlabel('$'+model_parameters.latex_var_string[varx]+'$')\n",
    "plt.ylabel('$'+model_parameters.latex_var_string[vary]+'$');\n",
    "# plt.legend()"
   ]
  },
  {
   "cell_type": "markdown",
   "id": "91781f9f",
   "metadata": {},
   "source": [
    "Fully numerical tendencies attractor is in orange while the symbolic tendencies on is in blue"
   ]
  },
  {
   "cell_type": "markdown",
   "id": "f84b7484",
   "metadata": {},
   "source": [
    "## Varying the parameters"
   ]
  },
  {
   "cell_type": "markdown",
   "id": "6367bee4",
   "metadata": {},
   "source": [
    "The obvious possibilities given by the symbolic tendencies are to allow users to easily perform sensitivity analysis:"
   ]
  },
  {
   "cell_type": "code",
   "execution_count": null,
   "id": "291b2342",
   "metadata": {},
   "outputs": [],
   "source": [
    "# let's start with 4 different values of the friction k_d\n",
    "kd_list = [0.06, 0.085, 0.095, 0.1, 0.105, 0.12]\n",
    "\n",
    "# let's compute the attractor for each\n",
    "\n",
    "attractor_list = list()\n",
    "\n",
    "for kd in kd_list:\n",
    "    attractor_list.append(solve_ivp(f, (0., 100000.), ic, t_eval=np.arange(0, 100000., dt), args=(300., 120., kd, 0.02)))"
   ]
  },
  {
   "cell_type": "code",
   "execution_count": null,
   "id": "e068b639",
   "metadata": {
    "scrolled": false
   },
   "outputs": [],
   "source": [
    "varx = 2\n",
    "vary = 1\n",
    "plt.figure(figsize=(18, 6))\n",
    "\n",
    "k=1\n",
    "for kd, attractor in zip(kd_list, attractor_list):\n",
    "    plt.subplot(2, 3, k)\n",
    "    plt.plot(attractor.y[varx], attractor.y[vary], marker='o', ms=0.03, ls='', label=f'$k_d$ = {kd}')\n",
    "    plt.xlabel('$'+model_parameters.latex_var_string[varx]+'$')\n",
    "    plt.ylabel('$'+model_parameters.latex_var_string[vary]+'$');\n",
    "\n",
    "    plt.legend()\n",
    "    k+=1\n",
    "\n",
    "\n",
    "\n"
   ]
  }
 ],
 "metadata": {
  "kernelspec": {
   "display_name": "Python 3 (ipykernel)",
   "language": "python",
   "name": "python3"
  },
  "language_info": {
   "codemirror_mode": {
    "name": "ipython",
    "version": 3
   },
   "file_extension": ".py",
   "mimetype": "text/x-python",
   "name": "python",
   "nbconvert_exporter": "python",
   "pygments_lexer": "ipython3",
   "version": "3.8.16"
  }
 },
 "nbformat": 4,
 "nbformat_minor": 5
}
