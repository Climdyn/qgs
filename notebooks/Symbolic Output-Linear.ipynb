{
 "cells": [
  {
   "cell_type": "markdown",
   "id": "037e82a6",
   "metadata": {},
   "source": [
    "# Linear symbolic MAOOAM example "
   ]
  },
  {
   "cell_type": "markdown",
   "id": "57e1a1bb",
   "metadata": {},
   "source": [
    "Testing platform for the symbolic equation version of the qgs model"
   ]
  },
  {
   "cell_type": "code",
   "execution_count": null,
   "id": "12f59a3f",
   "metadata": {},
   "outputs": [],
   "source": [
    "import sys, os\n",
    "sys.path.extend([os.path.abspath('../')])"
   ]
  },
  {
   "cell_type": "code",
   "execution_count": null,
   "id": "9b3814d5",
   "metadata": {},
   "outputs": [],
   "source": [
    "import numpy as np\n",
    "import sympy as sy\n",
    "import sparse as sp\n",
    "import math"
   ]
  },
  {
   "cell_type": "code",
   "execution_count": null,
   "id": "7711e102",
   "metadata": {},
   "outputs": [],
   "source": [
    "from qgs.params.params import QgParams\n",
    "from qgs.functions.tendencies import create_tendencies"
   ]
  },
  {
   "cell_type": "code",
   "execution_count": null,
   "id": "bf632fac",
   "metadata": {},
   "outputs": [],
   "source": [
    "model_parameters = QgParams(dynamic_T=False)"
   ]
  },
  {
   "cell_type": "code",
   "execution_count": null,
   "id": "a2a8e7c1",
   "metadata": {},
   "outputs": [],
   "source": [
    "model_parameters.set_atmospheric_channel_fourier_modes(2, 2, mode=\"symbolic\")\n",
    "# Mode truncation at the wavenumber 2 in the x and at the \n",
    "# wavenumber 4 in the y spatial coordinates for the ocean\n",
    "model_parameters.set_oceanic_basin_fourier_modes(2, 4, mode=\"symbolic\")"
   ]
  },
  {
   "cell_type": "code",
   "execution_count": null,
   "id": "8500ea89",
   "metadata": {},
   "outputs": [],
   "source": [
    "from qgs.inner_products.symbolic import AtmosphericSymbolicInnerProducts, OceanicSymbolicInnerProducts\n",
    "from qgs.tensors.qgtensor import QgsTensor, QgsTensorDynamicT, QgsTensorT4\n",
    "from qgs.tensors.symbolic_qgtensor import SymbolicQgsTensor, SymbolicQgsTensorDynamicT"
   ]
  },
  {
   "cell_type": "code",
   "execution_count": null,
   "id": "69183ec2",
   "metadata": {},
   "outputs": [],
   "source": [
    "from qgs.params.parameter import Parameter, ScalingParameter\n",
    "from sympy import Symbol"
   ]
  },
  {
   "cell_type": "code",
   "execution_count": null,
   "id": "2fa987d2",
   "metadata": {},
   "outputs": [],
   "source": [
    "from sympy.tensor.array import ImmutableDenseNDimArray"
   ]
  },
  {
   "cell_type": "code",
   "execution_count": null,
   "id": "0165d8ea",
   "metadata": {
    "scrolled": false
   },
   "outputs": [],
   "source": [
    "model_parameters.print_params()"
   ]
  },
  {
   "cell_type": "markdown",
   "id": "d43d341b",
   "metadata": {},
   "source": [
    "## Outputting model equations"
   ]
  },
  {
   "cell_type": "code",
   "execution_count": null,
   "id": "f67ffc01",
   "metadata": {},
   "outputs": [],
   "source": [
    "from qgs.functions.symbolic_output import create_symbolic_equations, create_auto_file, default_auto_c_template"
   ]
  },
  {
   "cell_type": "markdown",
   "id": "8ddc3286",
   "metadata": {},
   "source": [
    "Calculating the functions and tensor"
   ]
  },
  {
   "cell_type": "code",
   "execution_count": null,
   "id": "9479fcb0",
   "metadata": {
    "scrolled": true
   },
   "outputs": [],
   "source": [
    "%%time\n",
    "funcs, = create_symbolic_equations(model_parameters, continuation_variables=\n",
    "                                       {model_parameters.atemperature_params.eps},\n",
    "                                       language='python')"
   ]
  },
  {
   "cell_type": "code",
   "execution_count": null,
   "id": "5fd8283d",
   "metadata": {
    "scrolled": false
   },
   "outputs": [],
   "source": [
    "print(funcs)"
   ]
  },
  {
   "cell_type": "markdown",
   "id": "2bd791a9",
   "metadata": {},
   "source": [
    "Below function has the **kwargs input removed as I cannot get this to work with numba"
   ]
  },
  {
   "cell_type": "code",
   "execution_count": null,
   "id": "0632dd0f",
   "metadata": {},
   "outputs": [],
   "source": [
    "from numba import njit"
   ]
  },
  {
   "cell_type": "code",
   "execution_count": null,
   "id": "d5d98d6b",
   "metadata": {},
   "outputs": [],
   "source": [
    "@njit\n",
    "def f(t, U):\n",
    "\t#Tendency function of the qgs model\n",
    "\tF = np.empty_like(U)\n",
    "\tF[0] = -0.02*U[0] + 0.02*U[10] + 0.0697343654705087*U[21] + 0.1012581197243*U[23]\n",
    "\tF[1] = -1.24659182237138*U[0]*U[2] - 1.24659182237138*U[10]*U[12] + 0.02*U[11] - 1.9945469157942*U[13]*U[15] - 2.59615384615385*U[14]*U[17] + 2.59615384615385*U[15]*U[16] - 0.02*U[1] - 0.00408089597671527*U[20] + 0.115315741885204*U[2] - 1.9945469157942*U[3]*U[5] - 2.59615384615385*U[4]*U[7] + 2.59615384615385*U[5]*U[6]\n",
    "\tF[2] = 1.24659182237138*U[0]*U[1] + 1.24659182237138*U[10]*U[11] + 0.02*U[12] + 1.9945469157942*U[13]*U[14] + 2.59615384615385*U[14]*U[16] + 2.59615384615385*U[15]*U[17] - 0.115315741885204*U[1] + 0.02*U[24] - 0.02*U[2] + 1.9945469157942*U[3]*U[4] + 2.59615384615385*U[4]*U[6] + 2.59615384615385*U[5]*U[7]\n",
    "\tF[3] = 2.16075915877706*U[11]*U[15] - 2.16075915877706*U[12]*U[14] + 0.02*U[13] + 4.32151831755411*U[16]*U[19] - 4.32151831755411*U[17]*U[18] + 2.16075915877706*U[1]*U[5] - 0.00298520400130602*U[20] + 0.0328850072783872*U[22] - 2.16075915877706*U[2]*U[4] - 0.02*U[3] + 4.32151831755411*U[6]*U[9] - 4.32151831755411*U[7]*U[8]\n",
    "\tF[4] = -1.21002512891515*U[0]*U[5] - 1.21002512891515*U[10]*U[15] + 2.43*U[11]*U[17] + 0.345721465404329*U[12]*U[13] - 2.43*U[12]*U[16] + 0.02*U[14] + 2.43*U[1]*U[7] - 0.00619643245104446*U[21] + 0.345721465404329*U[2]*U[3] - 2.43*U[2]*U[6] - 0.02*U[4] + 0.059964185780306*U[5]\n",
    "\tF[5] = 1.21002512891515*U[0]*U[4] + 1.21002512891515*U[10]*U[14] - 0.345721465404329*U[11]*U[13] - 2.43*U[11]*U[16] - 2.43*U[12]*U[17] + 0.02*U[15] - 0.345721465404329*U[1]*U[3] - 2.43*U[1]*U[6] + 0.02*U[25] - 2.43*U[2]*U[7] - 0.059964185780306*U[4] - 0.02*U[5]\n",
    "\tF[6] = -3.24113873816558*U[0]*U[7] - 3.24113873816558*U[10]*U[17] + 0.675*U[11]*U[15] + 0.675*U[12]*U[14] - 5.18582198106493*U[13]*U[19] + 0.02*U[16] + 0.675*U[1]*U[5] - 0.000265258238486493*U[20] + 0.675*U[2]*U[4] - 5.18582198106493*U[3]*U[9] - 0.02*U[6] + 0.0749552322253824*U[7]\n",
    "\tF[7] = 3.24113873816558*U[0]*U[6] + 3.24113873816558*U[10]*U[16] - 0.675*U[11]*U[14] + 0.675*U[12]*U[15] + 5.18582198106493*U[13]*U[18] + 0.02*U[17] - 0.675*U[1]*U[4] + 0.675*U[2]*U[5] + 5.18582198106493*U[3]*U[8] - 0.0749552322253824*U[6] - 0.02*U[7]\n",
    "\tF[8] = -2.65939588772561*U[0]*U[9] - 2.65939588772561*U[10]*U[19] - 2.65939588772561*U[13]*U[17] + 0.02*U[18] - 0.00059581081260043*U[21] - 2.65939588772561*U[3]*U[7] - 0.02*U[8] + 0.0576578709426019*U[9]\n",
    "\tF[9] = 2.6593958877256*U[0]*U[8] + 2.6593958877256*U[10]*U[18] + 2.6593958877256*U[13]*U[16] + 0.02*U[19] + 2.6593958877256*U[3]*U[6] - 0.0576578709426019*U[8] - 0.02*U[9]\n",
    "\tF[10] = 0.00181818181818182*U[0] - 0.0326124628611698*U[10] - 1.63693875664928*U[11]*U[2] + 1.63693875664928*U[12]*U[1] - 1.30955100531943*U[14]*U[5] + 1.30955100531943*U[15]*U[4] - 3.27387751329857*U[16]*U[7] + 3.27387751329857*U[17]*U[6] - 2.61910201063885*U[18]*U[9] + 2.61910201063885*U[19]*U[8] - 0.00633948777004624*U[21] - 0.00920528361130002*U[23] + 0.00805846274736615*U[29] + 0.00322338509894646*U[31] + 0.000468575805854495\n",
    "\tF[11] = -1.6647358298754*U[0]*U[12] + 1.05320021890077*U[10]*U[2] - 0.0440556295451221*U[11] + 0.0282849932925971*U[12] + 1.68512035024123*U[13]*U[5] + 1.06132075471698*U[14]*U[7] - 2.66357732780065*U[15]*U[3] - 1.06132075471698*U[15]*U[6] + 2.33490566037736*U[16]*U[5] - 2.33490566037736*U[17]*U[4] + 0.00490566037735849*U[1] + 0.00100097448485469*U[20] - 0.00371538559555317*U[28]\n",
    "\tF[12] = 1.6647358298754*U[0]*U[11] - 1.05320021890077*U[10]*U[1] - 0.0282849932925971*U[11] - 0.0440556295451221*U[12] - 1.68512035024123*U[13]*U[4] + 2.66357732780065*U[14]*U[3] - 1.06132075471698*U[14]*U[6] - 1.06132075471698*U[15]*U[7] + 2.33490566037736*U[16]*U[4] + 2.33490566037736*U[17]*U[5] - 0.00490566037735849*U[24] + 0.00490566037735849*U[2] + 0.00875417106918239*U[32]\n",
    "\tF[13] = -1.44050610585137*U[11]*U[5] + 1.44050610585137*U[12]*U[4] - 0.0470526493909192*U[13] - 2.67522562515255*U[14]*U[2] + 2.67522562515255*U[15]*U[1] - 2.88101221170274*U[16]*U[9] + 2.88101221170274*U[17]*U[8] - 5.35045125030509*U[18]*U[7] + 5.35045125030509*U[19]*U[6] + 0.000852915428944578*U[20] - 0.00939571636525347*U[22] - 0.00316582465075099*U[28] + 0.00569848437135178*U[30] + 0.00571428571428572*U[3]\n",
    "\tF[14] = -1.35185957626052*U[0]*U[15] + 0.421071015556554*U[10]*U[5] - 0.449999999999999*U[11]*U[7] - 1.63996079743079*U[12]*U[3] + 0.45*U[12]*U[6] + 1.90590038620335*U[13]*U[2] - 0.054383821013715*U[14] + 0.0230631483770408*U[15] - 2.31923076923077*U[16]*U[2] + 2.31923076923077*U[17]*U[1] + 0.00238324325040172*U[21] - 0.00302946825483566*U[29] + 0.00769230769230769*U[4]\n",
    "\tF[15] = 1.35185957626052*U[0]*U[14] - 0.421071015556554*U[10]*U[4] + 1.63996079743079*U[11]*U[3] + 0.45*U[11]*U[6] + 0.45*U[12]*U[7] - 1.90590038620335*U[13]*U[1] - 0.0230631483770408*U[14] - 0.054383821013715*U[15] - 2.31923076923077*U[16]*U[1] - 2.31923076923077*U[17]*U[2] - 0.00769230769230769*U[25] + 0.00713801641025641*U[33] + 0.00769230769230769*U[5]\n",
    "\tF[16] = -3.421202001397*U[0]*U[17] + 0.180063263231421*U[10]*U[7] - 0.7875*U[11]*U[5] - 0.7875*U[12]*U[4] + 0.288101221170274*U[13]*U[9] + 1.4625*U[14]*U[2] + 1.4625*U[15]*U[1] - 0.0629368545736434*U[16] + 0.0374776161126912*U[17] - 5.47392320223521*U[19]*U[3] + 0.000132629119243246*U[20] - 0.000492288591410796*U[28] + 0.01*U[6]\n",
    "\tF[17] = 3.421202001397*U[0]*U[16] - 0.180063263231421*U[10]*U[6] + 0.7875*U[11]*U[4] - 0.7875*U[12]*U[5] - 0.288101221170275*U[13]*U[8] - 1.4625*U[14]*U[1] + 1.4625*U[15]*U[2] - 0.0374776161126912*U[16] - 0.0629368545736434*U[17] + 5.4739232022352*U[18]*U[3] + 0.01*U[7]\n",
    "\tF[18] = -2.75575081119392*U[0]*U[19] - 0.250522801017629*U[10]*U[9] + 1.00209120407052*U[13]*U[7] - 4.00836481628207*U[17]*U[3] - 0.0677711778901247*U[18] + 0.0325892314023402*U[19] + 0.000336762633208938*U[21] - 0.000428077036009388*U[29] + 0.011304347826087*U[8]\n",
    "\tF[19] = 2.75575081119392*U[0]*U[18] + 0.250522801017629*U[10]*U[8] - 1.00209120407052*U[13]*U[6] + 4.00836481628207*U[16]*U[3] - 0.0325892314023402*U[18] - 0.0677711778901247*U[19] + 0.011304347826087*U[9]\n",
    "\tF[20] = 7.67246397508814e-8*U[11] + 8.50171631003011e-8*U[13] + 4.72151629236194e-8*U[16] - 7.67246397508814e-8*U[1] - 1.73825166772134e-7*U[20] - 0.000847606278214279*U[21]*U[24] - 0.00143958526617346*U[21]*U[26] - 0.0028522623965306*U[22]*U[25] - 0.00374023087846937*U[22]*U[27] - 0.00571797886096935*U[23]*U[26] - 9.13068063386782e-5*U[24] - 8.50171631003011e-8*U[3] - 4.72151629236194e-8*U[6]\n",
    "\tF[21] = 4.24355024932212e-8*U[0] - 4.24355024932212e-8*U[10] + 1.4729372656196e-7*U[14] + 6.12741902497755e-8*U[18] - 0.00108790599513578*U[20]*U[24] + 0.00208179542279068*U[20]*U[26] - 5.06696893769175e-7*U[21] - 0.00678262379683416*U[22]*U[24] - 0.0132966288294373*U[23]*U[25] - 9.11498353211769e-5*U[25] - 1.4729372656196e-7*U[4] - 6.12741902497755e-8*U[8]\n",
    "\tF[22] = -1.5233133904442e-7*U[13] - 0.00401776948188515*U[20]*U[25] + 0.00715162967775557*U[20]*U[27] + 0.00140621931865981*U[21]*U[24] - 1.05894699522554e-6*U[22] - 0.0199683143249692*U[23]*U[24] - 9.08894129022384e-5*U[26] + 1.5233133904442e-7*U[3]\n",
    "\tF[23] = 1.68582727186388e-8*U[0] - 1.68582727186388e-8*U[10] - 0.0103378871816782*U[20]*U[26] - 0.0021609519012024*U[21]*U[25] + 0.00943082095154381*U[22]*U[24] - 1.82681677295638e-6*U[23] - 9.05273115564549e-5*U[27]\n",
    "\tF[24] = -1.80603224383758e-7*U[12] + 0.00193551086316502*U[20]*U[21] + 9.12184436809035e-5*U[20] + 0.00537641906434727*U[21]*U[22] + 0.0105377813661206*U[22]*U[23] - 3.61206448767517e-7*U[24] + 1.80603224383758e-7*U[2]\n",
    "\tF[25] = -3.46717381704589e-7*U[15] + 0.00686999688804741*U[20]*U[22] + 0.0154574929981067*U[21]*U[23] + 9.10617760748484e-5*U[21] - 6.93434763409178e-7*U[25] + 3.46717381704589e-7*U[5]\n",
    "\tF[26] = -0.000642223843335634*U[20]*U[21] + 0.0160555960833909*U[20]*U[23] + 9.08018558801295e-5*U[22] - 1.24461985142565e-6*U[26]\n",
    "\tF[27] = -0.00341156103036174*U[20]*U[22] + 9.04404504616234e-5*U[23] - 2.01101385026168e-6*U[27]\n",
    "\tF[28] = -0.000960310243846486*U[11] - 0.0008645829811078*U[13] - 0.000192062048769297*U[16] + 1.125*U[21]*U[32] - 0.375000000000001*U[21]*U[34] + 1.5*U[22]*U[33] - 0.75*U[22]*U[35] + 1.875*U[23]*U[34] - 1.125*U[24]*U[29] - 1.5*U[25]*U[30] + 0.375000000000001*U[26]*U[29] - 1.875*U[26]*U[31] + 0.75*U[27]*U[30] - 0.0012202230620155*U[28]\n",
    "\tF[29] = 0.0017291659622156*U[10] - 0.000960310243846486*U[14] - 0.000192062048769297*U[18] - 1.125*U[20]*U[32] + 0.375*U[20]*U[34] + 1.875*U[22]*U[32] + 2.25*U[23]*U[33] + 1.125*U[24]*U[28] - 1.875*U[24]*U[30] - 2.25*U[25]*U[31] - 0.375*U[26]*U[28] - 0.0012202230620155*U[29] + 0.000137865173161608\n",
    "\tF[30] = 0.00155624936599404*U[13] - 1.5*U[20]*U[33] + 0.75*U[20]*U[35] - 1.875*U[21]*U[32] + 2.625*U[23]*U[32] + 1.875*U[24]*U[29] - 2.625*U[24]*U[31] + 1.5*U[25]*U[28] - 0.75*U[27]*U[28] - 0.0012202230620155*U[30]\n",
    "\tF[31] = 0.00069166638488624*U[10] - 1.875*U[20]*U[34] - 2.25*U[21]*U[33] - 2.625*U[22]*U[32] + 2.625*U[24]*U[30] + 2.25*U[25]*U[29] + 1.875*U[26]*U[28] - 0.0012202230620155*U[31] + 5.51460692646433e-5\n",
    "\tF[32] = 0.00226267770542636*U[12] + 1.125*U[20]*U[29] - 1.125*U[21]*U[28] + 1.875*U[21]*U[30] - 1.875*U[22]*U[29] + 2.625*U[22]*U[31] - 2.625*U[23]*U[30] - 0.0012202230620155*U[32]\n",
    "\tF[33] = 0.00226267770542636*U[15] + 1.5*U[20]*U[30] + 2.25*U[21]*U[31] - 1.5*U[22]*U[28] - 2.25*U[23]*U[29] - 0.0012202230620155*U[33]\n",
    "\tF[34] = -0.375*U[20]*U[29] + 1.875*U[20]*U[31] + 0.375*U[21]*U[28] - 1.875*U[23]*U[28] - 0.0012202230620155*U[34]\n",
    "\tF[35] = -0.75*U[20]*U[30] + 0.75*U[22]*U[28] - 0.0012202230620155*U[35]\n",
    "\treturn F"
   ]
  },
  {
   "cell_type": "code",
   "execution_count": null,
   "id": "0a2d58c7",
   "metadata": {},
   "outputs": [],
   "source": [
    "offset = 1 if model_parameters.dynamic_T else 0"
   ]
  },
  {
   "cell_type": "code",
   "execution_count": null,
   "id": "44be2ce1",
   "metadata": {},
   "outputs": [],
   "source": [
    "model_parameters.ndim"
   ]
  },
  {
   "cell_type": "markdown",
   "id": "0579478b",
   "metadata": {},
   "source": [
    "## Comparing with numerical results"
   ]
  },
  {
   "cell_type": "code",
   "execution_count": null,
   "id": "77155759",
   "metadata": {},
   "outputs": [],
   "source": [
    "from qgs.integrators.integrator import RungeKuttaIntegrator, RungeKuttaTglsIntegrator\n",
    "import matplotlib.pyplot as plt"
   ]
  },
  {
   "cell_type": "code",
   "execution_count": null,
   "id": "f38b345f",
   "metadata": {
    "scrolled": true
   },
   "outputs": [],
   "source": [
    "f_num, Df, ten_num = create_tendencies(model_parameters, return_qgtensor=True)"
   ]
  },
  {
   "cell_type": "code",
   "execution_count": null,
   "id": "98294b26",
   "metadata": {},
   "outputs": [],
   "source": [
    "f(0, np.ones(36)) - f_num(0, np.ones(36))"
   ]
  },
  {
   "cell_type": "code",
   "execution_count": null,
   "id": "9a0f5941",
   "metadata": {},
   "outputs": [],
   "source": [
    "integrator = RungeKuttaIntegrator()\n",
    "integrator.set_func(f)"
   ]
  },
  {
   "cell_type": "code",
   "execution_count": null,
   "id": "415ab585",
   "metadata": {},
   "outputs": [],
   "source": [
    "integrator_num = RungeKuttaIntegrator()\n",
    "integrator_num.set_func(f_num)"
   ]
  },
  {
   "cell_type": "code",
   "execution_count": null,
   "id": "e2b5f14a",
   "metadata": {},
   "outputs": [],
   "source": [
    "# ICs calculated from long transient\n",
    "\n",
    "ic = np.array([ 0.03099396, -0.00496147,  0.00173704, -0.00135697, -0.00772211,\n",
    "       -0.01966693,  0.0133646 ,  0.001414  ,  0.01117828, -0.00041981,\n",
    "        0.0296539 , -0.00059846, -0.0054299 ,  0.00265086, -0.00813694,\n",
    "       -0.01703874,  0.00775618, -0.00437281,  0.00628166, -0.00235651,\n",
    "       -0.00471975,  0.00143941, -0.00162457, -0.00087876,  0.00399296,\n",
    "       -0.00265117, -0.00265747,  0.00141623, -0.0210313 ,  0.05039241,\n",
    "        0.01445278,  0.00645707, -0.04806996, -0.06529819, -0.00455508,\n",
    "        0.04942686])"
   ]
  },
  {
   "cell_type": "code",
   "execution_count": null,
   "id": "9c6d5773",
   "metadata": {},
   "outputs": [],
   "source": [
    "%%time\n",
    "integrator.integrate(0., 1000000., 0.1, ic=ic, write_steps=5)\n",
    "reference_time, reference_traj = integrator.get_trajectories()"
   ]
  },
  {
   "cell_type": "code",
   "execution_count": null,
   "id": "b38989ba",
   "metadata": {},
   "outputs": [],
   "source": [
    "%%time\n",
    "integrator_num.integrate(0., 1000000., 0.1, ic=ic, write_steps=5)\n",
    "reference_time_num, reference_traj_num = integrator_num.get_trajectories()"
   ]
  },
  {
   "cell_type": "code",
   "execution_count": null,
   "id": "2f892676",
   "metadata": {},
   "outputs": [],
   "source": [
    "varx = 21\n",
    "vary = 29\n",
    "plt.figure(figsize=(12, 10))\n",
    "\n",
    "plt.plot(reference_traj[varx], reference_traj[vary], marker='o', ms=0.07, ls='')\n",
    "plt.plot(reference_traj_num[varx], reference_traj_num[vary], marker='o', ms=0.07, ls='')\n",
    "\n",
    "plt.xlabel('$'+model_parameters.latex_var_string[varx]+'$')\n",
    "plt.ylabel('$'+model_parameters.latex_var_string[vary]+'$');"
   ]
  },
  {
   "cell_type": "code",
   "execution_count": null,
   "id": "6697d107",
   "metadata": {},
   "outputs": [],
   "source": [
    "plt.figure(figsize=(12, 8))\n",
    "\n",
    "plt.plot(reference_traj_num[varx, :])\n",
    "plt.plot(reference_traj[varx, :])\n",
    "plt.show()"
   ]
  },
  {
   "cell_type": "code",
   "execution_count": null,
   "id": "de641ed5",
   "metadata": {},
   "outputs": [],
   "source": []
  }
 ],
 "metadata": {
  "kernelspec": {
   "display_name": "venv_amoc",
   "language": "python",
   "name": "venv_amoc"
  },
  "language_info": {
   "codemirror_mode": {
    "name": "ipython",
    "version": 3
   },
   "file_extension": ".py",
   "mimetype": "text/x-python",
   "name": "python",
   "nbconvert_exporter": "python",
   "pygments_lexer": "ipython3",
   "version": "3.8.10"
  }
 },
 "nbformat": 4,
 "nbformat_minor": 5
}
