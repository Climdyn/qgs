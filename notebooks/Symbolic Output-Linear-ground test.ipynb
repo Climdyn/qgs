{
 "cells": [
  {
   "cell_type": "markdown",
   "id": "037e82a6",
   "metadata": {},
   "source": [
    "# Linear symbolic Land-atmosphere example "
   ]
  },
  {
   "cell_type": "markdown",
   "id": "57e1a1bb",
   "metadata": {},
   "source": [
    "Testing platform for the symbolic equation version of the qgs model"
   ]
  },
  {
   "cell_type": "code",
   "execution_count": null,
   "id": "12f59a3f",
   "metadata": {},
   "outputs": [],
   "source": [
    "import sys, os\n",
    "sys.path.extend([os.path.abspath('../')])"
   ]
  },
  {
   "cell_type": "code",
   "execution_count": null,
   "id": "9b3814d5",
   "metadata": {},
   "outputs": [],
   "source": [
    "import numpy as np\n",
    "import sympy as sy\n",
    "import sparse as sp\n",
    "import math"
   ]
  },
  {
   "cell_type": "code",
   "execution_count": null,
   "id": "7711e102",
   "metadata": {},
   "outputs": [],
   "source": [
    "from qgs.params.params import QgParams\n",
    "from qgs.functions.tendencies import create_tendencies"
   ]
  },
  {
   "cell_type": "code",
   "execution_count": null,
   "id": "8500ea89",
   "metadata": {},
   "outputs": [],
   "source": [
    "from qgs.inner_products.symbolic import AtmosphericSymbolicInnerProducts, GroundSymbolicInnerProducts\n",
    "from qgs.tensors.qgtensor import QgsTensor, QgsTensorDynamicT, QgsTensorT4\n",
    "from qgs.tensors.symbolic_qgtensor import SymbolicQgsTensor, SymbolicQgsTensorDynamicT\n",
    "from qgs.tensors.symbolic_qgtensor import _symbolic_tensordot, _shift_dict_keys, _add_to_dict"
   ]
  },
  {
   "cell_type": "code",
   "execution_count": null,
   "id": "bf632fac",
   "metadata": {},
   "outputs": [],
   "source": [
    "model_parameters = QgParams({'phi0_npi': np.deg2rad(50.)/np.pi, 'n':1.3 }, dynamic_T=False)"
   ]
  },
  {
   "cell_type": "code",
   "execution_count": null,
   "id": "a2a8e7c1",
   "metadata": {},
   "outputs": [],
   "source": [
    "model_parameters.set_atmospheric_channel_fourier_modes(2, 2, mode=\"symbolic\")\n",
    "# Mode truncation at the wavenumber 2 in the x and at the \n",
    "# wavenumber 4 in the y spatial coordinates for the ocean\n",
    "model_parameters.set_ground_channel_fourier_modes(2, 2, mode=\"symbolic\")"
   ]
  },
  {
   "cell_type": "code",
   "execution_count": null,
   "id": "3237dc76",
   "metadata": {},
   "outputs": [],
   "source": [
    "# Changing (increasing) the orography depth\n",
    "model_parameters.ground_params.set_orography(0.2, 1)\n",
    "# Setting the parameters of the heat transfer from the soil\n",
    "model_parameters.gotemperature_params.set_params({'gamma': 1.6e7, 'T0': 300})\n",
    "model_parameters.atemperature_params.set_params({ 'hlambda':10, 'T0': 290})\n",
    "# Setting atmospheric parameters\n",
    "model_parameters.atmospheric_params.set_params({'sigma': 0.2, 'kd': 0.085, 'kdp': 0.02})\n",
    "\n",
    "# Setting insolation \n",
    "model_parameters.gotemperature_params.set_params({})"
   ]
  },
  {
   "cell_type": "code",
   "execution_count": null,
   "id": "51907767",
   "metadata": {},
   "outputs": [],
   "source": [
    "C_g = 300\n",
    "model_parameters.atemperature_params.set_insolation(0.4*C_g , 0)\n",
    "\n",
    "model_parameters.gotemperature_params.set_insolation(C_g , 0)"
   ]
  },
  {
   "cell_type": "code",
   "execution_count": null,
   "id": "6112c83a",
   "metadata": {
    "scrolled": true
   },
   "outputs": [],
   "source": [
    "%%time\n",
    "# Takes ~1 mins\n",
    "gnd_ip_stored = GroundSymbolicInnerProducts(model_parameters, stored=True, return_symbolic=True, make_substitution=False) # <- Can be turned off once saved"
   ]
  },
  {
   "cell_type": "code",
   "execution_count": null,
   "id": "805e53eb",
   "metadata": {
    "scrolled": true
   },
   "outputs": [],
   "source": [
    "gnd_ip_stored = GroundSymbolicInnerProducts(model_parameters, stored=True, return_symbolic=True, make_substitution=True) # <- Can be turned off once saved"
   ]
  },
  {
   "cell_type": "markdown",
   "id": "d43d341b",
   "metadata": {},
   "source": [
    "## Outputting model equations"
   ]
  },
  {
   "cell_type": "code",
   "execution_count": null,
   "id": "f67ffc01",
   "metadata": {},
   "outputs": [],
   "source": [
    "from qgs.functions.symbolic_output import create_symbolic_equations, translate_equations, equation_as_function, format_equations"
   ]
  },
  {
   "cell_type": "markdown",
   "id": "8ddc3286",
   "metadata": {},
   "source": [
    "Calculating the functions and tensor"
   ]
  },
  {
   "cell_type": "code",
   "execution_count": null,
   "id": "8287cf38",
   "metadata": {},
   "outputs": [],
   "source": [
    "model_parameters.ground_params.hk[0].symbol"
   ]
  },
  {
   "cell_type": "code",
   "execution_count": null,
   "id": "9479fcb0",
   "metadata": {
    "scrolled": true
   },
   "outputs": [],
   "source": [
    "%%time\n",
    "funcs, = create_symbolic_equations(model_parameters, continuation_variables=[model_parameters.atemperature_params.eps], language='python')"
   ]
  },
  {
   "cell_type": "markdown",
   "id": "0c185e14",
   "metadata": {},
   "source": [
    "Convert the dictionary of functions to a lambdified function (not working with numba)\n",
    "The input `remain_variables` specifies which variables not to substitute with values."
   ]
  },
  {
   "cell_type": "code",
   "execution_count": null,
   "id": "0fb36604",
   "metadata": {
    "scrolled": true
   },
   "outputs": [],
   "source": [
    "print(funcs)"
   ]
  },
  {
   "cell_type": "code",
   "execution_count": null,
   "id": "3ec572eb",
   "metadata": {},
   "outputs": [],
   "source": [
    "from numba import njit"
   ]
  },
  {
   "cell_type": "markdown",
   "id": "2bd791a9",
   "metadata": {},
   "source": [
    "Below function has the **kwargs input removed as I cannot get this to work with numba"
   ]
  },
  {
   "cell_type": "code",
   "execution_count": null,
   "id": "d5d98d6b",
   "metadata": {},
   "outputs": [],
   "source": [
    "@njit\n",
    "def f(t, U):\n",
    "\t#Tendency function of the qgs model\n",
    "\tF = np.empty_like(U)\n",
    "\tC_go = 300\n",
    "\tC_a = 0.4 * C_go\n",
    "\tF[0] = -0.0425*U[0] + 0.0425*U[10] - 0.156054828133898*U[12] + 0.156054828133898*U[2]\n",
    "\tF[1] = -0.980418808722262*U[0]*U[2] - 0.980418808722262*U[10]*U[12] + 0.0425*U[11] - 1.56867009395562*U[13]*U[15] - 1.50055762081784*U[14]*U[17] + 1.50055762081784*U[15]*U[16] - 0.0425*U[1] + 0.101317695204044*U[2] - 1.56867009395562*U[3]*U[5] - 1.50055762081784*U[4]*U[7] + 1.50055762081784*U[5]*U[6]\n",
    "\tF[2] = 0.980418808722262*U[0]*U[1] - 0.0580129472616723*U[0] + 0.980418808722262*U[10]*U[11] + 0.0580129472616723*U[10] + 0.0425*U[12] + 1.56867009395562*U[13]*U[14] + 1.50055762081784*U[14]*U[16] + 1.50055762081784*U[15]*U[17] - 0.101317695204044*U[1] - 0.0425*U[2] + 1.56867009395562*U[3]*U[4] + 1.50055762081784*U[4]*U[6] + 1.50055762081784*U[5]*U[7]\n",
    "\tF[3] = 1.87265793760678*U[11]*U[15] - 1.87265793760678*U[12]*U[14] + 0.0425*U[13] - 0.0624219312535594*U[15] + 3.74531587521356*U[16]*U[19] - 3.74531587521356*U[17]*U[18] + 1.87265793760678*U[1]*U[5] - 1.87265793760678*U[2]*U[4] - 0.0425*U[3] + 0.0624219312535594*U[5] + 3.74531587521356*U[6]*U[9] - 3.74531587521356*U[7]*U[8]\n",
    "\tF[4] = -1.02902937637678*U[0]*U[5] - 1.02902937637678*U[10]*U[15] + 1.73752196836555*U[11]*U[17] + 0.574852231579351*U[12]*U[13] - 1.73752196836555*U[12]*U[16] + 0.0425*U[14] - 0.0342706502636204*U[17] + 1.73752196836555*U[1]*U[7] + 0.574852231579351*U[2]*U[3] - 1.73752196836555*U[2]*U[6] - 0.0425*U[4] + 0.0478988752370612*U[5] + 0.0342706502636204*U[7]\n",
    "\tF[5] = 1.02902937637678*U[0]*U[4] + 1.02902937637678*U[10]*U[14] - 0.574852231579351*U[11]*U[13] - 1.73752196836555*U[11]*U[16] - 1.73752196836555*U[12]*U[17] + 0.0438818497388818*U[13] + 0.0425*U[15] + 0.0342706502636204*U[16] - 0.574852231579351*U[1]*U[3] - 1.73752196836555*U[1]*U[6] - 1.73752196836555*U[2]*U[7] - 0.0438818497388818*U[3] - 0.0478988752370612*U[4] - 0.0425*U[5] - 0.0342706502636204*U[6]\n",
    "\tF[6] = -2.71889339738442*U[0]*U[7] - 2.71889339738442*U[10]*U[17] + 0.753865979381443*U[11]*U[15] + 0.753865979381443*U[12]*U[14] - 4.35022943581506*U[13]*U[19] - 0.0251288659793814*U[15] + 0.0425*U[16] + 0.753865979381443*U[1]*U[5] + 0.753865979381443*U[2]*U[4] - 4.35022943581506*U[3]*U[9] + 0.0251288659793814*U[5] - 0.0425*U[6] + 0.0702434536337315*U[7]\n",
    "\tF[7] = 2.71889339738442*U[0]*U[6] + 2.71889339738442*U[10]*U[16] - 0.753865979381443*U[11]*U[14] + 0.753865979381443*U[12]*U[15] + 4.35022943581506*U[13]*U[18] + 0.0251288659793814*U[14] + 0.0425*U[17] - 0.753865979381443*U[1]*U[4] + 0.753865979381443*U[2]*U[5] + 4.35022943581506*U[3]*U[8] - 0.0251288659793814*U[4] - 0.0702434536337315*U[6] - 0.0425*U[7]\n",
    "\tF[8] = -2.26482546109569*U[0]*U[9] - 2.26482546109569*U[10]*U[19] - 1.7450294536311*U[13]*U[17] + 0.0425*U[18] - 1.7450294536311*U[3]*U[7] - 0.0425*U[8] + 0.050658847602022*U[9]\n",
    "\tF[9] = 2.26482546109569*U[0]*U[8] + 2.26482546109569*U[10]*U[18] + 1.7450294536311*U[13]*U[16] + 0.0425*U[19] + 1.7450294536311*U[3]*U[6] - 0.050658847602022*U[8] - 0.0425*U[9]\n",
    "\tF[10] = 4.68670500616653e-6*C_a + 0.00386363636363636*U[0] - 0.023715438957012*U[10] - 1.41868025576271*U[11]*U[2] + 1.41868025576271*U[12]*U[1] + 0.0141868025576271*U[12] - 1.13494420461017*U[14]*U[5] + 1.13494420461017*U[15]*U[4] - 2.83736051152543*U[16]*U[7] + 2.83736051152543*U[17]*U[6] - 2.26988840922034*U[18]*U[9] + 2.26988840922034*U[19]*U[8] + 0.00645434108527132*U[20] - 0.0141868025576271*U[2]\n",
    "\tF[11] = -1.43757363347933*U[0]*U[12] + 1.02191932371371*U[10]*U[2] - 0.0315441157231782*U[11] + 0.0214771158470353*U[12] + 1.63507091794193*U[13]*U[5] + 1.21855791962175*U[14]*U[7] - 2.30011781356693*U[15]*U[3] - 1.21855791962175*U[15]*U[6] + 1.85472813238771*U[16]*U[5] - 1.85472813238771*U[17]*U[4] + 0.00900906225374311*U[1] + 0.00559477950653936*U[21]\n",
    "\tF[12] = 1.43757363347933*U[0]*U[11] + 0.0122974647859652*U[0] - 1.02191932371371*U[10]*U[1] - 0.0122974647859652*U[10] - 0.0214771158470353*U[11] - 0.0315441157231782*U[12] - 1.63507091794193*U[13]*U[4] + 2.30011781356693*U[14]*U[3] - 1.21855791962175*U[14]*U[6] - 1.21855791962175*U[15]*U[7] + 1.85472813238771*U[16]*U[4] + 1.85472813238771*U[17]*U[5] + 0.00559477950653936*U[22] + 0.00900906225374311*U[2]\n",
    "\tF[13] = -1.24843862507119*U[11]*U[5] + 1.24843862507119*U[12]*U[4] - 0.0363121306090808*U[13] - 2.3185288751322*U[14]*U[2] + 2.3185288751322*U[15]*U[1] + 0.017834837501017*U[15] - 2.49687725014237*U[16]*U[9] + 2.49687725014237*U[17]*U[8] - 4.63705775026441*U[18]*U[7] + 4.63705775026441*U[19]*U[6] + 0.00507126799557032*U[23] + 0.0121428571428571*U[3] - 0.017834837501017*U[5]\n",
    "\tF[14] = -1.16886956037576*U[0]*U[15] + 0.422511733532696*U[10]*U[5] - 0.612715105162524*U[11]*U[7] - 1.38291034440645*U[12]*U[3] + 0.612715105162524*U[12]*U[6] + 1.79985224341047*U[13]*U[2] - 0.0412871146288803*U[14] + 0.0173705927405276*U[15] - 1.87294455066922*U[16]*U[2] + 1.87294455066922*U[17]*U[1] + 0.0124282982791587*U[17] + 0.00452503199094866*U[24] + 0.015412683237731*U[4] - 0.0124282982791587*U[7]\n",
    "\tF[15] = 1.16886956037576*U[0]*U[14] - 0.422511733532696*U[10]*U[4] + 1.38291034440645*U[11]*U[3] + 0.612715105162524*U[11]*U[6] + 0.612715105162524*U[12]*U[7] - 1.79985224341047*U[13]*U[1] - 0.0159138129390846*U[13] - 0.0173705927405276*U[14] - 0.0412871146288803*U[15] - 1.87294455066922*U[16]*U[1] - 0.0124282982791587*U[16] - 1.87294455066922*U[17]*U[2] + 0.00452503199094866*U[25] + 0.0159138129390846*U[3] + 0.015412683237731*U[5] + 0.0124282982791587*U[6]\n",
    "\tF[16] = -2.94535914360826*U[0]*U[17] + 0.569389237785845*U[10]*U[7] - 0.768581081081081*U[11]*U[5] - 0.768581081081081*U[12]*U[4] + 0.911022780457352*U[13]*U[9] + 1.42736486486486*U[14]*U[2] + 1.42736486486486*U[15]*U[1] + 0.0109797297297297*U[15] - 0.0460906434981493*U[16] + 0.0306919594705944*U[17] - 4.71257462977322*U[19]*U[3] + 0.00399762116767931*U[26] - 0.0109797297297297*U[5] + 0.0185698198198198*U[6]\n",
    "\tF[17] = 2.94535914360826*U[0]*U[16] - 0.569389237785845*U[10]*U[6] + 0.768581081081081*U[11]*U[4] - 0.768581081081081*U[12]*U[5] - 0.911022780457352*U[13]*U[8] - 1.42736486486486*U[14]*U[1] - 0.0109797297297297*U[14] + 1.42736486486486*U[15]*U[2] - 0.0306919594705944*U[16] - 0.0460906434981493*U[17] + 4.71257462977322*U[18]*U[3] + 0.00399762116767931*U[27] + 0.0109797297297297*U[4] + 0.0185698198198198*U[7]\n",
    "\tF[18] = -2.37660377951895*U[0]*U[19] + 0.0288656329496225*U[10]*U[9] + 1.50101291338039*U[13]*U[7] - 3.30992591155675*U[17]*U[3] - 0.0513521112007289*U[18] + 0.026256705211838*U[19] + 0.00341993024749443*U[28] + 0.0220279383429672*U[8]\n",
    "\tF[19] = 2.37660377951895*U[0]*U[18] - 0.0288656329496225*U[10]*U[8] - 1.50101291338039*U[13]*U[6] + 3.30992591155675*U[16]*U[3] - 0.026256705211838*U[18] - 0.0513521112007289*U[19] + 0.00341993024749443*U[29] + 0.0220279383429672*U[9]\n",
    "\tF[20] = 6.44421938347898e-6*C_go + 0.0172043158333333*U[10] - 0.00976477713178294*U[20]\n",
    "\tF[21] = 0.0172043158333333*U[11] - 0.00976477713178294*U[21]\n",
    "\tF[22] = 0.0172043158333333*U[12] - 0.00976477713178294*U[22]\n",
    "\tF[23] = 0.0172043158333333*U[13] - 0.00976477713178294*U[23]\n",
    "\tF[24] = 0.0172043158333333*U[14] - 0.00976477713178294*U[24]\n",
    "\tF[25] = 0.0172043158333333*U[15] - 0.00976477713178294*U[25]\n",
    "\tF[26] = 0.0172043158333333*U[16] - 0.00976477713178294*U[26]\n",
    "\tF[27] = 0.0172043158333333*U[17] - 0.00976477713178294*U[27]\n",
    "\tF[28] = 0.0172043158333333*U[18] - 0.00976477713178294*U[28]\n",
    "\tF[29] = 0.0172043158333333*U[19] - 0.00976477713178294*U[29]\n",
    "\treturn F"
   ]
  },
  {
   "cell_type": "code",
   "execution_count": null,
   "id": "7cededb7",
   "metadata": {},
   "outputs": [],
   "source": [
    "offset = 1 if model_parameters.dynamic_T else 0"
   ]
  },
  {
   "cell_type": "code",
   "execution_count": null,
   "id": "b7e03156",
   "metadata": {},
   "outputs": [],
   "source": [
    "model_parameters.ndim"
   ]
  },
  {
   "cell_type": "markdown",
   "id": "0579478b",
   "metadata": {},
   "source": [
    "## Comparing with numerical results"
   ]
  },
  {
   "cell_type": "code",
   "execution_count": null,
   "id": "77155759",
   "metadata": {},
   "outputs": [],
   "source": [
    "from qgs.integrators.integrator import RungeKuttaIntegrator, RungeKuttaTglsIntegrator\n",
    "import matplotlib.pyplot as plt"
   ]
  },
  {
   "cell_type": "code",
   "execution_count": null,
   "id": "f38b345f",
   "metadata": {
    "scrolled": true
   },
   "outputs": [],
   "source": [
    "f_num, Df, ten_num = create_tendencies(model_parameters, return_qgtensor=True)"
   ]
  },
  {
   "cell_type": "code",
   "execution_count": null,
   "id": "9a0f5941",
   "metadata": {},
   "outputs": [],
   "source": [
    "integrator = RungeKuttaIntegrator()\n",
    "integrator.set_func(f)"
   ]
  },
  {
   "cell_type": "code",
   "execution_count": null,
   "id": "415ab585",
   "metadata": {},
   "outputs": [],
   "source": [
    "integrator_num = RungeKuttaIntegrator()\n",
    "integrator_num.set_func(f_num)"
   ]
  },
  {
   "cell_type": "code",
   "execution_count": null,
   "id": "e2b5f14a",
   "metadata": {},
   "outputs": [],
   "source": [
    "# ICs calculated from long transient\n",
    "\n",
    "ic = np.array([0.05055959, -0.01639403, -0.01440781, -0.01846523, -0.01352099,\n",
    "        0.011685  , -0.00201673, -0.02030682,  0.03923588, -0.02229535,\n",
    "        0.0586372 , -0.01805569, -0.01264252, -0.0103574 , -0.00618456,\n",
    "        0.01159318, -0.00478694, -0.00782509,  0.01066059, -0.01552667,\n",
    "        0.30718325, -0.03247899, -0.04512935, -0.00078786, -0.00067468,\n",
    "        0.00183836,  0.00068025,  0.00215424, -0.00322845, -0.00186392])"
   ]
  },
  {
   "cell_type": "code",
   "execution_count": null,
   "id": "9c6d5773",
   "metadata": {},
   "outputs": [],
   "source": [
    "%%time\n",
    "integrator.integrate(0., 100000., 0.1, ic=ic, write_steps=5)\n",
    "reference_time, reference_traj = integrator.get_trajectories()"
   ]
  },
  {
   "cell_type": "code",
   "execution_count": null,
   "id": "b38989ba",
   "metadata": {},
   "outputs": [],
   "source": [
    "%%time\n",
    "integrator_num.integrate(0., 100000., 0.1, ic=ic, write_steps=5)\n",
    "reference_time_num, reference_traj_num = integrator_num.get_trajectories()"
   ]
  },
  {
   "cell_type": "code",
   "execution_count": null,
   "id": "2f892676",
   "metadata": {},
   "outputs": [],
   "source": [
    "varx = 2\n",
    "vary = 1\n",
    "plt.figure(figsize=(12, 10))\n",
    "\n",
    "plt.plot(reference_traj[varx], reference_traj[vary], marker='o', ms=0.07, ls='')\n",
    "plt.plot(reference_traj_num[varx], reference_traj_num[vary], marker='o', ms=0.07, ls='')\n",
    "\n",
    "plt.xlabel('$'+model_parameters.latex_var_string[varx]+'$')\n",
    "plt.ylabel('$'+model_parameters.latex_var_string[vary]+'$');"
   ]
  },
  {
   "cell_type": "code",
   "execution_count": null,
   "id": "68781088",
   "metadata": {},
   "outputs": [],
   "source": [
    "varx = 2\n",
    "vary = 1\n",
    "plt.figure(figsize=(12, 10))\n",
    "\n",
    "plt.plot(reference_traj[varx], reference_traj[vary], marker='o', ms=0.07, ls='')\n",
    "plt.plot(reference_traj_num[varx], reference_traj_num[vary], marker='o', ms=0.07, ls='')\n",
    "\n",
    "plt.xlabel('$'+model_parameters.latex_var_string[varx]+'$')\n",
    "plt.ylabel('$'+model_parameters.latex_var_string[vary]+'$');"
   ]
  },
  {
   "cell_type": "code",
   "execution_count": null,
   "id": "6697d107",
   "metadata": {},
   "outputs": [],
   "source": [
    "plt.figure(figsize=(12, 8))\n",
    "t_s = 100000\n",
    "\n",
    "plt.plot(reference_time_num[:t_s] * model_parameters.dimensional_time, reference_traj_num[varx, :t_s])\n",
    "plt.plot(reference_time[:t_s] * model_parameters.dimensional_time, reference_traj[varx, :t_s])\n",
    "plt.show()"
   ]
  },
  {
   "cell_type": "code",
   "execution_count": null,
   "id": "76ecb077",
   "metadata": {},
   "outputs": [],
   "source": [
    "plt.figure(figsize=(12, 8))\n",
    "t_s = 1000\n",
    "\n",
    "vars = [1, 2]\n",
    "\n",
    "plt.plot(reference_traj_num[vars, :-1].T)\n",
    "# plt.plot(reference_time[:t_s] * model_parameters.dimensional_time, reference_traj[varx, :t_s])\n",
    "plt.show()"
   ]
  },
  {
   "cell_type": "code",
   "execution_count": null,
   "id": "6d76cd4c",
   "metadata": {},
   "outputs": [],
   "source": []
  }
 ],
 "metadata": {
  "kernelspec": {
   "display_name": "Python 3 (ipykernel)",
   "language": "python",
   "name": "python3"
  },
  "language_info": {
   "codemirror_mode": {
    "name": "ipython",
    "version": 3
   },
   "file_extension": ".py",
   "mimetype": "text/x-python",
   "name": "python",
   "nbconvert_exporter": "python",
   "pygments_lexer": "ipython3",
   "version": "3.8.10"
  }
 },
 "nbformat": 4,
 "nbformat_minor": 5
}
