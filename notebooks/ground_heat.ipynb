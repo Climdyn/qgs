{
 "cells": [
  {
   "cell_type": "markdown",
   "metadata": {},
   "source": [
    "# QGS model: Atmospheric model with heat exchange"
   ]
  },
  {
   "cell_type": "markdown",
   "metadata": {},
   "source": [
    "## Li et al. 2017 model version"
   ]
  },
  {
   "cell_type": "markdown",
   "metadata": {},
   "source": [
    "This model version is a simple 2-layer channel QG atmosphere truncated at wavenumber 2 on a beta-plane with a simple orography (a montain and a valley) , with a radiative and heat exchanges scheme inspired by the MAOOAM model.\n",
    "\n",
    "More detail can be found in the articles:\n",
    "* Li, D., He, Y., Huang, J., Bi, L., & Ding, L. (2018). *Multiple equilibria in a land–atmosphere coupled system.* Journal of Meteorological Research, **32**(6), 950-973.\n",
    "[doi:10.1007/s13351-018-8012-y](https://doi.org/10.1007/s13351-018-8012-y)\n",
    "* De Cruz, L., Demaeyer, J. and Vannitsem, S. (2016). *The Modular Arbitrary-Order Ocean-Atmosphere Model: MAOOAM v1.0*, Geosci. Model Dev., **9**, 2793-2808. [doi:10.5194/gmd-9-2793-2016](https://doi.org/10.5194/gmd-9-2793-2016)\n",
    "\n",
    "or in the documentation."
   ]
  },
  {
   "cell_type": "markdown",
   "metadata": {},
   "source": [
    "## Modules import"
   ]
  },
  {
   "cell_type": "markdown",
   "metadata": {},
   "source": [
    "First, setting the path and loading of some modules"
   ]
  },
  {
   "cell_type": "code",
   "execution_count": 1,
   "metadata": {},
   "outputs": [],
   "source": [
    "import sys, os"
   ]
  },
  {
   "cell_type": "code",
   "execution_count": 2,
   "metadata": {},
   "outputs": [],
   "source": [
    "sys.path.extend([os.path.abspath('../')])"
   ]
  },
  {
   "cell_type": "code",
   "execution_count": 3,
   "metadata": {},
   "outputs": [],
   "source": [
    "import numpy as np\n",
    "import matplotlib.pyplot as plt\n",
    "from mpl_toolkits.mplot3d import Axes3D"
   ]
  },
  {
   "cell_type": "markdown",
   "metadata": {},
   "source": [
    "Initializing the random number generator (for reproducibility). -- Disable if needed."
   ]
  },
  {
   "cell_type": "code",
   "execution_count": 4,
   "metadata": {},
   "outputs": [],
   "source": [
    "np.random.seed(210217)"
   ]
  },
  {
   "cell_type": "markdown",
   "metadata": {},
   "source": [
    "Importing the model's modules"
   ]
  },
  {
   "cell_type": "code",
   "execution_count": 5,
   "metadata": {},
   "outputs": [],
   "source": [
    "from qgs.params.params import QgParams\n",
    "from qgs.integrators.integrator import RungeKuttaIntegrator, RungeKuttaTglsIntegrator\n",
    "from qgs.functions.tendencies import create_tendencies\n",
    "from qgs.plotting.util import std_plot"
   ]
  },
  {
   "cell_type": "markdown",
   "metadata": {},
   "source": [
    "## Systems definition"
   ]
  },
  {
   "cell_type": "markdown",
   "metadata": {},
   "source": [
    "General parameters"
   ]
  },
  {
   "cell_type": "code",
   "execution_count": 6,
   "metadata": {},
   "outputs": [],
   "source": [
    "# Time parameters\n",
    "dt = 0.1\n",
    "# Saving the model state n steps\n",
    "write_steps = 5\n",
    "\n",
    "number_of_trajectories = 1\n",
    "number_of_perturbed_trajectories = 10"
   ]
  },
  {
   "cell_type": "markdown",
   "metadata": {},
   "source": [
    "Setting some model parameters"
   ]
  },
  {
   "cell_type": "code",
   "execution_count": 7,
   "metadata": {},
   "outputs": [],
   "source": [
    "# Model parameters instantiation with some non-default specs\n",
    "model_parameters = QgParams({'phi0_npi': np.deg2rad(50.)/np.pi, 'n':1.5})\n",
    "# Mode truncation at the wavenumber 2 in both x and y spatial coordinate for the atmosphere\n",
    "model_parameters.set_atmospheric_channel_fourier_modes(2, 2)\n",
    "# Same modes for the ground temperature modes\n",
    "model_parameters.set_ground_channel_fourier_modes()\n",
    "\n",
    "# Changing (increasing) the orography depth\n",
    "model_parameters.ground_params.set_orography(0.2, 1)\n",
    "# Setting the parameters of the heat transfer from the soil\n",
    "model_parameters.gotemperature_params.set_params({'gamma': 1.6e7})\n",
    "model_parameters.atemperature_params.set_params({ 'hlambda': 10.})\n"
   ]
  },
  {
   "cell_type": "code",
   "execution_count": 8,
   "metadata": {},
   "outputs": [],
   "source": [
    "model_parameters.atemperature_params.set_insolation(300*0.33, 0)\n",
    "model_parameters.gotemperature_params.set_insolation(300, 0)"
   ]
  },
  {
   "cell_type": "code",
   "execution_count": 9,
   "metadata": {},
   "outputs": [
    {
     "name": "stdout",
     "output_type": "stream",
     "text": [
      "Qgs v0.2.8 parameters summary\n",
      "=============================\n",
      "\n",
      "General Parameters:\n",
      "'dynamic_T': False,\n",
      "'T4': False,\n",
      "'time_unit': days,\n",
      "'rr': 287.058  [J][kg^-1][K^-1]  (gas constant of dry air),\n",
      "'sb': 5.67e-08  [J][m^-2][s^-1][K^-4]  (Stefan-Boltzmann constant),\n",
      "\n",
      "Scale Parameters:\n",
      "'scale': 5000000.0  [m]  (characteristic space scale (L*pi)),\n",
      "'f0': 0.0001032  [s^-1]  (Coriolis parameter at the middle of the domain),\n",
      "'n': 1.5  [nondim]  (aspect ratio (n = 2 L_y / L_x)),\n",
      "'rra': 6370000.0  [m]  (earth radius),\n",
      "'phi0_npi': 0.2777777777777778  [nondim]  (latitude expressed in fraction of pi),\n",
      "'deltap': 50000.0  [Pa]  (pressure difference between the two atmospheric layers),\n",
      "'Ha': 8500.0  [m]  (Average height of the 500 hPa pressure level at midlatitude),\n",
      "\n",
      "Atmospheric Parameters:\n",
      "'kd': 0.1  [nondim]  (atmosphere bottom friction coefficient),\n",
      "'kdp': 0.01  [nondim]  (atmosphere internal friction coefficient),\n",
      "'sigma': 0.2  [nondim]  (static stability of the atmosphere),\n",
      "\n",
      "Atmospheric Temperature Parameters:\n",
      "'gamma': 10000000.0  [J][m^-2][K^-1]  (specific heat capacity of the atmosphere),\n",
      "'C[1]': 99.0  [W][m^-2]  (spectral component 1 of the short-wave radiation of the atmosphere),\n",
      "'C[2]': 0.0  [W][m^-2]  (spectral component 2 of the short-wave radiation of the atmosphere),\n",
      "'C[3]': 0.0  [W][m^-2]  (spectral component 3 of the short-wave radiation of the atmosphere),\n",
      "'C[4]': 0.0  [W][m^-2]  (spectral component 4 of the short-wave radiation of the atmosphere),\n",
      "'C[5]': 0.0  [W][m^-2]  (spectral component 5 of the short-wave radiation of the atmosphere),\n",
      "'C[6]': 0.0  [W][m^-2]  (spectral component 6 of the short-wave radiation of the atmosphere),\n",
      "'C[7]': 0.0  [W][m^-2]  (spectral component 7 of the short-wave radiation of the atmosphere),\n",
      "'C[8]': 0.0  [W][m^-2]  (spectral component 8 of the short-wave radiation of the atmosphere),\n",
      "'C[9]': 0.0  [W][m^-2]  (spectral component 9 of the short-wave radiation of the atmosphere),\n",
      "'C[10]': 0.0  [W][m^-2]  (spectral component 10 of the short-wave radiation of the atmosphere),\n",
      "'eps': 0.76    (emissivity coefficient for the grey-body atmosphere),\n",
      "'T0': 270.0  [K]  (stationary solution for the 0-th order atmospheric temperature),\n",
      "'sc': 1.0    (ratio of surface to atmosphere temperature),\n",
      "'hlambda': 10.0  [W][m^-2][K^-1]  (sensible+turbulent heat exchange between ocean/ground and atmosphere),\n",
      "\n",
      "Ground Parameters:\n",
      "'hk[1]': 0.0    (spectral component 1 of the orography),\n",
      "'hk[2]': 0.2    (spectral components 2 of the orography),\n",
      "'hk[3]': 0.0    (spectral component 3 of the orography),\n",
      "'hk[4]': 0.0    (spectral component 4 of the orography),\n",
      "'hk[5]': 0.0    (spectral component 5 of the orography),\n",
      "'hk[6]': 0.0    (spectral component 6 of the orography),\n",
      "'hk[7]': 0.0    (spectral component 7 of the orography),\n",
      "'hk[8]': 0.0    (spectral component 8 of the orography),\n",
      "'hk[9]': 0.0    (spectral component 9 of the orography),\n",
      "'hk[10]': 0.0    (spectral component 10 of the orography),\n",
      "'orographic_basis': atmospheric,\n",
      "\n",
      "Ground Temperature Parameters:\n",
      "'gamma': 16000000.0  [J][m^-2][K^-1]  (specific heat capacity of the ground),\n",
      "'C[1]': 300.0  [W][m^-2]  (spectral component 1 of the short-wave radiation of the ground),\n",
      "'C[2]': 0.0  [W][m^-2]  (spectral component 2 of the short-wave radiation of the ground),\n",
      "'C[3]': 0.0  [W][m^-2]  (spectral component 3 of the short-wave radiation of the ground),\n",
      "'C[4]': 0.0  [W][m^-2]  (spectral component 4 of the short-wave radiation of the ground),\n",
      "'C[5]': 0.0  [W][m^-2]  (spectral component 5 of the short-wave radiation of the ground),\n",
      "'C[6]': 0.0  [W][m^-2]  (spectral component 6 of the short-wave radiation of the ground),\n",
      "'C[7]': 0.0  [W][m^-2]  (spectral component 7 of the short-wave radiation of the ground),\n",
      "'C[8]': 0.0  [W][m^-2]  (spectral component 8 of the short-wave radiation of the ground),\n",
      "'C[9]': 0.0  [W][m^-2]  (spectral component 9 of the short-wave radiation of the ground),\n",
      "'C[10]': 0.0  [W][m^-2]  (spectral component 10 of the short-wave radiation of the ground),\n",
      "'T0': 285.0  [K]  (stationary solution for the 0-th order oceanic temperature),\n",
      "\n",
      "\n"
     ]
    }
   ],
   "source": [
    "# Printing the model's parameters\n",
    "model_parameters.print_params()"
   ]
  },
  {
   "cell_type": "markdown",
   "metadata": {},
   "source": [
    "Creating the tendencies function"
   ]
  },
  {
   "cell_type": "code",
   "execution_count": 11,
   "metadata": {},
   "outputs": [],
   "source": [
    "from qgs.inner_products.symbolic import AtmosphericSymbolicInnerProducts"
   ]
  },
  {
   "cell_type": "code",
   "execution_count": 12,
   "metadata": {},
   "outputs": [],
   "source": [
    "aip = AtmosphericSymbolicInnerProducts(model_parameters)"
   ]
  },
  {
   "cell_type": "code",
   "execution_count": 10,
   "metadata": {},
   "outputs": [
    {
     "name": "stdout",
     "output_type": "stream",
     "text": [
      "CPU times: user 8.88 s, sys: 1.12 s, total: 10 s\n",
      "Wall time: 8.55 s\n"
     ]
    }
   ],
   "source": [
    "%%time\n",
    "f, Df = create_tendencies(model_parameters)"
   ]
  },
  {
   "cell_type": "markdown",
   "metadata": {},
   "source": [
    "## Time integration"
   ]
  },
  {
   "cell_type": "markdown",
   "metadata": {},
   "source": [
    "Defining an integrator"
   ]
  },
  {
   "cell_type": "code",
   "execution_count": null,
   "metadata": {},
   "outputs": [],
   "source": [
    "integrator = RungeKuttaIntegrator()\n",
    "integrator.set_func(f)"
   ]
  },
  {
   "cell_type": "markdown",
   "metadata": {},
   "source": [
    "Start on a random initial condition and integrate over a transient time to obtain an initial condition on the attractors"
   ]
  },
  {
   "cell_type": "code",
   "execution_count": null,
   "metadata": {},
   "outputs": [],
   "source": [
    "%%time\n",
    "ic = np.random.rand(model_parameters.ndim)*0.1\n",
    "integrator.integrate(0., 200000., dt, ic=ic, write_steps=0)\n",
    "time, ic = integrator.get_trajectories()"
   ]
  },
  {
   "cell_type": "markdown",
   "metadata": {},
   "source": [
    "Now integrate to obtain a trajectory on the attractor"
   ]
  },
  {
   "cell_type": "code",
   "execution_count": null,
   "metadata": {},
   "outputs": [],
   "source": [
    "%%time\n",
    "integrator.integrate(0., 200000., dt, ic=ic, write_steps=write_steps)\n",
    "time, traj = integrator.get_trajectories()"
   ]
  },
  {
   "cell_type": "markdown",
   "metadata": {},
   "source": [
    "Plotting the result in 3D and 2D"
   ]
  },
  {
   "cell_type": "code",
   "execution_count": null,
   "metadata": {},
   "outputs": [],
   "source": [
    "varx = 20\n",
    "vary = 21\n",
    "varz = 1\n",
    "\n",
    "fig = plt.figure(figsize=(10, 8))\n",
    "axi = fig.gca(projection='3d')\n",
    "\n",
    "axi.scatter(traj[varx], traj[vary], traj[varz], s=0.2);\n",
    "\n",
    "axi.set_xlabel('$'+model_parameters.latex_var_string[varx]+'$')\n",
    "axi.set_ylabel('$'+model_parameters.latex_var_string[vary]+'$')\n",
    "axi.set_zlabel('$'+model_parameters.latex_var_string[varz]+'$');"
   ]
  },
  {
   "cell_type": "code",
   "execution_count": null,
   "metadata": {},
   "outputs": [],
   "source": [
    "varx = 20\n",
    "vary = 21\n",
    "plt.figure(figsize=(10, 8))\n",
    "\n",
    "plt.plot(traj[varx], traj[vary], marker='o', ms=0.07, ls='')\n",
    "\n",
    "plt.xlabel('$'+model_parameters.latex_var_string[varx]+'$')\n",
    "plt.ylabel('$'+model_parameters.latex_var_string[vary]+'$');"
   ]
  },
  {
   "cell_type": "code",
   "execution_count": null,
   "metadata": {},
   "outputs": [],
   "source": [
    "varx = 2\n",
    "vary = 1\n",
    "plt.figure(figsize=(10, 8))\n",
    "\n",
    "plt.plot(traj[varx], traj[vary], marker='o', ms=0.07, ls='')\n",
    "\n",
    "plt.xlabel('$'+model_parameters.latex_var_string[varx]+'$')\n",
    "plt.ylabel('$'+model_parameters.latex_var_string[vary]+'$');"
   ]
  },
  {
   "cell_type": "code",
   "execution_count": null,
   "metadata": {},
   "outputs": [],
   "source": [
    "var = 21\n",
    "plt.figure(figsize=(10, 8))\n",
    "\n",
    "plt.plot(model_parameters.dimensional_time*time, traj[var])\n",
    "\n",
    "plt.xlim(0.,1000.)\n",
    "\n",
    "plt.xlabel('time (days)')\n",
    "plt.ylabel('$'+model_parameters.latex_var_string[var]+'$');"
   ]
  },
  {
   "cell_type": "markdown",
   "metadata": {},
   "source": [
    "## Initial condition sensitivity analysis example"
   ]
  },
  {
   "cell_type": "markdown",
   "metadata": {},
   "source": [
    "Instantiating a tangent linear integrator with the model tendencies"
   ]
  },
  {
   "cell_type": "code",
   "execution_count": null,
   "metadata": {},
   "outputs": [],
   "source": [
    "tgls_integrator = RungeKuttaTglsIntegrator()"
   ]
  },
  {
   "cell_type": "code",
   "execution_count": null,
   "metadata": {
    "scrolled": true
   },
   "outputs": [],
   "source": [
    "tgls_integrator.set_func(f, Df)"
   ]
  },
  {
   "cell_type": "markdown",
   "metadata": {},
   "source": [
    "Integrating with slightly perturbed initial conditions"
   ]
  },
  {
   "cell_type": "code",
   "execution_count": null,
   "metadata": {},
   "outputs": [],
   "source": [
    "tangent_ic = 0.00001*np.random.randn(number_of_perturbed_trajectories, model_parameters.ndim)"
   ]
  },
  {
   "cell_type": "code",
   "execution_count": null,
   "metadata": {},
   "outputs": [],
   "source": [
    "%%time \n",
    "\n",
    "tgls_integrator.integrate(0., 2000., dt=dt, write_steps=write_steps, ic=ic, tg_ic=tangent_ic)"
   ]
  },
  {
   "cell_type": "markdown",
   "metadata": {},
   "source": [
    "Obtaining the perturbed trajectories"
   ]
  },
  {
   "cell_type": "code",
   "execution_count": null,
   "metadata": {},
   "outputs": [],
   "source": [
    "tt, traj, delta = tgls_integrator.get_trajectories()"
   ]
  },
  {
   "cell_type": "code",
   "execution_count": null,
   "metadata": {},
   "outputs": [],
   "source": [
    "pert_traj = traj + delta"
   ]
  },
  {
   "cell_type": "markdown",
   "metadata": {},
   "source": [
    "Trajectories plot"
   ]
  },
  {
   "cell_type": "code",
   "execution_count": null,
   "metadata": {},
   "outputs": [],
   "source": [
    "var = 10\n",
    "plt.figure(figsize=(10, 8))\n",
    "\n",
    "plt.plot(model_parameters.dimensional_time*tt, traj[var])\n",
    "plt.plot(model_parameters.dimensional_time*tt, pert_traj[:,var].T, ls=':')\n",
    "\n",
    "ax = plt.gca()\n",
    "\n",
    "plt.ylim(0.,0.1)\n",
    "plt.xlim(0.,50.)\n",
    "\n",
    "plt.xlabel('time (days)')\n",
    "plt.ylabel('$'+model_parameters.latex_var_string[var]+'$');"
   ]
  },
  {
   "cell_type": "markdown",
   "metadata": {},
   "source": [
    "Mean and standard deviation"
   ]
  },
  {
   "cell_type": "code",
   "execution_count": null,
   "metadata": {},
   "outputs": [],
   "source": [
    "var = 10\n",
    "plt.figure(figsize=(10, 8))\n",
    "\n",
    "plt.plot(model_parameters.dimensional_time*tt, traj[var])\n",
    "\n",
    "ax = plt.gca()\n",
    "std_plot(model_parameters.dimensional_time*tt, np.mean(pert_traj[:,var], axis=0), np.sqrt(np.var(pert_traj[:, var], axis=0)), ax=ax, alpha=0.5)\n",
    "plt.ylim(0.,0.1)\n",
    "plt.xlim(0.,50.)\n",
    "\n",
    "plt.xlabel('time (days)')\n",
    "plt.ylabel('$'+model_parameters.latex_var_string[var]+'$');"
   ]
  }
 ],
 "metadata": {
  "kernelspec": {
   "display_name": "Python 3 (ipykernel)",
   "language": "python",
   "name": "python3"
  },
  "language_info": {
   "codemirror_mode": {
    "name": "ipython",
    "version": 3
   },
   "file_extension": ".py",
   "mimetype": "text/x-python",
   "name": "python",
   "nbconvert_exporter": "python",
   "pygments_lexer": "ipython3",
   "version": "3.8.10"
  }
 },
 "nbformat": 4,
 "nbformat_minor": 2
}
