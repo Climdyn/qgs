{
 "cells": [
  {
   "cell_type": "code",
   "execution_count": null,
   "id": "12f59a3f",
   "metadata": {},
   "outputs": [],
   "source": [
    "import sys, os\n",
    "sys.path.extend([os.path.abspath('../')])"
   ]
  },
  {
   "cell_type": "code",
   "execution_count": null,
   "id": "9b3814d5",
   "metadata": {},
   "outputs": [],
   "source": [
    "import numpy as np\n",
    "import sympy as sy\n",
    "import sparse as sp\n",
    "import math"
   ]
  },
  {
   "cell_type": "code",
   "execution_count": null,
   "id": "7711e102",
   "metadata": {},
   "outputs": [],
   "source": [
    "from qgs.params.params import QgParams\n",
    "from qgs.functions.tendencies import create_tendencies"
   ]
  },
  {
   "cell_type": "code",
   "execution_count": null,
   "id": "bf632fac",
   "metadata": {},
   "outputs": [],
   "source": [
    "model_parameters = QgParams(dynamic_T=True)"
   ]
  },
  {
   "cell_type": "code",
   "execution_count": null,
   "id": "a2a8e7c1",
   "metadata": {},
   "outputs": [],
   "source": [
    "model_parameters.set_atmospheric_channel_fourier_modes(2, 2, mode=\"symbolic\")\n",
    "# Mode truncation at the wavenumber 2 in the x and at the \n",
    "# wavenumber 4 in the y spatial coordinates for the ocean\n",
    "model_parameters.set_oceanic_basin_fourier_modes(2, 4, mode=\"symbolic\")"
   ]
  },
  {
   "cell_type": "code",
   "execution_count": null,
   "id": "006f3c7d",
   "metadata": {},
   "outputs": [],
   "source": [
    "model_parameters.symbolic_params"
   ]
  },
  {
   "cell_type": "code",
   "execution_count": null,
   "id": "8500ea89",
   "metadata": {},
   "outputs": [],
   "source": [
    "from qgs.inner_products.symbolic import AtmosphericSymbolicInnerProducts, OceanicSymbolicInnerProducts\n",
    "from qgs.tensors.qgtensor import QgsTensor, QgsTensorDynamicT, QgsTensorT4\n",
    "from qgs.tensors.symbolic_qgtensor import SymbolicTensorLinear, SymbolicTensorDynamicT\n",
    "from qgs.tensors.symbolic_qgtensor import _shift_dict_keys, _add_to_dict"
   ]
  },
  {
   "cell_type": "code",
   "execution_count": null,
   "id": "6112c83a",
   "metadata": {
    "scrolled": true
   },
   "outputs": [],
   "source": [
    "%%time\n",
    "# Takes ~5 mins\n",
    "# atm_ip = AtmosphericSymbolicInnerProducts(model_parameters)\n",
    "# ocn_ip_stored = OceanicSymbolicInnerProducts(model_parameters, stored=True, return_symbolic=True)\n",
    "ocn_ip = OceanicSymbolicInnerProducts(model_parameters, stored=False, return_symbolic=True)"
   ]
  },
  {
   "cell_type": "code",
   "execution_count": null,
   "id": "35d77653",
   "metadata": {
    "scrolled": true
   },
   "outputs": [],
   "source": [
    "%%time\n",
    "# Takes ~5 mins\n",
    "# atm_ip_stored = AtmosphericSymbolicInnerProducts(model_parameters, return_symbolic=True)\n",
    "atm_ip = AtmosphericSymbolicInnerProducts(model_parameters, stored=False, return_symbolic=True)"
   ]
  },
  {
   "cell_type": "code",
   "execution_count": null,
   "id": "70086b90",
   "metadata": {},
   "outputs": [],
   "source": [
    "# atm_ip_stored.save_to_file('temp_atm_sym_de.ip')\n",
    "# ocn_ip_stored.save_to_file('temp_ocn_sym_de.ip')"
   ]
  },
  {
   "cell_type": "code",
   "execution_count": null,
   "id": "ea85360f",
   "metadata": {
    "scrolled": true
   },
   "outputs": [],
   "source": [
    "atm_loaded = AtmosphericSymbolicInnerProducts(model_parameters, stored=False, return_symbolic=True)\n",
    "ocn_loaded = OceanicSymbolicInnerProducts(model_parameters, stored=False, return_symbolic=True)"
   ]
  },
  {
   "cell_type": "code",
   "execution_count": null,
   "id": "196d5440",
   "metadata": {},
   "outputs": [],
   "source": [
    "atm_loaded.load_from_file('temp_atm_sym_de.ip')\n",
    "ocn_loaded.load_from_file('temp_ocn_sym_de.ip')"
   ]
  },
  {
   "cell_type": "markdown",
   "id": "d43d341b",
   "metadata": {},
   "source": [
    "## Testing the symbolic_qgtensor"
   ]
  },
  {
   "cell_type": "code",
   "execution_count": null,
   "id": "2e17b891",
   "metadata": {},
   "outputs": [],
   "source": [
    "ten = SymbolicTensorDynamicT(params=model_parameters, atmospheric_inner_products=atm_loaded, oceanic_inner_products=ocn_loaded)"
   ]
  },
  {
   "cell_type": "code",
   "execution_count": null,
   "id": "a64d4acf",
   "metadata": {
    "scrolled": true
   },
   "outputs": [],
   "source": [
    "_, _, ten_num = create_tendencies(model_parameters, return_qgtensor=True)"
   ]
  },
  {
   "cell_type": "code",
   "execution_count": null,
   "id": "8ed132e4",
   "metadata": {
    "scrolled": true
   },
   "outputs": [],
   "source": [
    "# ten.test_tensor_numerically(tol=1e-9)"
   ]
  },
  {
   "cell_type": "code",
   "execution_count": null,
   "id": "c6dd6324",
   "metadata": {
    "scrolled": true
   },
   "outputs": [],
   "source": [
    "# atm_num = AtmosphericSymbolicInnerProducts(model_parameters, stored=True)\n",
    "# ocn_num = OceanicSymbolicInnerProducts(model_parameters, stored=True)\n",
    "\n",
    "# ocn_num_ns = OceanicSymbolicInnerProducts(model_parameters, stored=False)"
   ]
  },
  {
   "cell_type": "code",
   "execution_count": null,
   "id": "6fec84f6",
   "metadata": {},
   "outputs": [],
   "source": [
    "model_parameters.ground_basis is None"
   ]
  },
  {
   "cell_type": "code",
   "execution_count": null,
   "id": "e38656d8",
   "metadata": {},
   "outputs": [],
   "source": [
    "from qgs.functions.symbolic_output import create_symbolic_equations, translate_equations"
   ]
  },
  {
   "cell_type": "code",
   "execution_count": null,
   "id": "06ef5ad8",
   "metadata": {},
   "outputs": [],
   "source": [
    "model_parameters.dynamic_T"
   ]
  },
  {
   "cell_type": "code",
   "execution_count": null,
   "id": "c73f1cd9",
   "metadata": {
    "scrolled": true
   },
   "outputs": [],
   "source": [
    "%%time\n",
    "f = create_symbolic_equations(model_parameters, atm_loaded, ocn_loaded)"
   ]
  },
  {
   "cell_type": "code",
   "execution_count": null,
   "id": "05754843",
   "metadata": {},
   "outputs": [],
   "source": [
    "python_lang_translation = {\n",
    "    'sqrt': 'math.sqrt',\n",
    "    'pi': 'math.pi'\n",
    "}"
   ]
  },
  {
   "cell_type": "code",
   "execution_count": null,
   "id": "ef01deb1",
   "metadata": {},
   "outputs": [],
   "source": [
    "def translate_equations_my(equations, params, language='python'):\n",
    "\n",
    "    _base_file_path = ''\n",
    "    if language == 'python':\n",
    "        file_ext = '.py'\n",
    "        base_file = _base_file_path + file_ext\n",
    "\n",
    "        # translate mathematical operations\n",
    "        str_eq = dict()\n",
    "        for i in range(1, params.ndim):\n",
    "            print(i)\n",
    "            temp_str = str(equations[i])\n",
    "            for k in python_lang_translation.keys():\n",
    "                temp_str = temp_str.replace(k, python_lang_translation[k])\n",
    "            str_eq[i] = temp_str\n",
    "    return str_eq"
   ]
  },
  {
   "cell_type": "code",
   "execution_count": null,
   "id": "685b443a",
   "metadata": {},
   "outputs": [],
   "source": [
    "f[0]"
   ]
  },
  {
   "cell_type": "code",
   "execution_count": null,
   "id": "2b316068",
   "metadata": {},
   "outputs": [],
   "source": [
    "translate_equations_my(f[0], model_parameters)"
   ]
  },
  {
   "cell_type": "code",
   "execution_count": null,
   "id": "fba4bd18",
   "metadata": {},
   "outputs": [],
   "source": [
    "len(f)"
   ]
  },
  {
   "cell_type": "code",
   "execution_count": null,
   "id": "415e4b38",
   "metadata": {},
   "outputs": [],
   "source": []
  }
 ],
 "metadata": {
  "kernelspec": {
   "display_name": "Python 3 (ipykernel)",
   "language": "python",
   "name": "python3"
  },
  "language_info": {
   "codemirror_mode": {
    "name": "ipython",
    "version": 3
   },
   "file_extension": ".py",
   "mimetype": "text/x-python",
   "name": "python",
   "nbconvert_exporter": "python",
   "pygments_lexer": "ipython3",
   "version": "3.8.10"
  }
 },
 "nbformat": 4,
 "nbformat_minor": 5
}
