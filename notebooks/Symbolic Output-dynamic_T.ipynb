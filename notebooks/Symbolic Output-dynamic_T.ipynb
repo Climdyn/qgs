{
 "cells": [
  {
   "cell_type": "code",
   "execution_count": null,
   "id": "12f59a3f",
   "metadata": {},
   "outputs": [],
   "source": [
    "import sys, os\n",
    "sys.path.extend([os.path.abspath('../')])"
   ]
  },
  {
   "cell_type": "code",
   "execution_count": null,
   "id": "9b3814d5",
   "metadata": {},
   "outputs": [],
   "source": [
    "import numpy as np\n",
    "import sympy as sy\n",
    "import sparse as sp\n",
    "import math\n",
    "from numba import njit"
   ]
  },
  {
   "cell_type": "code",
   "execution_count": null,
   "id": "7711e102",
   "metadata": {},
   "outputs": [],
   "source": [
    "from qgs.params.params import QgParams\n",
    "from qgs.functions.tendencies import create_tendencies\n",
    "from qgs.functions.symbolic_tendencies import create_symbolic_equations"
   ]
  },
  {
   "cell_type": "code",
   "execution_count": null,
   "id": "8500ea89",
   "metadata": {},
   "outputs": [],
   "source": [
    "from qgs.inner_products.symbolic import AtmosphericSymbolicInnerProducts, OceanicSymbolicInnerProducts\n",
    "from qgs.tensors.qgtensor import QgsTensor, QgsTensorDynamicT, QgsTensorT4\n",
    "from qgs.tensors.symbolic_qgtensor import SymbolicQgsTensor, SymbolicQgsTensorDynamicT"
   ]
  },
  {
   "cell_type": "code",
   "execution_count": null,
   "id": "bf632fac",
   "metadata": {},
   "outputs": [],
   "source": [
    "model_parameters = QgParams({'n': 1.5}, dynamic_T=True)"
   ]
  },
  {
   "cell_type": "code",
   "execution_count": null,
   "id": "a2a8e7c1",
   "metadata": {},
   "outputs": [],
   "source": [
    "model_parameters.set_atmospheric_channel_fourier_modes(2, 2, mode=\"symbolic\")\n",
    "# Mode truncation at the wavenumber 2 in the x and at the \n",
    "# wavenumber 4 in the y spatial coordinates for the ocean\n",
    "model_parameters.set_oceanic_basin_fourier_modes(2, 4, mode=\"symbolic\")"
   ]
  },
  {
   "cell_type": "code",
   "execution_count": null,
   "id": "d2ef57b2",
   "metadata": {},
   "outputs": [],
   "source": [
    "# Setting MAOOAM parameters according to the publication linked above\n",
    "model_parameters.set_params({'kd': 0.0290, 'kdp': 0.0290, 'r': 1.e-7,\n",
    "                             'h': 136.5, 'd': 1.1e-7})\n",
    "model_parameters.atemperature_params.set_params({'eps': 0.7, 'hlambda': 15.06})\n",
    "model_parameters.gotemperature_params.set_params({'gamma': 5.6e8})"
   ]
  },
  {
   "cell_type": "code",
   "execution_count": null,
   "id": "8d9733db",
   "metadata": {},
   "outputs": [],
   "source": [
    "model_parameters.atemperature_params.set_insolation(103., 0)\n",
    "model_parameters.atemperature_params.set_insolation(103., 1)\n",
    "model_parameters.gotemperature_params.set_insolation(310., 0)\n",
    "model_parameters.gotemperature_params.set_insolation(310., 1)"
   ]
  },
  {
   "cell_type": "code",
   "execution_count": null,
   "id": "5c0fbea9",
   "metadata": {},
   "outputs": [],
   "source": [
    "model_parameters.print_params()"
   ]
  },
  {
   "cell_type": "code",
   "execution_count": null,
   "id": "f3b012e9",
   "metadata": {},
   "outputs": [],
   "source": [
    "f_num, Df = create_tendencies(model_parameters)"
   ]
  },
  {
   "cell_type": "code",
   "execution_count": null,
   "id": "8552c7a9",
   "metadata": {},
   "outputs": [],
   "source": [
    "f_sym, jac_sym = create_symbolic_equations(model_parameters, language='python', continuation_variables=[model_parameters.atemperature_params.eps, model_parameters.atmospheric_params.kd], return_jacobian=True)"
   ]
  },
  {
   "cell_type": "code",
   "execution_count": null,
   "id": "0a5bff28",
   "metadata": {},
   "outputs": [],
   "source": [
    "print(f_sym)"
   ]
  },
  {
   "cell_type": "code",
   "execution_count": null,
   "id": "ded58816",
   "metadata": {},
   "outputs": [],
   "source": [
    "print(jac_sym)"
   ]
  },
  {
   "cell_type": "code",
   "execution_count": null,
   "id": "469ff2a6",
   "metadata": {},
   "outputs": [],
   "source": [
    "exec(f_sym)"
   ]
  },
  {
   "cell_type": "code",
   "execution_count": null,
   "id": "cd4adc73",
   "metadata": {},
   "outputs": [],
   "source": [
    "from qgs.integrators.integrator import RungeKuttaIntegrator, RungeKuttaTglsIntegrator\n",
    "import matplotlib.pyplot as plt"
   ]
  },
  {
   "cell_type": "code",
   "execution_count": null,
   "id": "59922db7",
   "metadata": {},
   "outputs": [],
   "source": [
    "eps = model_parameters.atemperature_params.eps\n",
    "kd = model_parameters.atmospheric_params.kd"
   ]
  },
  {
   "cell_type": "code",
   "execution_count": null,
   "id": "edc906e8",
   "metadata": {},
   "outputs": [],
   "source": [
    "@njit\n",
    "def f_fix(t, U):\n",
    "    return f(t, U, eps, kd)"
   ]
  },
  {
   "cell_type": "code",
   "execution_count": null,
   "id": "060ee686",
   "metadata": {
    "scrolled": true
   },
   "outputs": [],
   "source": [
    "integrator = RungeKuttaIntegrator()\n",
    "integrator.set_func(f_fix)"
   ]
  },
  {
   "cell_type": "code",
   "execution_count": null,
   "id": "d8935949",
   "metadata": {
    "scrolled": true
   },
   "outputs": [],
   "source": [
    "integrator_num = RungeKuttaIntegrator()\n",
    "integrator_num.set_func(f_num)"
   ]
  },
  {
   "cell_type": "code",
   "execution_count": null,
   "id": "919f59cc",
   "metadata": {},
   "outputs": [],
   "source": [
    "ic = np.array([ 3.84101549e-02, -8.29674554e-03,  3.04587364e-02,  2.80766373e-02,\n",
    "       -9.14885177e-03, -9.17520676e-04, -1.76115081e-02,  1.32010146e-02,\n",
    "        1.62515224e-02,  1.08600254e-03,  1.53918671e+00,  4.13205067e-02,\n",
    "       -9.25169842e-04,  4.01449139e-03,  6.97326597e-03, -9.93383832e-03,\n",
    "        8.88594931e-03, -6.07097456e-03,  4.34490969e-03,  4.19834122e-03,\n",
    "       -2.91974161e-03,  1.03085300e-05,  5.98444985e-04, -2.57753313e-05,\n",
    "        5.22115566e-06, -3.01445438e-05,  3.26249104e-04, -1.92171554e-05,\n",
    "        1.38469482e-05,  3.17552667e+00,  2.46854576e-03,  1.44249578e-01,\n",
    "       -5.94828283e-03,  2.34242352e-02, -3.08095487e-03,  9.15501463e-02,\n",
    "        1.17932987e-03, -4.34659450e-05])"
   ]
  },
  {
   "cell_type": "code",
   "execution_count": null,
   "id": "76c9285a",
   "metadata": {},
   "outputs": [],
   "source": [
    "%%time\n",
    "integrator.integrate(0., 1000000., 0.1, ic=ic, write_steps=10)\n",
    "reference_time, reference_traj = integrator.get_trajectories()"
   ]
  },
  {
   "cell_type": "code",
   "execution_count": null,
   "id": "b1d3ca4e",
   "metadata": {},
   "outputs": [],
   "source": [
    "%%time\n",
    "integrator_num.integrate(0., 1000000., 0.1, ic=ic, write_steps=10)\n",
    "reference_time_num, reference_traj_num = integrator_num.get_trajectories()"
   ]
  },
  {
   "cell_type": "code",
   "execution_count": null,
   "id": "fb7b11cf",
   "metadata": {},
   "outputs": [],
   "source": [
    "varx = 22\n",
    "vary = 31\n",
    "plt.figure(figsize=(10, 8))\n",
    "\n",
    "plt.plot(reference_traj[varx], reference_traj[vary], marker='o', ms=0.07, ls='')\n",
    "plt.plot(reference_traj_num[varx], reference_traj_num[vary], marker='o', ms=0.07, ls='')\n",
    "\n",
    "plt.xlabel('$'+model_parameters.latex_var_string[varx]+'$')\n",
    "plt.ylabel('$'+model_parameters.latex_var_string[vary]+'$');"
   ]
  },
  {
   "cell_type": "code",
   "execution_count": null,
   "id": "5e3b5782",
   "metadata": {},
   "outputs": [],
   "source": [
    "plt.figure(figsize=(12, 8))\n",
    "\n",
    "plt.plot(reference_traj[varx, :])\n",
    "plt.plot(reference_traj_num[varx, :])\n",
    "plt.show()"
   ]
  },
  {
   "cell_type": "code",
   "execution_count": null,
   "id": "8078daf2",
   "metadata": {},
   "outputs": [],
   "source": [
    "plt.figure(figsize=(12, 8))\n",
    "\n",
    "plt.plot(reference_traj_num[vary, :])\n",
    "plt.plot(reference_traj[vary, :])\n",
    "plt.show()"
   ]
  },
  {
   "cell_type": "code",
   "execution_count": null,
   "id": "6ed354fa",
   "metadata": {},
   "outputs": [],
   "source": [
    "plt.figure(figsize=(12, 8))\n",
    "\n",
    "plt.plot(reference_traj_num[varx, ::1000])\n",
    "plt.plot(reference_traj[varx, ::1000])\n",
    "plt.show()"
   ]
  },
  {
   "cell_type": "code",
   "execution_count": null,
   "id": "457b65e1",
   "metadata": {},
   "outputs": [],
   "source": [
    "tendencies_sym = np.empty((38, reference_time[::1000].shape[0]))\n",
    "for n, x in enumerate(reference_time[::1000]):\n",
    "    x = reference_traj_num[:, n]\n",
    "    tendencies_sym[:, n] = f_fix(0, x)"
   ]
  },
  {
   "cell_type": "code",
   "execution_count": null,
   "id": "7ced08cb",
   "metadata": {},
   "outputs": [],
   "source": [
    "tendencies_sym.shape"
   ]
  },
  {
   "cell_type": "code",
   "execution_count": null,
   "id": "bd90544e",
   "metadata": {},
   "outputs": [],
   "source": [
    "tendencies_num = np.empty_like(tendencies_sym)\n",
    "for n, x in enumerate(reference_time[::1000]):\n",
    "    x = reference_traj_num[:, n]\n",
    "    tendencies_num[:, n] = f_num(0, x)"
   ]
  },
  {
   "cell_type": "code",
   "execution_count": null,
   "id": "e8ed76ce",
   "metadata": {},
   "outputs": [],
   "source": [
    "tendencies_err = tendencies_sym - tendencies_num"
   ]
  },
  {
   "cell_type": "code",
   "execution_count": null,
   "id": "4c2303e5",
   "metadata": {},
   "outputs": [],
   "source": [
    "plt.figure(figsize=(12, 8))\n",
    "varx = 10\n",
    "plt.plot(tendencies_err[:, :].T)\n",
    "\n",
    "plt.show()"
   ]
  },
  {
   "cell_type": "code",
   "execution_count": null,
   "id": "0cdf273c",
   "metadata": {},
   "outputs": [],
   "source": [
    "plt.figure(figsize=(12, 8))\n",
    "varx = [1, 12]\n",
    "plt.plot(tendencies_err[varx, :].T)\n",
    "\n",
    "plt.show()"
   ]
  },
  {
   "cell_type": "code",
   "execution_count": null,
   "id": "4adeeca5",
   "metadata": {},
   "outputs": [],
   "source": []
  }
 ],
 "metadata": {
  "kernelspec": {
   "display_name": "Python 3 (ipykernel)",
   "language": "python",
   "name": "python3"
  },
  "language_info": {
   "codemirror_mode": {
    "name": "ipython",
    "version": 3
   },
   "file_extension": ".py",
   "mimetype": "text/x-python",
   "name": "python",
   "nbconvert_exporter": "python",
   "pygments_lexer": "ipython3",
   "version": "3.8.10"
  }
 },
 "nbformat": 4,
 "nbformat_minor": 5
}
