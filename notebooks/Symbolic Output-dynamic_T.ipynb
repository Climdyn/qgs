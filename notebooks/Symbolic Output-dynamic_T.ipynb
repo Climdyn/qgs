{
 "cells": [
  {
   "cell_type": "code",
   "execution_count": null,
   "id": "12f59a3f",
   "metadata": {},
   "outputs": [],
   "source": [
    "import sys, os\n",
    "sys.path.extend([os.path.abspath('../')])"
   ]
  },
  {
   "cell_type": "code",
   "execution_count": null,
   "id": "9b3814d5",
   "metadata": {},
   "outputs": [],
   "source": [
    "import numpy as np\n",
    "import sympy as sy\n",
    "import sparse as sp\n",
    "import math"
   ]
  },
  {
   "cell_type": "code",
   "execution_count": null,
   "id": "7711e102",
   "metadata": {},
   "outputs": [],
   "source": [
    "from qgs.params.params import QgParams\n",
    "from qgs.functions.tendencies import create_tendencies"
   ]
  },
  {
   "cell_type": "code",
   "execution_count": null,
   "id": "bf632fac",
   "metadata": {},
   "outputs": [],
   "source": [
    "model_parameters = QgParams(dynamic_T=True)"
   ]
  },
  {
   "cell_type": "code",
   "execution_count": null,
   "id": "a2a8e7c1",
   "metadata": {},
   "outputs": [],
   "source": [
    "model_parameters.set_atmospheric_channel_fourier_modes(2, 2, mode=\"symbolic\")\n",
    "# Mode truncation at the wavenumber 2 in the x and at the \n",
    "# wavenumber 4 in the y spatial coordinates for the ocean\n",
    "model_parameters.set_oceanic_basin_fourier_modes(2, 4, mode=\"symbolic\")"
   ]
  },
  {
   "cell_type": "code",
   "execution_count": null,
   "id": "006f3c7d",
   "metadata": {},
   "outputs": [],
   "source": [
    "model_parameters.symbolic_params"
   ]
  },
  {
   "cell_type": "code",
   "execution_count": null,
   "id": "8500ea89",
   "metadata": {},
   "outputs": [],
   "source": [
    "from qgs.inner_products.symbolic import AtmosphericSymbolicInnerProducts, OceanicSymbolicInnerProducts\n",
    "from qgs.tensors.qgtensor import QgsTensor, QgsTensorDynamicT, QgsTensorT4\n",
    "from qgs.tensors.symbolic_qgtensor import SymbolicTensorLinear, SymbolicTensorDynamicT\n",
    "from qgs.tensors.symbolic_qgtensor import _symbolic_tensordot, _shift_dict_keys, _add_to_dict"
   ]
  },
  {
   "cell_type": "code",
   "execution_count": null,
   "id": "6112c83a",
   "metadata": {
    "scrolled": true
   },
   "outputs": [],
   "source": [
    "%%time\n",
    "# atm_ip = AtmosphericSymbolicInnerProducts(model_parameters)\n",
    "# ocn_ip_stored = OceanicSymbolicInnerProducts(model_parameters, stored=True, return_symbolic=True)\n",
    "ocn_ip = OceanicSymbolicInnerProducts(model_parameters, stored=False, return_symbolic=True)"
   ]
  },
  {
   "cell_type": "code",
   "execution_count": null,
   "id": "35d77653",
   "metadata": {
    "scrolled": true
   },
   "outputs": [],
   "source": [
    "%%time\n",
    "# atm_ip_stored = AtmosphericSymbolicInnerProducts(model_parameters, return_symbolic=True)\n",
    "atm_ip = AtmosphericSymbolicInnerProducts(model_parameters, stored=False, return_symbolic=True)"
   ]
  },
  {
   "cell_type": "code",
   "execution_count": null,
   "id": "70086b90",
   "metadata": {},
   "outputs": [],
   "source": [
    "# atm_ip_stored.save_to_file('temp_atm_sym_de.ip')\n",
    "# ocn_ip_stored.save_to_file('temp_ocn_sym_de.ip')"
   ]
  },
  {
   "cell_type": "code",
   "execution_count": null,
   "id": "ea85360f",
   "metadata": {
    "scrolled": true
   },
   "outputs": [],
   "source": [
    "atm_loaded = AtmosphericSymbolicInnerProducts(model_parameters, stored=False, return_symbolic=True)\n",
    "ocn_loaded = OceanicSymbolicInnerProducts(model_parameters, stored=False, return_symbolic=True)"
   ]
  },
  {
   "cell_type": "code",
   "execution_count": null,
   "id": "196d5440",
   "metadata": {},
   "outputs": [],
   "source": [
    "atm_loaded.load_from_file('temp_atm_sym_de.ip')\n",
    "ocn_loaded.load_from_file('temp_ocn_sym_de.ip')"
   ]
  },
  {
   "cell_type": "markdown",
   "id": "d43d341b",
   "metadata": {},
   "source": [
    "## Testing the symbolic_qgtensor"
   ]
  },
  {
   "cell_type": "code",
   "execution_count": null,
   "id": "2e17b891",
   "metadata": {},
   "outputs": [],
   "source": [
    "ten = SymbolicTensorDynamicT(params=model_parameters, atmospheric_inner_products=atm_loaded, oceanic_inner_products=ocn_loaded)"
   ]
  },
  {
   "cell_type": "code",
   "execution_count": null,
   "id": "cf668cb9",
   "metadata": {
    "scrolled": false
   },
   "outputs": [],
   "source": [
    "%%time\n",
    "ten.compute_tensor()"
   ]
  },
  {
   "cell_type": "code",
   "execution_count": null,
   "id": "775c3dcd",
   "metadata": {},
   "outputs": [],
   "source": [
    "ten.tensor.shape"
   ]
  },
  {
   "cell_type": "code",
   "execution_count": null,
   "id": "7f40da39",
   "metadata": {
    "scrolled": true
   },
   "outputs": [],
   "source": [
    "_, _, num_ten = create_tendencies(model_parameters, return_qgtensor=True)"
   ]
  },
  {
   "cell_type": "code",
   "execution_count": null,
   "id": "8ed132e4",
   "metadata": {
    "scrolled": true
   },
   "outputs": [],
   "source": [
    "subs_list = ten.test_tensor_numerically(tol=1e-12)"
   ]
  },
  {
   "cell_type": "code",
   "execution_count": null,
   "id": "3aa7adca",
   "metadata": {},
   "outputs": [],
   "source": [
    "ten.print_tensor(np.array(ten.subs_tensor()).astype(np.float64))"
   ]
  },
  {
   "cell_type": "code",
   "execution_count": null,
   "id": "bd34e996",
   "metadata": {},
   "outputs": [],
   "source": [
    "ten.print_tensor(num_ten.tensor.todense())"
   ]
  },
  {
   "cell_type": "code",
   "execution_count": null,
   "id": "45e42d95",
   "metadata": {},
   "outputs": [],
   "source": []
  }
 ],
 "metadata": {
  "kernelspec": {
   "display_name": "Python 3 (ipykernel)",
   "language": "python",
   "name": "python3"
  },
  "language_info": {
   "codemirror_mode": {
    "name": "ipython",
    "version": 3
   },
   "file_extension": ".py",
   "mimetype": "text/x-python",
   "name": "python",
   "nbconvert_exporter": "python",
   "pygments_lexer": "ipython3",
   "version": "3.8.10"
  }
 },
 "nbformat": 4,
 "nbformat_minor": 5
}
